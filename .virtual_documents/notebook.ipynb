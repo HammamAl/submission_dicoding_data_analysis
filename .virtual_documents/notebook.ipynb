

















import pandas as pd
import numpy as np
import matplotlib.pyplot as plt
import seaborn as sns
from datetime import datetime, timedelta
import os
import warnings
warnings.filterwarnings('ignore')

















customers_df = pd.read_csv('data/customers_dataset.csv')
customers_df.head()





geolocation_df = pd.read_csv('data/geolocation_dataset.csv')
geolocation_df.head()





order_items_df = pd.read_csv('data/order_items_dataset.csv')
order_items_df.head()





order_payments_df = pd.read_csv('data/order_payments_dataset.csv')
order_payments_df.head()





order_reviews_df = pd.read_csv('data/order_reviews_dataset.csv')
order_reviews_df.head()





orders_df = pd.read_csv('data/orders_dataset.csv')
orders_df.head()





product_category_translation_df = pd.read_csv('data/product_category_name_translation.csv')
product_category_translation_df.head()





products_df = pd.read_csv('data/products_dataset.csv')
products_df.head()





sellers_df = pd.read_csv('data/sellers_dataset.csv')
sellers_df.head()




















order_reviews_df.info()





order_reviews_df.isnull().sum()





order_reviews_df['review_score'].value_counts().sort_index()





print("reviews:", order_reviews_df.shape[0])
print("Unique reviewed orders:", order_reviews_df['order_id'].nunique())








orders_df.info()





orders_df.isnull().sum()





print("date range:")
print("Min date:", orders_df['order_purchase_timestamp'].min())
print("Max date:", orders_df['order_purchase_timestamp'].max())





print("orders:", orders_df['order_id'].nunique())








customers_df.info()





print("customers:", customers_df['customer_unique_id'].nunique())
print("Unique customer IDs:", customers_df['customer_id'].nunique())








products_df.info()


orders_df.isnull().sum()








sellers_df.info()








geolocation_df.info()








order_payments_df.info()








product_category_translation_df.info()








order_items_df.info()






































date_columns_orders = ['order_purchase_timestamp', 'order_approved_at', 
                       'order_delivered_carrier_date', 'order_delivered_customer_date', 
                       'order_estimated_delivery_date']

for col in date_columns_orders:
    orders_df[col] = pd.to_datetime(orders_df[col], errors='coerce')

date_columns_reviews = ['review_creation_date', 'review_answer_timestamp']

for col in date_columns_reviews:
    order_reviews_df[col] = pd.to_datetime(order_reviews_df[col], errors='coerce')






orders_clean = orders_df.copy()
reviews_clean = order_reviews_df.copy()





print("values in key date columns before cleaning:")
print(orders_clean[date_columns_orders].isnull().sum())





delivery_analysis_df = orders_clean.dropna(subset=['order_purchase_timestamp', 'order_delivered_customer_date'])
print(f"with complete delivery data: {delivery_analysis_df.shape[0]}")
print("Percentage of orders with complete delivery data: {:.2f}%".format(
    delivery_analysis_df.shape[0] / orders_clean.shape[0] * 100))























max_date = orders_clean['order_purchase_timestamp'].max()
six_months_ago = max_date - pd.Timedelta(days=180)
recent_orders = orders_clean[orders_clean['order_purchase_timestamp'] >= six_months_ago].copy()

print("Jumlah pesanan dalam 6 bulan terakhir:", recent_orders.shape[0])





recent_orders['delivery_time_days'] = (recent_orders['order_delivered_customer_date'] - 
                                      recent_orders['order_purchase_timestamp']).dt.total_seconds() / (24*60*60)





delivery_time_df = recent_orders.dropna(subset=['delivery_time_days'])
delivery_time_df = delivery_time_df[delivery_time_df['delivery_time_days'] >= 0]
print("Jumlah pesanan dengan waktu pengiriman valid:", delivery_time_df.shape[0])





delivery_review_df = pd.merge(delivery_time_df, reviews_clean, on='order_id', how='inner')

print("Jumlah pesanan dengan waktu pengiriman dan review:", delivery_review_df.shape[0])





print("waktu pengiriman (hari):")
print(delivery_review_df['delivery_time_days'].describe())





print("rating:")
print(delivery_review_df['review_score'].value_counts().sort_index())
print("distribusi rating:")
print(delivery_review_df['review_score'].value_counts(normalize=True).sort_index() * 100)





correlation = delivery_review_df['delivery_time_days'].corr(delivery_review_df['review_score'])
print(f"antara waktu pengiriman dan rating: correlation:.4f")





delivery_by_rating = delivery_review_df.groupby('review_score')['delivery_time_days'].agg(['mean', 'median', 'count']).reset_index()
print("waktu pengiriman per rating:")
delivery_by_rating








delivery_review_df['delivery_accuracy_days'] = (delivery_review_df['order_delivered_customer_date'] - 
                                      delivery_review_df['order_estimated_delivery_date']).dt.total_seconds() / (24*60*60)





delivery_review_df['delivery_status'] = pd.cut(
    delivery_review_df['delivery_accuracy_days'],
    bins=[-float('inf'), -3, -1, 1, 3, float('inf')],
    labels=['Very Early (>3 days)', 'Early (1-3 days)', 'On Time (±1 day)', 'Late (1-3 days)', 'Very Late (>3 days)']
)





delivery_status_rating = delivery_review_df.groupby('delivery_status')['review_score'].agg(['mean', 'median', 'count']).reset_index()
print("rating berdasarkan status ketepatan pengiriman:")
delivery_status_rating





delivery_status_counts = delivery_review_df['delivery_status'].value_counts()
print("status ketepatan pengiriman:")
print(delivery_status_counts)
print("\n")
print("distribusi status ketepatan pengiriman:")
print(delivery_status_counts / delivery_status_counts.sum() * 100)








product_delivery_df = pd.merge(delivery_review_df, order_items_df, on='order_id', how='inner')
product_delivery_df = pd.merge(product_delivery_df, products_df, on='product_id', how='inner')
product_delivery_df = pd.merge(
    product_delivery_df,
    product_category_translation_df,
    left_on='product_category_name',
    right_on='product_category_name',
    how='left'
)





category_analysis = product_delivery_df.groupby('product_category_name_english').agg({
    'review_score': ['mean', 'count'],
    'delivery_time_days': ['mean', 'median']
})





category_analysis.columns = [
    col if isinstance(col, str) else '_'.join(col).strip()
    for col in category_analysis.columns.values
]





category_analysis_filtered = category_analysis[category_analysis['review_score_count'] >= 30].copy()





category_analysis_filtered_sorted = category_analysis_filtered.sort_values('review_score_mean')
category_analysis_filtered_sorted = category_analysis_filtered_sorted.reset_index()

print("produk dengan rating terendah (min 30 pesanan):")
category_analysis_filtered_sorted[['product_category_name_english', 'review_score_mean', 
                                        'delivery_time_days_mean', 'review_score_count']].head(10)








customer_orders_df = pd.merge(orders_clean, customers_df, on='customer_id', how='inner')
customer_orders_df['order_purchase_timestamp'] = pd.to_datetime(customer_orders_df['order_purchase_timestamp'])





customer_orders_reviews_df = pd.merge(customer_orders_df, reviews_clean, on='order_id', how='inner')





negative_reviews_df = customer_orders_reviews_df[customer_orders_reviews_df['review_score'].isin([1, 2])].copy()
negative_reviews_df['review_creation_date'] = pd.to_datetime(negative_reviews_df['review_creation_date'])





merged = customer_orders_df.merge(
    negative_reviews_df[['customer_unique_id', 'order_id', 'review_creation_date', 'review_score']],
    on='customer_unique_id',
    suffixes=('', '_review')
)
filtered = merged[
    (merged['order_purchase_timestamp'] > merged['review_creation_date']) &
    (merged['order_id'] != merged['order_id_review'])
].copy()
filtered['days_to_repurchase'] = (filtered['order_purchase_timestamp'] - filtered['review_creation_date']).dt.days






nearest = filtered.sort_values(['customer_unique_id', 'order_id_review', 'days_to_repurchase'])
nearest = nearest.groupby(['customer_unique_id', 'order_id_review'], as_index=False).first()
nearest['repurchased_30days'] = nearest['days_to_repurchase'] <= 30





repurchase_df = negative_reviews_df.merge(
    nearest[['customer_unique_id', 'order_id_review', 'repurchased_30days', 'days_to_repurchase']],
    left_on=['customer_unique_id', 'order_id'],
    right_on=['customer_unique_id', 'order_id_review'],
    how='left'
)
repurchase_df['days_to_repurchase'] = repurchase_df['days_to_repurchase'].astype(object).where(
    pd.notnull(repurchase_df['days_to_repurchase']), None
)





total_negative_reviews = repurchase_df.shape[0]
total_repurchase = repurchase_df['repurchased_30days'].sum()
repurchase_rate = (total_repurchase / total_negative_reviews) * 100

print(f"Total review negatif: {total_negative_reviews}")
print(f"Total pembelian ulang dalam 30 hari: {int(total_repurchase)}")
print(f"Persentase pembelian ulang setelah review negatif: {repurchase_rate:.2f}%")





print("Distribusi hari hingga pembelian ulang (hanya yang repurchase):")
print(repurchase_df[repurchase_df['repurchased_30days'] == True]['days_to_repurchase'].describe())





repurchase_by_rating = (
    repurchase_df.groupby('review_score')['repurchased_30days']
    .agg(['sum', 'count'])
    .reset_index()
)
repurchase_by_rating['repurchase_pct'] = (repurchase_by_rating['sum'] / repurchase_by_rating['count']) * 100





print(f"Total review negatif: total_negative_reviews")
print(f"Total pembelian ulang dalam 30 hari: {int(total_repurchase)}")
print(f"Persentase pembelian ulang setelah review negatif: {repurchase_rate:.2f}%")
print("Distribusi hari hingga pembelian ulang (hanya yang repurchase):")
print(repurchase_df[repurchase_df['repurchased_30days'] == True]['days_to_repurchase'].describe())

print("pembelian ulang dalam 30 hari berdasarkan rating:")
for rating in [1, 2]:
    row = repurchase_by_rating[repurchase_by_rating['review_score'] == rating]
    if not row.empty:
        pct = row['repurchase_pct'].values[0]
        print(f"  - Rating {rating} bintang: {pct:.2f}")
    else:
        print(f"  - Rating {rating} bintang: Data tidak tersedia")








negative_product_df = (
    negative_reviews_df
    .merge(order_items_df, on='order_id', how='inner')
    .merge(products_df, on='product_id', how='inner')
    .merge(product_category_translation_df, on='product_category_name', how='left')
)





negative_category_counts = (
    negative_product_df['product_category_name_english']
    .value_counts()
    .reset_index()
    .rename(columns={'index': 'product_category_name_english', 'count': 'negative_review_count'})
)





total_reviews_by_category = (
    product_delivery_df
    .groupby('product_category_name_english')['review_score']
    .count()
    .reset_index()
    .rename(columns={'review_score': 'total_review_count'})
)





category_negative_analysis = negative_category_counts.merge(
    total_reviews_by_category, on='product_category_name_english', how='left'
)





category_negative_analysis['negative_review_pct'] = (
    category_negative_analysis['negative_review_count'] / category_negative_analysis['total_review_count'] * 100
)





category_negative_analysis_filtered = category_negative_analysis[category_negative_analysis['total_review_count'] >= 20]
category_negative_analysis_filtered_sorted = category_negative_analysis_filtered.sort_values('negative_review_pct', ascending=False)

print("produk dengan persentase review negatif tertinggi (min 20 review):")
category_negative_analysis_filtered_sorted.head(10)








repurchase_product_df = (
    repurchase_df
    .merge(negative_product_df[['order_id', 'product_category_name_english']], on='order_id', how='inner')
    .drop_duplicates(subset=['order_id', 'product_category_name_english'])
)





repurchase_by_category = (
    repurchase_product_df
    .groupby('product_category_name_english')['repurchased_30days']
    .agg(['mean', 'count'])
.reset_index()
)
repurchase_by_category['repurchase_pct'] = repurchase_by_category['mean'] * 100





repurchase_by_category_filtered = repurchase_by_category[repurchase_by_category['count'] >= 10]
repurchase_by_category_sorted = repurchase_by_category_filtered.sort_values('repurchase_pct', ascending=False)

print("produk dengan tingkat pembelian ulang tertinggi setelah review negatif (min 10 review):")
repurchase_by_category_sorted[['product_category_name_english', 'repurchase_pct', 'count']].head(10)








repurchasers = repurchase_df[repurchase_df['repurchased_30days'] == True].copy()
if not repurchasers.empty:
    # Distribusi waktu pembelian ulang
    print("waktu pembelian ulang (hari):")
    print(repurchasers['days_to_repurchase'].describe())
    
    # Distribusi frekuensi waktu pembelian ulang
    days_to_repurchase_bins = pd.cut(repurchasers['days_to_repurchase'], 
                                     bins=[0, 5, 10, 15, 20, 25, 30], 
                                     include_lowest=True)
    days_to_repurchase_counts = days_to_repurchase_bins.value_counts().sort_index()
    print("waktu pembelian ulang:")
    print(days_to_repurchase_counts)
    print("distribusi waktu pembelian ulang:")
    print(days_to_repurchase_counts / days_to_repurchase_counts.sum() * 100)








correlation_df = delivery_review_df[['delivery_time_days', 'delivery_accuracy_days', 'review_score']].copy()





correlation_matrix = correlation_df.corr()
print("Korelasi:")
correlation_matrix








delivery_review_df['order_month'] = delivery_review_df['order_purchase_timestamp'].dt.to_period('M')





monthly_ratings = delivery_review_df.groupby('order_month')['review_score'].agg(['mean', 'count']).reset_index()
monthly_ratings['order_month'] = monthly_ratings['order_month'].astype(str)

print("rating rata-rata bulanan:")
monthly_ratings.sort_values('order_month', ascending=False)








payment_review_df = pd.merge(delivery_review_df, order_payments_df, on='order_id', how='inner')





payment_rating = payment_review_df.groupby('payment_type')['review_score'].agg(['mean', 'median', 'count']).reset_index()
payment_rating = payment_rating.sort_values('mean', ascending=False)

print("berdasarkan metode pembayaran:")
payment_rating








delivery_review_with_state = delivery_review_df.merge(customers_df[['customer_id', 'customer_state']], on='customer_id', how='left')


# Analisis rating berdasarkan lokasi pelanggan (state)
state_rating = delivery_review_with_state.groupby('customer_state')['review_score'].agg(['mean', 'count']).reset_index()
state_rating = state_rating[state_rating['count'] >= 50].sort_values('mean')

print("berdasarkan lokasi pelanggan (state):")
state_rating








price_review_df = pd.merge(delivery_review_df, order_items_df, on='order_id', how='inner')





price_review_df['price_category'] = pd.qcut(price_review_df['price'], 
                                          q=5, 
                                          labels=['Very Low', 'Low', 'Medium', 'High', 'Very High'])





price_rating = price_review_df.groupby('price_category')['review_score'].agg(['mean', 'count']).reset_index()

print("berdasarkan kategori harga produk:")
price_rating








print("=== RINGKASAN TEMUAN UTAMA ===")





print(f"1. Korelasi antara waktu pengiriman dan rating: {correlation:.4f}")
print(f"   - Rata-rata waktu pengiriman untuk rating 5: {delivery_by_rating[delivery_by_rating['review_score']==5]['mean'].values[0]:.2f} hari")
print(f"   - Rata-rata waktu pengiriman untuk rating 1: {delivery_by_rating[delivery_by_rating['review_score']==1]['mean'].values[0]:.2f} hari")





on_time_rating = delivery_status_rating[delivery_status_rating['delivery_status']=='On Time (±1 day)']['mean'].values[0]
very_late_rating = delivery_status_rating[delivery_status_rating['delivery_status']=='Very Late (>3 days)']['mean'].values[0]
print(f"2. Pengaruh ketepatan pengiriman:")
print(f"   - Rating rata-rata untuk pengiriman tepat waktu: {on_time_rating:.2f}")
print(f"   - Rating rata-rata untuk pengiriman sangat terlambat: {very_late_rating:.2f}")
print(f"   - Selisih: on_time_rating - {very_late_rating:.2f} poin")





print("3.Kategori produk dengan rating terendah:")
for i, row in category_analysis_filtered_sorted.head(3).iterrows():
    print(f"   - {row.name}: Rating {row['review_score_mean']:.2f}, Waktu pengiriman {row['delivery_time_days_mean']:.2f} hari")





print(f"\n4. Pembelian ulang setelah review negatif:")
print(f"   - {repurchase_rate:.2f}% pelanggan melakukan pembelian ulang dalam 30 hari setelah review negatif")
for rating in [1, 2]:
    row = repurchase_by_rating[repurchase_by_rating['review_score'] == rating]
    if not row.empty:
        pct = row['repurchase_pct'].values[0]
        print(f"   - Rating {rating} bintang: {pct:.2f}%")
    else:
        print(f"   - Rating {rating} bintang: Data tidak tersedia")
if not repurchasers.empty:
    print(f"   - Median waktu pembelian ulang: {repurchasers['days_to_repurchase'].median():.1f} hari")





print("\n5. Kategori dengan tingkat pembelian ulang tertinggi setelah review negatif:")
for i, row in repurchase_by_category_sorted.head(3).iterrows():
    print(f"   - {row['product_category_name_english']}: {row['repurchase_pct']:.2f}% (dari {row['count']} review negatif)")


























plt.figure(figsize=(8,5))
sns.boxplot(x='review_score', y='delivery_time_days', data=delivery_review_df, order=[1,2,3,4,5])
plt.title('Distribusi Waktu Pengiriman per Rating Review (6 Bulan Terakhir)')
plt.xlabel('Review Score')
plt.ylabel('Delivery Time (days)')
plt.tight_layout()
plt.show()








mean_delivery = delivery_review_df.groupby('review_score')['delivery_time_days'].mean().reset_index()
plt.figure(figsize=(6,4))
sns.barplot(x='review_score', y='delivery_time_days', data=mean_delivery, palette='Blues_d')
plt.title('Rata-rata Waktu Pengiriman per Rating')
plt.xlabel('Review Score')
plt.ylabel('Rata-rata Waktu Pengiriman (hari)')
plt.tight_layout()
plt.show()








plt.figure(figsize=(7,4))
sns.barplot(x='delivery_status', y='mean', data=delivery_status_rating, palette='coolwarm')
plt.title('Rata-rata Rating Berdasarkan Status Ketepatan Pengiriman')
plt.xlabel('Status Ketepatan Pengiriman')
plt.ylabel('Rata-rata Rating')
plt.tight_layout()
plt.show()








plt.figure(figsize=(8,4))
sns.lineplot(x='order_month', y='mean', data=monthly_ratings, marker='o')
plt.title('Tren Rata-rata Rating Review per Bulan')
plt.xlabel('Bulan')
plt.ylabel('Rata-rata Rating')
plt.xticks(rotation=45)
plt.tight_layout()
plt.show()














labels = ['Tidak Repurchase', 'Repurchase ≤30 hari']
sizes = [100-repurchase_rate, repurchase_rate]
plt.figure(figsize=(5,5))
plt.pie(sizes, labels=labels, autopct='%1.2f%%', startangle=90, colors=['#ff9999','#66b3ff'])
plt.title('Persentase Pembelian Ulang ≤30 Hari Setelah Review Negatif')
plt.tight_layout()
plt.show()








plt.figure(figsize=(6,4))
sns.barplot(x='review_score', y='repurchase_pct', data=repurchase_by_rating, palette='Reds')
plt.title('Persentase Repurchase ≤30 Hari per Rating Negatif')
plt.xlabel('Review Score')
plt.ylabel('Persentase Repurchase (%)')
plt.tight_layout()
plt.show()








plt.figure(figsize=(8,4))
sns.barplot(
    x='repurchase_pct',
    y='product_category_name_english',
    data=repurchase_by_category_sorted.head(5),
    palette='Greens_r'
)
plt.title('5 Kategori Produk dengan Repurchase Tertinggi Setelah Review Negatif')
plt.xlabel('Persentase Repurchase (%)')
plt.ylabel('Kategori Produk')
plt.tight_layout()
plt.show()


























import geopandas as gpd
from shapely.geometry import Point

uf_mapping = {
    'AC': 'Acre', 'AL': 'Alagoas', 'AP': 'Amapá', 'AM': 'Amazonas', 'BA': 'Bahia',
    'CE': 'Ceará', 'DF': 'Distrito Federal', 'ES': 'Espírito Santo', 'GO': 'Goiás',
    'MA': 'Maranhão', 'MT': 'Mato Grosso', 'MS': 'Mato Grosso do Sul', 'MG': 'Minas Gerais',
    'PA': 'Pará', 'PB': 'Paraíba', 'PR': 'Paraná', 'PE': 'Pernambuco', 'PI': 'Piauí',
    'RJ': 'Rio de Janeiro', 'RN': 'Rio Grande do Norte', 'RS': 'Rio Grande do Sul',
    'RO': 'Rondônia', 'RR': 'Roraima', 'SC': 'Santa Catarina', 'SP': 'São Paulo',
    'SE': 'Sergipe', 'TO': 'Tocantins'
}





customer_geo = customers_df.merge(
    geolocation_df.groupby('geolocation_zip_code_prefix').first().reset_index(),
    left_on='customer_zip_code_prefix',
    right_on='geolocation_zip_code_prefix',
    how='left'
)
customer_geo = customer_geo.dropna(subset=['geolocation_lat', 'geolocation_lng'])
customer_geo['geometry'] = customer_geo.apply(
    lambda row: Point(row['geolocation_lng'], row['geolocation_lat']), axis=1
)
gdf_customers = gpd.GeoDataFrame(customer_geo, geometry='geometry', crs='EPSG:4326')





seller_geo = sellers_df.merge(
    geolocation_df.groupby('geolocation_zip_code_prefix').first().reset_index(),
    left_on='seller_zip_code_prefix',
    right_on='geolocation_zip_code_prefix',
    how='left'
)
seller_geo = seller_geo.dropna(subset=['geolocation_lat', 'geolocation_lng'])
seller_geo['geometry'] = seller_geo.apply(
    lambda row: Point(row['geolocation_lng'], row['geolocation_lat']), axis=1
)
gdf_sellers = gpd.GeoDataFrame(seller_geo, geometry='geometry', crs='EPSG:4326')





brazil_states = gpd.read_file('data/brazil_states_shapefile/brazil_states_shapefile.shp')
fig, ax = plt.subplots(figsize=(12, 12))
brazil_states.plot(ax=ax, color='whitesmoke', edgecolor='gray')
gdf_customers.sample(2000).plot(ax=ax, markersize=2, color='blue', alpha=0.3, label='Customers')
gdf_sellers.plot(ax=ax, markersize=10, color='red', alpha=0.5, label='Sellers')
plt.title('Sebaran Geospasial Pelanggan dan Penjual di Brazil')
plt.xlabel('Longitude')
plt.ylabel('Latitude')
plt.legend()
plt.show()





delivery_geo = delivery_review_df.merge(customers_df[['customer_id', 'customer_state']], on='customer_id', how='left')
state_delivery = delivery_geo.groupby('customer_state')['delivery_time_days'].mean().reset_index()
state_delivery['NM_UF'] = state_delivery['customer_state'].map(uf_mapping)

brazil_states = gpd.read_file('data/brazil_states_shapefile/brazil_states_shapefile.shp')
state_delivery_map = brazil_states.merge(state_delivery, left_on='NM_UF', right_on='NM_UF', how='left')
state_delivery_map.plot(column='delivery_time_days', cmap='OrRd', legend=True, figsize=(12,8))
plt.title('Rata-rata Waktu Pengiriman per State dalam satuan hari')
plt.show()





state_rating = delivery_geo.groupby('customer_state')['review_score'].mean().reset_index()
state_rating['NM_UF'] = state_rating['customer_state'].map(uf_mapping)

brazil_states = gpd.read_file('data/brazil_states_shapefile/brazil_states_shapefile.shp')
state_rating_map = brazil_states.merge(state_rating, left_on='NM_UF', right_on='NM_UF', how='left')

fig, ax = plt.subplots(figsize=(12,8))
brazil_states.plot(ax=ax, color='whitesmoke', edgecolor='gray')  # Basemap Brazil
state_rating_map.plot(column='review_score', cmap='YlGnBu', legend=True, ax=ax)
plt.title('Rata-rata Rating Review per State')
plt.xlabel('Longitude')
plt.ylabel('Latitude')
plt.show()
























