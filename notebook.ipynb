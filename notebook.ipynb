{
 "cells": [
  {
   "cell_type": "markdown",
   "id": "21d64cc9",
   "metadata": {},
   "source": [
    "# Proyek Analisis Data: E-Commerce Public Dataset"
   ]
  },
  {
   "cell_type": "markdown",
   "id": "b044d6b4",
   "metadata": {},
   "source": [
    "- Nama : Hammam Alfarisy\n",
    "- Email : alfarisihammam@gmail.com\n",
    "- ID Dicoding : hammamal"
   ]
  },
  {
   "cell_type": "markdown",
   "id": "cc94d171",
   "metadata": {},
   "source": [
    "# Menentukan Pertanyaan Bisnis"
   ]
  },
  {
   "cell_type": "markdown",
   "id": "2b3a11b6",
   "metadata": {},
   "source": [
    "- Bagaimana korelasi antara waktu pengiriman dengan rating review dalam 6 bulan terakhir, dan apa strategi untuk meningkatkan rating rata-rata sebesar 0.5 poin dalam 90 hari ke depan?\n",
    "- Berapa persentase pelanggan yang memberikan review negatif (1-2 bintang) namun melakukan pembelian kembali dalam 30 hari, dan bagaimana meningkatkan tingkat pembelian ulang dari pelanggan dengan pengalaman negatif sebesar 25% dalam kuartal berikutnya?\n"
   ]
  },
  {
   "cell_type": "markdown",
   "id": "0ce06180",
   "metadata": {},
   "source": [
    "# Import Semua Packages/Library yang Digunakan"
   ]
  },
  {
   "cell_type": "markdown",
   "id": "f6520813",
   "metadata": {},
   "source": [
    "Mengimpor tujuh library Python esensial untuk analisis data: pandas (pd) untuk manipulasi data terstruktur dan operasi DataFrame; NumPy (np) untuk komputasi numerik dan operasi array; matplotlib.pyplot (plt) dan seaborn (sns) untuk visualisasi data dengan berbagai jenis plot; modul datetime untuk manipulasi tanggal dan waktu; modul os untuk interaksi dengan sistem operasi dan pengelolaan file; serta modul warnings dengan perintah untuk mengabaikan peringatan yang tidak kritis. Kombinasi library ini memungkinkan analis untuk membaca, membersihkan, menganalisis, memvisualisasikan data, dan menghasilkan insight dengan efisien dalam satu lingkungan pemrograman."
   ]
  },
  {
   "cell_type": "code",
   "execution_count": 101,
   "id": "17bbc9d0",
   "metadata": {},
   "outputs": [],
   "source": [
    "import pandas as pd\n",
    "import numpy as np\n",
    "import matplotlib.pyplot as plt\n",
    "import seaborn as sns\n",
    "from datetime import datetime, timedelta\n",
    "import os\n",
    "import warnings\n",
    "warnings.filterwarnings('ignore')"
   ]
  },
  {
   "cell_type": "markdown",
   "id": "61854574",
   "metadata": {},
   "source": [
    "# Data Wrangling"
   ]
  },
  {
   "cell_type": "markdown",
   "id": "18e5983f",
   "metadata": {},
   "source": [
    "Data wrangling merupakan sebuah proses pengumpulan data (Gathering data), penilaian data (Assessing data), serta pembersihan data (Cleaning data) sebelum data digunakan dalam proses analisis data untuk menjawab pertanyaan bisnis"
   ]
  },
  {
   "cell_type": "markdown",
   "id": "7591bd4a",
   "metadata": {},
   "source": [
    "## Gathering Data"
   ]
  },
  {
   "cell_type": "markdown",
   "id": "fba156f9",
   "metadata": {},
   "source": [
    "Pada tahap ini akan dilakukan pengumpulan data yang dibutuhkan dan memuat semua data yang meliputi:\n",
    "- customers_dataset.csv\n",
    "- geolocation_dataset.csv\n",
    "- order_items_dataset.csv\n",
    "- order_payments_dataset.csv\n",
    "- order_reviews_dataset.csv\n",
    "- orders_dataset.csv\n",
    "- product_category_name_translation.csv\n",
    "- products_dataset.csv\n",
    "- sellers_dataset.csv"
   ]
  },
  {
   "cell_type": "markdown",
   "id": "f093972d",
   "metadata": {},
   "source": [
    "#### 1. Memuat tabel customers_dataset.csv"
   ]
  },
  {
   "cell_type": "code",
   "execution_count": 102,
   "id": "cc687488",
   "metadata": {},
   "outputs": [
    {
     "data": {
      "text/html": [
       "<div>\n",
       "<style scoped>\n",
       "    .dataframe tbody tr th:only-of-type {\n",
       "        vertical-align: middle;\n",
       "    }\n",
       "\n",
       "    .dataframe tbody tr th {\n",
       "        vertical-align: top;\n",
       "    }\n",
       "\n",
       "    .dataframe thead th {\n",
       "        text-align: right;\n",
       "    }\n",
       "</style>\n",
       "<table border=\"1\" class=\"dataframe\">\n",
       "  <thead>\n",
       "    <tr style=\"text-align: right;\">\n",
       "      <th></th>\n",
       "      <th>customer_id</th>\n",
       "      <th>customer_unique_id</th>\n",
       "      <th>customer_zip_code_prefix</th>\n",
       "      <th>customer_city</th>\n",
       "      <th>customer_state</th>\n",
       "    </tr>\n",
       "  </thead>\n",
       "  <tbody>\n",
       "    <tr>\n",
       "      <th>0</th>\n",
       "      <td>06b8999e2fba1a1fbc88172c00ba8bc7</td>\n",
       "      <td>861eff4711a542e4b93843c6dd7febb0</td>\n",
       "      <td>14409</td>\n",
       "      <td>franca</td>\n",
       "      <td>SP</td>\n",
       "    </tr>\n",
       "    <tr>\n",
       "      <th>1</th>\n",
       "      <td>18955e83d337fd6b2def6b18a428ac77</td>\n",
       "      <td>290c77bc529b7ac935b93aa66c333dc3</td>\n",
       "      <td>9790</td>\n",
       "      <td>sao bernardo do campo</td>\n",
       "      <td>SP</td>\n",
       "    </tr>\n",
       "    <tr>\n",
       "      <th>2</th>\n",
       "      <td>4e7b3e00288586ebd08712fdd0374a03</td>\n",
       "      <td>060e732b5b29e8181a18229c7b0b2b5e</td>\n",
       "      <td>1151</td>\n",
       "      <td>sao paulo</td>\n",
       "      <td>SP</td>\n",
       "    </tr>\n",
       "    <tr>\n",
       "      <th>3</th>\n",
       "      <td>b2b6027bc5c5109e529d4dc6358b12c3</td>\n",
       "      <td>259dac757896d24d7702b9acbbff3f3c</td>\n",
       "      <td>8775</td>\n",
       "      <td>mogi das cruzes</td>\n",
       "      <td>SP</td>\n",
       "    </tr>\n",
       "    <tr>\n",
       "      <th>4</th>\n",
       "      <td>4f2d8ab171c80ec8364f7c12e35b23ad</td>\n",
       "      <td>345ecd01c38d18a9036ed96c73b8d066</td>\n",
       "      <td>13056</td>\n",
       "      <td>campinas</td>\n",
       "      <td>SP</td>\n",
       "    </tr>\n",
       "  </tbody>\n",
       "</table>\n",
       "</div>"
      ],
      "text/plain": [
       "                        customer_id                customer_unique_id  \\\n",
       "0  06b8999e2fba1a1fbc88172c00ba8bc7  861eff4711a542e4b93843c6dd7febb0   \n",
       "1  18955e83d337fd6b2def6b18a428ac77  290c77bc529b7ac935b93aa66c333dc3   \n",
       "2  4e7b3e00288586ebd08712fdd0374a03  060e732b5b29e8181a18229c7b0b2b5e   \n",
       "3  b2b6027bc5c5109e529d4dc6358b12c3  259dac757896d24d7702b9acbbff3f3c   \n",
       "4  4f2d8ab171c80ec8364f7c12e35b23ad  345ecd01c38d18a9036ed96c73b8d066   \n",
       "\n",
       "   customer_zip_code_prefix          customer_city customer_state  \n",
       "0                     14409                 franca             SP  \n",
       "1                      9790  sao bernardo do campo             SP  \n",
       "2                      1151              sao paulo             SP  \n",
       "3                      8775        mogi das cruzes             SP  \n",
       "4                     13056               campinas             SP  "
      ]
     },
     "execution_count": 102,
     "metadata": {},
     "output_type": "execute_result"
    }
   ],
   "source": [
    "customers_df = pd.read_csv('data/customers_dataset.csv')\n",
    "customers_df.head()"
   ]
  },
  {
   "cell_type": "markdown",
   "id": "9cdb5b97",
   "metadata": {},
   "source": [
    "#### 2. Memuat tabel geolocation_dataset.csv"
   ]
  },
  {
   "cell_type": "code",
   "execution_count": 103,
   "id": "88bce298",
   "metadata": {},
   "outputs": [
    {
     "data": {
      "text/html": [
       "<div>\n",
       "<style scoped>\n",
       "    .dataframe tbody tr th:only-of-type {\n",
       "        vertical-align: middle;\n",
       "    }\n",
       "\n",
       "    .dataframe tbody tr th {\n",
       "        vertical-align: top;\n",
       "    }\n",
       "\n",
       "    .dataframe thead th {\n",
       "        text-align: right;\n",
       "    }\n",
       "</style>\n",
       "<table border=\"1\" class=\"dataframe\">\n",
       "  <thead>\n",
       "    <tr style=\"text-align: right;\">\n",
       "      <th></th>\n",
       "      <th>geolocation_zip_code_prefix</th>\n",
       "      <th>geolocation_lat</th>\n",
       "      <th>geolocation_lng</th>\n",
       "      <th>geolocation_city</th>\n",
       "      <th>geolocation_state</th>\n",
       "    </tr>\n",
       "  </thead>\n",
       "  <tbody>\n",
       "    <tr>\n",
       "      <th>0</th>\n",
       "      <td>1037</td>\n",
       "      <td>-23.545621</td>\n",
       "      <td>-46.639292</td>\n",
       "      <td>sao paulo</td>\n",
       "      <td>SP</td>\n",
       "    </tr>\n",
       "    <tr>\n",
       "      <th>1</th>\n",
       "      <td>1046</td>\n",
       "      <td>-23.546081</td>\n",
       "      <td>-46.644820</td>\n",
       "      <td>sao paulo</td>\n",
       "      <td>SP</td>\n",
       "    </tr>\n",
       "    <tr>\n",
       "      <th>2</th>\n",
       "      <td>1046</td>\n",
       "      <td>-23.546129</td>\n",
       "      <td>-46.642951</td>\n",
       "      <td>sao paulo</td>\n",
       "      <td>SP</td>\n",
       "    </tr>\n",
       "    <tr>\n",
       "      <th>3</th>\n",
       "      <td>1041</td>\n",
       "      <td>-23.544392</td>\n",
       "      <td>-46.639499</td>\n",
       "      <td>sao paulo</td>\n",
       "      <td>SP</td>\n",
       "    </tr>\n",
       "    <tr>\n",
       "      <th>4</th>\n",
       "      <td>1035</td>\n",
       "      <td>-23.541578</td>\n",
       "      <td>-46.641607</td>\n",
       "      <td>sao paulo</td>\n",
       "      <td>SP</td>\n",
       "    </tr>\n",
       "  </tbody>\n",
       "</table>\n",
       "</div>"
      ],
      "text/plain": [
       "   geolocation_zip_code_prefix  geolocation_lat  geolocation_lng  \\\n",
       "0                         1037       -23.545621       -46.639292   \n",
       "1                         1046       -23.546081       -46.644820   \n",
       "2                         1046       -23.546129       -46.642951   \n",
       "3                         1041       -23.544392       -46.639499   \n",
       "4                         1035       -23.541578       -46.641607   \n",
       "\n",
       "  geolocation_city geolocation_state  \n",
       "0        sao paulo                SP  \n",
       "1        sao paulo                SP  \n",
       "2        sao paulo                SP  \n",
       "3        sao paulo                SP  \n",
       "4        sao paulo                SP  "
      ]
     },
     "execution_count": 103,
     "metadata": {},
     "output_type": "execute_result"
    }
   ],
   "source": [
    "geolocation_df = pd.read_csv('data/geolocation_dataset.csv')\n",
    "geolocation_df.head()"
   ]
  },
  {
   "cell_type": "markdown",
   "id": "8fac7bde",
   "metadata": {},
   "source": [
    "#### 3. Memuat tabel order_items_dataset.csv"
   ]
  },
  {
   "cell_type": "code",
   "execution_count": 104,
   "id": "68607ee5",
   "metadata": {
    "scrolled": true
   },
   "outputs": [
    {
     "data": {
      "text/html": [
       "<div>\n",
       "<style scoped>\n",
       "    .dataframe tbody tr th:only-of-type {\n",
       "        vertical-align: middle;\n",
       "    }\n",
       "\n",
       "    .dataframe tbody tr th {\n",
       "        vertical-align: top;\n",
       "    }\n",
       "\n",
       "    .dataframe thead th {\n",
       "        text-align: right;\n",
       "    }\n",
       "</style>\n",
       "<table border=\"1\" class=\"dataframe\">\n",
       "  <thead>\n",
       "    <tr style=\"text-align: right;\">\n",
       "      <th></th>\n",
       "      <th>order_id</th>\n",
       "      <th>order_item_id</th>\n",
       "      <th>product_id</th>\n",
       "      <th>seller_id</th>\n",
       "      <th>shipping_limit_date</th>\n",
       "      <th>price</th>\n",
       "      <th>freight_value</th>\n",
       "    </tr>\n",
       "  </thead>\n",
       "  <tbody>\n",
       "    <tr>\n",
       "      <th>0</th>\n",
       "      <td>00010242fe8c5a6d1ba2dd792cb16214</td>\n",
       "      <td>1</td>\n",
       "      <td>4244733e06e7ecb4970a6e2683c13e61</td>\n",
       "      <td>48436dade18ac8b2bce089ec2a041202</td>\n",
       "      <td>2017-09-19 09:45:35</td>\n",
       "      <td>58.90</td>\n",
       "      <td>13.29</td>\n",
       "    </tr>\n",
       "    <tr>\n",
       "      <th>1</th>\n",
       "      <td>00018f77f2f0320c557190d7a144bdd3</td>\n",
       "      <td>1</td>\n",
       "      <td>e5f2d52b802189ee658865ca93d83a8f</td>\n",
       "      <td>dd7ddc04e1b6c2c614352b383efe2d36</td>\n",
       "      <td>2017-05-03 11:05:13</td>\n",
       "      <td>239.90</td>\n",
       "      <td>19.93</td>\n",
       "    </tr>\n",
       "    <tr>\n",
       "      <th>2</th>\n",
       "      <td>000229ec398224ef6ca0657da4fc703e</td>\n",
       "      <td>1</td>\n",
       "      <td>c777355d18b72b67abbeef9df44fd0fd</td>\n",
       "      <td>5b51032eddd242adc84c38acab88f23d</td>\n",
       "      <td>2018-01-18 14:48:30</td>\n",
       "      <td>199.00</td>\n",
       "      <td>17.87</td>\n",
       "    </tr>\n",
       "    <tr>\n",
       "      <th>3</th>\n",
       "      <td>00024acbcdf0a6daa1e931b038114c75</td>\n",
       "      <td>1</td>\n",
       "      <td>7634da152a4610f1595efa32f14722fc</td>\n",
       "      <td>9d7a1d34a5052409006425275ba1c2b4</td>\n",
       "      <td>2018-08-15 10:10:18</td>\n",
       "      <td>12.99</td>\n",
       "      <td>12.79</td>\n",
       "    </tr>\n",
       "    <tr>\n",
       "      <th>4</th>\n",
       "      <td>00042b26cf59d7ce69dfabb4e55b4fd9</td>\n",
       "      <td>1</td>\n",
       "      <td>ac6c3623068f30de03045865e4e10089</td>\n",
       "      <td>df560393f3a51e74553ab94004ba5c87</td>\n",
       "      <td>2017-02-13 13:57:51</td>\n",
       "      <td>199.90</td>\n",
       "      <td>18.14</td>\n",
       "    </tr>\n",
       "  </tbody>\n",
       "</table>\n",
       "</div>"
      ],
      "text/plain": [
       "                           order_id  order_item_id  \\\n",
       "0  00010242fe8c5a6d1ba2dd792cb16214              1   \n",
       "1  00018f77f2f0320c557190d7a144bdd3              1   \n",
       "2  000229ec398224ef6ca0657da4fc703e              1   \n",
       "3  00024acbcdf0a6daa1e931b038114c75              1   \n",
       "4  00042b26cf59d7ce69dfabb4e55b4fd9              1   \n",
       "\n",
       "                         product_id                         seller_id  \\\n",
       "0  4244733e06e7ecb4970a6e2683c13e61  48436dade18ac8b2bce089ec2a041202   \n",
       "1  e5f2d52b802189ee658865ca93d83a8f  dd7ddc04e1b6c2c614352b383efe2d36   \n",
       "2  c777355d18b72b67abbeef9df44fd0fd  5b51032eddd242adc84c38acab88f23d   \n",
       "3  7634da152a4610f1595efa32f14722fc  9d7a1d34a5052409006425275ba1c2b4   \n",
       "4  ac6c3623068f30de03045865e4e10089  df560393f3a51e74553ab94004ba5c87   \n",
       "\n",
       "   shipping_limit_date   price  freight_value  \n",
       "0  2017-09-19 09:45:35   58.90          13.29  \n",
       "1  2017-05-03 11:05:13  239.90          19.93  \n",
       "2  2018-01-18 14:48:30  199.00          17.87  \n",
       "3  2018-08-15 10:10:18   12.99          12.79  \n",
       "4  2017-02-13 13:57:51  199.90          18.14  "
      ]
     },
     "execution_count": 104,
     "metadata": {},
     "output_type": "execute_result"
    }
   ],
   "source": [
    "order_items_df = pd.read_csv('data/order_items_dataset.csv')\n",
    "order_items_df.head()"
   ]
  },
  {
   "cell_type": "markdown",
   "id": "e212e79c",
   "metadata": {},
   "source": [
    "#### 4. Memuat tabel order_payments_dataset.csv"
   ]
  },
  {
   "cell_type": "code",
   "execution_count": 105,
   "id": "7ce6b140",
   "metadata": {},
   "outputs": [
    {
     "data": {
      "text/html": [
       "<div>\n",
       "<style scoped>\n",
       "    .dataframe tbody tr th:only-of-type {\n",
       "        vertical-align: middle;\n",
       "    }\n",
       "\n",
       "    .dataframe tbody tr th {\n",
       "        vertical-align: top;\n",
       "    }\n",
       "\n",
       "    .dataframe thead th {\n",
       "        text-align: right;\n",
       "    }\n",
       "</style>\n",
       "<table border=\"1\" class=\"dataframe\">\n",
       "  <thead>\n",
       "    <tr style=\"text-align: right;\">\n",
       "      <th></th>\n",
       "      <th>order_id</th>\n",
       "      <th>payment_sequential</th>\n",
       "      <th>payment_type</th>\n",
       "      <th>payment_installments</th>\n",
       "      <th>payment_value</th>\n",
       "    </tr>\n",
       "  </thead>\n",
       "  <tbody>\n",
       "    <tr>\n",
       "      <th>0</th>\n",
       "      <td>b81ef226f3fe1789b1e8b2acac839d17</td>\n",
       "      <td>1</td>\n",
       "      <td>credit_card</td>\n",
       "      <td>8</td>\n",
       "      <td>99.33</td>\n",
       "    </tr>\n",
       "    <tr>\n",
       "      <th>1</th>\n",
       "      <td>a9810da82917af2d9aefd1278f1dcfa0</td>\n",
       "      <td>1</td>\n",
       "      <td>credit_card</td>\n",
       "      <td>1</td>\n",
       "      <td>24.39</td>\n",
       "    </tr>\n",
       "    <tr>\n",
       "      <th>2</th>\n",
       "      <td>25e8ea4e93396b6fa0d3dd708e76c1bd</td>\n",
       "      <td>1</td>\n",
       "      <td>credit_card</td>\n",
       "      <td>1</td>\n",
       "      <td>65.71</td>\n",
       "    </tr>\n",
       "    <tr>\n",
       "      <th>3</th>\n",
       "      <td>ba78997921bbcdc1373bb41e913ab953</td>\n",
       "      <td>1</td>\n",
       "      <td>credit_card</td>\n",
       "      <td>8</td>\n",
       "      <td>107.78</td>\n",
       "    </tr>\n",
       "    <tr>\n",
       "      <th>4</th>\n",
       "      <td>42fdf880ba16b47b59251dd489d4441a</td>\n",
       "      <td>1</td>\n",
       "      <td>credit_card</td>\n",
       "      <td>2</td>\n",
       "      <td>128.45</td>\n",
       "    </tr>\n",
       "  </tbody>\n",
       "</table>\n",
       "</div>"
      ],
      "text/plain": [
       "                           order_id  payment_sequential payment_type  \\\n",
       "0  b81ef226f3fe1789b1e8b2acac839d17                   1  credit_card   \n",
       "1  a9810da82917af2d9aefd1278f1dcfa0                   1  credit_card   \n",
       "2  25e8ea4e93396b6fa0d3dd708e76c1bd                   1  credit_card   \n",
       "3  ba78997921bbcdc1373bb41e913ab953                   1  credit_card   \n",
       "4  42fdf880ba16b47b59251dd489d4441a                   1  credit_card   \n",
       "\n",
       "   payment_installments  payment_value  \n",
       "0                     8          99.33  \n",
       "1                     1          24.39  \n",
       "2                     1          65.71  \n",
       "3                     8         107.78  \n",
       "4                     2         128.45  "
      ]
     },
     "execution_count": 105,
     "metadata": {},
     "output_type": "execute_result"
    }
   ],
   "source": [
    "order_payments_df = pd.read_csv('data/order_payments_dataset.csv')\n",
    "order_payments_df.head()"
   ]
  },
  {
   "cell_type": "markdown",
   "id": "81c6a6ba",
   "metadata": {},
   "source": [
    "#### 5. Memuat tabel order_reviews_dataset.csv"
   ]
  },
  {
   "cell_type": "code",
   "execution_count": 106,
   "id": "13e4d83e",
   "metadata": {},
   "outputs": [
    {
     "data": {
      "text/html": [
       "<div>\n",
       "<style scoped>\n",
       "    .dataframe tbody tr th:only-of-type {\n",
       "        vertical-align: middle;\n",
       "    }\n",
       "\n",
       "    .dataframe tbody tr th {\n",
       "        vertical-align: top;\n",
       "    }\n",
       "\n",
       "    .dataframe thead th {\n",
       "        text-align: right;\n",
       "    }\n",
       "</style>\n",
       "<table border=\"1\" class=\"dataframe\">\n",
       "  <thead>\n",
       "    <tr style=\"text-align: right;\">\n",
       "      <th></th>\n",
       "      <th>review_id</th>\n",
       "      <th>order_id</th>\n",
       "      <th>review_score</th>\n",
       "      <th>review_comment_title</th>\n",
       "      <th>review_comment_message</th>\n",
       "      <th>review_creation_date</th>\n",
       "      <th>review_answer_timestamp</th>\n",
       "    </tr>\n",
       "  </thead>\n",
       "  <tbody>\n",
       "    <tr>\n",
       "      <th>0</th>\n",
       "      <td>7bc2406110b926393aa56f80a40eba40</td>\n",
       "      <td>73fc7af87114b39712e6da79b0a377eb</td>\n",
       "      <td>4</td>\n",
       "      <td>NaN</td>\n",
       "      <td>NaN</td>\n",
       "      <td>2018-01-18 00:00:00</td>\n",
       "      <td>2018-01-18 21:46:59</td>\n",
       "    </tr>\n",
       "    <tr>\n",
       "      <th>1</th>\n",
       "      <td>80e641a11e56f04c1ad469d5645fdfde</td>\n",
       "      <td>a548910a1c6147796b98fdf73dbeba33</td>\n",
       "      <td>5</td>\n",
       "      <td>NaN</td>\n",
       "      <td>NaN</td>\n",
       "      <td>2018-03-10 00:00:00</td>\n",
       "      <td>2018-03-11 03:05:13</td>\n",
       "    </tr>\n",
       "    <tr>\n",
       "      <th>2</th>\n",
       "      <td>228ce5500dc1d8e020d8d1322874b6f0</td>\n",
       "      <td>f9e4b658b201a9f2ecdecbb34bed034b</td>\n",
       "      <td>5</td>\n",
       "      <td>NaN</td>\n",
       "      <td>NaN</td>\n",
       "      <td>2018-02-17 00:00:00</td>\n",
       "      <td>2018-02-18 14:36:24</td>\n",
       "    </tr>\n",
       "    <tr>\n",
       "      <th>3</th>\n",
       "      <td>e64fb393e7b32834bb789ff8bb30750e</td>\n",
       "      <td>658677c97b385a9be170737859d3511b</td>\n",
       "      <td>5</td>\n",
       "      <td>NaN</td>\n",
       "      <td>Recebi bem antes do prazo estipulado.</td>\n",
       "      <td>2017-04-21 00:00:00</td>\n",
       "      <td>2017-04-21 22:02:06</td>\n",
       "    </tr>\n",
       "    <tr>\n",
       "      <th>4</th>\n",
       "      <td>f7c4243c7fe1938f181bec41a392bdeb</td>\n",
       "      <td>8e6bfb81e283fa7e4f11123a3fb894f1</td>\n",
       "      <td>5</td>\n",
       "      <td>NaN</td>\n",
       "      <td>Parabéns lojas lannister adorei comprar pela I...</td>\n",
       "      <td>2018-03-01 00:00:00</td>\n",
       "      <td>2018-03-02 10:26:53</td>\n",
       "    </tr>\n",
       "  </tbody>\n",
       "</table>\n",
       "</div>"
      ],
      "text/plain": [
       "                          review_id                          order_id  \\\n",
       "0  7bc2406110b926393aa56f80a40eba40  73fc7af87114b39712e6da79b0a377eb   \n",
       "1  80e641a11e56f04c1ad469d5645fdfde  a548910a1c6147796b98fdf73dbeba33   \n",
       "2  228ce5500dc1d8e020d8d1322874b6f0  f9e4b658b201a9f2ecdecbb34bed034b   \n",
       "3  e64fb393e7b32834bb789ff8bb30750e  658677c97b385a9be170737859d3511b   \n",
       "4  f7c4243c7fe1938f181bec41a392bdeb  8e6bfb81e283fa7e4f11123a3fb894f1   \n",
       "\n",
       "   review_score review_comment_title  \\\n",
       "0             4                  NaN   \n",
       "1             5                  NaN   \n",
       "2             5                  NaN   \n",
       "3             5                  NaN   \n",
       "4             5                  NaN   \n",
       "\n",
       "                              review_comment_message review_creation_date  \\\n",
       "0                                                NaN  2018-01-18 00:00:00   \n",
       "1                                                NaN  2018-03-10 00:00:00   \n",
       "2                                                NaN  2018-02-17 00:00:00   \n",
       "3              Recebi bem antes do prazo estipulado.  2017-04-21 00:00:00   \n",
       "4  Parabéns lojas lannister adorei comprar pela I...  2018-03-01 00:00:00   \n",
       "\n",
       "  review_answer_timestamp  \n",
       "0     2018-01-18 21:46:59  \n",
       "1     2018-03-11 03:05:13  \n",
       "2     2018-02-18 14:36:24  \n",
       "3     2017-04-21 22:02:06  \n",
       "4     2018-03-02 10:26:53  "
      ]
     },
     "execution_count": 106,
     "metadata": {},
     "output_type": "execute_result"
    }
   ],
   "source": [
    "order_reviews_df = pd.read_csv('data/order_reviews_dataset.csv')\n",
    "order_reviews_df.head()"
   ]
  },
  {
   "cell_type": "markdown",
   "id": "d62afd31",
   "metadata": {},
   "source": [
    "#### 6. Memuat tabel orders_dataset.csv"
   ]
  },
  {
   "cell_type": "code",
   "execution_count": 107,
   "id": "8471661f",
   "metadata": {},
   "outputs": [
    {
     "data": {
      "text/html": [
       "<div>\n",
       "<style scoped>\n",
       "    .dataframe tbody tr th:only-of-type {\n",
       "        vertical-align: middle;\n",
       "    }\n",
       "\n",
       "    .dataframe tbody tr th {\n",
       "        vertical-align: top;\n",
       "    }\n",
       "\n",
       "    .dataframe thead th {\n",
       "        text-align: right;\n",
       "    }\n",
       "</style>\n",
       "<table border=\"1\" class=\"dataframe\">\n",
       "  <thead>\n",
       "    <tr style=\"text-align: right;\">\n",
       "      <th></th>\n",
       "      <th>order_id</th>\n",
       "      <th>customer_id</th>\n",
       "      <th>order_status</th>\n",
       "      <th>order_purchase_timestamp</th>\n",
       "      <th>order_approved_at</th>\n",
       "      <th>order_delivered_carrier_date</th>\n",
       "      <th>order_delivered_customer_date</th>\n",
       "      <th>order_estimated_delivery_date</th>\n",
       "    </tr>\n",
       "  </thead>\n",
       "  <tbody>\n",
       "    <tr>\n",
       "      <th>0</th>\n",
       "      <td>e481f51cbdc54678b7cc49136f2d6af7</td>\n",
       "      <td>9ef432eb6251297304e76186b10a928d</td>\n",
       "      <td>delivered</td>\n",
       "      <td>2017-10-02 10:56:33</td>\n",
       "      <td>2017-10-02 11:07:15</td>\n",
       "      <td>2017-10-04 19:55:00</td>\n",
       "      <td>2017-10-10 21:25:13</td>\n",
       "      <td>2017-10-18 00:00:00</td>\n",
       "    </tr>\n",
       "    <tr>\n",
       "      <th>1</th>\n",
       "      <td>53cdb2fc8bc7dce0b6741e2150273451</td>\n",
       "      <td>b0830fb4747a6c6d20dea0b8c802d7ef</td>\n",
       "      <td>delivered</td>\n",
       "      <td>2018-07-24 20:41:37</td>\n",
       "      <td>2018-07-26 03:24:27</td>\n",
       "      <td>2018-07-26 14:31:00</td>\n",
       "      <td>2018-08-07 15:27:45</td>\n",
       "      <td>2018-08-13 00:00:00</td>\n",
       "    </tr>\n",
       "    <tr>\n",
       "      <th>2</th>\n",
       "      <td>47770eb9100c2d0c44946d9cf07ec65d</td>\n",
       "      <td>41ce2a54c0b03bf3443c3d931a367089</td>\n",
       "      <td>delivered</td>\n",
       "      <td>2018-08-08 08:38:49</td>\n",
       "      <td>2018-08-08 08:55:23</td>\n",
       "      <td>2018-08-08 13:50:00</td>\n",
       "      <td>2018-08-17 18:06:29</td>\n",
       "      <td>2018-09-04 00:00:00</td>\n",
       "    </tr>\n",
       "    <tr>\n",
       "      <th>3</th>\n",
       "      <td>949d5b44dbf5de918fe9c16f97b45f8a</td>\n",
       "      <td>f88197465ea7920adcdbec7375364d82</td>\n",
       "      <td>delivered</td>\n",
       "      <td>2017-11-18 19:28:06</td>\n",
       "      <td>2017-11-18 19:45:59</td>\n",
       "      <td>2017-11-22 13:39:59</td>\n",
       "      <td>2017-12-02 00:28:42</td>\n",
       "      <td>2017-12-15 00:00:00</td>\n",
       "    </tr>\n",
       "    <tr>\n",
       "      <th>4</th>\n",
       "      <td>ad21c59c0840e6cb83a9ceb5573f8159</td>\n",
       "      <td>8ab97904e6daea8866dbdbc4fb7aad2c</td>\n",
       "      <td>delivered</td>\n",
       "      <td>2018-02-13 21:18:39</td>\n",
       "      <td>2018-02-13 22:20:29</td>\n",
       "      <td>2018-02-14 19:46:34</td>\n",
       "      <td>2018-02-16 18:17:02</td>\n",
       "      <td>2018-02-26 00:00:00</td>\n",
       "    </tr>\n",
       "  </tbody>\n",
       "</table>\n",
       "</div>"
      ],
      "text/plain": [
       "                           order_id                       customer_id  \\\n",
       "0  e481f51cbdc54678b7cc49136f2d6af7  9ef432eb6251297304e76186b10a928d   \n",
       "1  53cdb2fc8bc7dce0b6741e2150273451  b0830fb4747a6c6d20dea0b8c802d7ef   \n",
       "2  47770eb9100c2d0c44946d9cf07ec65d  41ce2a54c0b03bf3443c3d931a367089   \n",
       "3  949d5b44dbf5de918fe9c16f97b45f8a  f88197465ea7920adcdbec7375364d82   \n",
       "4  ad21c59c0840e6cb83a9ceb5573f8159  8ab97904e6daea8866dbdbc4fb7aad2c   \n",
       "\n",
       "  order_status order_purchase_timestamp    order_approved_at  \\\n",
       "0    delivered      2017-10-02 10:56:33  2017-10-02 11:07:15   \n",
       "1    delivered      2018-07-24 20:41:37  2018-07-26 03:24:27   \n",
       "2    delivered      2018-08-08 08:38:49  2018-08-08 08:55:23   \n",
       "3    delivered      2017-11-18 19:28:06  2017-11-18 19:45:59   \n",
       "4    delivered      2018-02-13 21:18:39  2018-02-13 22:20:29   \n",
       "\n",
       "  order_delivered_carrier_date order_delivered_customer_date  \\\n",
       "0          2017-10-04 19:55:00           2017-10-10 21:25:13   \n",
       "1          2018-07-26 14:31:00           2018-08-07 15:27:45   \n",
       "2          2018-08-08 13:50:00           2018-08-17 18:06:29   \n",
       "3          2017-11-22 13:39:59           2017-12-02 00:28:42   \n",
       "4          2018-02-14 19:46:34           2018-02-16 18:17:02   \n",
       "\n",
       "  order_estimated_delivery_date  \n",
       "0           2017-10-18 00:00:00  \n",
       "1           2018-08-13 00:00:00  \n",
       "2           2018-09-04 00:00:00  \n",
       "3           2017-12-15 00:00:00  \n",
       "4           2018-02-26 00:00:00  "
      ]
     },
     "execution_count": 107,
     "metadata": {},
     "output_type": "execute_result"
    }
   ],
   "source": [
    "orders_df = pd.read_csv('data/orders_dataset.csv')\n",
    "orders_df.head()"
   ]
  },
  {
   "cell_type": "markdown",
   "id": "1964ced4",
   "metadata": {},
   "source": [
    "#### 7. Memuat tabel product_category_name_translation.csv"
   ]
  },
  {
   "cell_type": "code",
   "execution_count": 108,
   "id": "34a3eee5",
   "metadata": {
    "scrolled": true
   },
   "outputs": [
    {
     "data": {
      "text/html": [
       "<div>\n",
       "<style scoped>\n",
       "    .dataframe tbody tr th:only-of-type {\n",
       "        vertical-align: middle;\n",
       "    }\n",
       "\n",
       "    .dataframe tbody tr th {\n",
       "        vertical-align: top;\n",
       "    }\n",
       "\n",
       "    .dataframe thead th {\n",
       "        text-align: right;\n",
       "    }\n",
       "</style>\n",
       "<table border=\"1\" class=\"dataframe\">\n",
       "  <thead>\n",
       "    <tr style=\"text-align: right;\">\n",
       "      <th></th>\n",
       "      <th>product_category_name</th>\n",
       "      <th>product_category_name_english</th>\n",
       "    </tr>\n",
       "  </thead>\n",
       "  <tbody>\n",
       "    <tr>\n",
       "      <th>0</th>\n",
       "      <td>beleza_saude</td>\n",
       "      <td>health_beauty</td>\n",
       "    </tr>\n",
       "    <tr>\n",
       "      <th>1</th>\n",
       "      <td>informatica_acessorios</td>\n",
       "      <td>computers_accessories</td>\n",
       "    </tr>\n",
       "    <tr>\n",
       "      <th>2</th>\n",
       "      <td>automotivo</td>\n",
       "      <td>auto</td>\n",
       "    </tr>\n",
       "    <tr>\n",
       "      <th>3</th>\n",
       "      <td>cama_mesa_banho</td>\n",
       "      <td>bed_bath_table</td>\n",
       "    </tr>\n",
       "    <tr>\n",
       "      <th>4</th>\n",
       "      <td>moveis_decoracao</td>\n",
       "      <td>furniture_decor</td>\n",
       "    </tr>\n",
       "  </tbody>\n",
       "</table>\n",
       "</div>"
      ],
      "text/plain": [
       "    product_category_name product_category_name_english\n",
       "0            beleza_saude                 health_beauty\n",
       "1  informatica_acessorios         computers_accessories\n",
       "2              automotivo                          auto\n",
       "3         cama_mesa_banho                bed_bath_table\n",
       "4        moveis_decoracao               furniture_decor"
      ]
     },
     "execution_count": 108,
     "metadata": {},
     "output_type": "execute_result"
    }
   ],
   "source": [
    "product_category_translation_df = pd.read_csv('data/product_category_name_translation.csv')\n",
    "product_category_translation_df.head()"
   ]
  },
  {
   "cell_type": "markdown",
   "id": "30a6a1a8",
   "metadata": {},
   "source": [
    "#### 8. Memuat tabel products_dataset.csv"
   ]
  },
  {
   "cell_type": "code",
   "execution_count": 109,
   "id": "dd5eeb9e",
   "metadata": {},
   "outputs": [
    {
     "data": {
      "text/html": [
       "<div>\n",
       "<style scoped>\n",
       "    .dataframe tbody tr th:only-of-type {\n",
       "        vertical-align: middle;\n",
       "    }\n",
       "\n",
       "    .dataframe tbody tr th {\n",
       "        vertical-align: top;\n",
       "    }\n",
       "\n",
       "    .dataframe thead th {\n",
       "        text-align: right;\n",
       "    }\n",
       "</style>\n",
       "<table border=\"1\" class=\"dataframe\">\n",
       "  <thead>\n",
       "    <tr style=\"text-align: right;\">\n",
       "      <th></th>\n",
       "      <th>product_id</th>\n",
       "      <th>product_category_name</th>\n",
       "      <th>product_name_lenght</th>\n",
       "      <th>product_description_lenght</th>\n",
       "      <th>product_photos_qty</th>\n",
       "      <th>product_weight_g</th>\n",
       "      <th>product_length_cm</th>\n",
       "      <th>product_height_cm</th>\n",
       "      <th>product_width_cm</th>\n",
       "    </tr>\n",
       "  </thead>\n",
       "  <tbody>\n",
       "    <tr>\n",
       "      <th>0</th>\n",
       "      <td>1e9e8ef04dbcff4541ed26657ea517e5</td>\n",
       "      <td>perfumaria</td>\n",
       "      <td>40.0</td>\n",
       "      <td>287.0</td>\n",
       "      <td>1.0</td>\n",
       "      <td>225.0</td>\n",
       "      <td>16.0</td>\n",
       "      <td>10.0</td>\n",
       "      <td>14.0</td>\n",
       "    </tr>\n",
       "    <tr>\n",
       "      <th>1</th>\n",
       "      <td>3aa071139cb16b67ca9e5dea641aaa2f</td>\n",
       "      <td>artes</td>\n",
       "      <td>44.0</td>\n",
       "      <td>276.0</td>\n",
       "      <td>1.0</td>\n",
       "      <td>1000.0</td>\n",
       "      <td>30.0</td>\n",
       "      <td>18.0</td>\n",
       "      <td>20.0</td>\n",
       "    </tr>\n",
       "    <tr>\n",
       "      <th>2</th>\n",
       "      <td>96bd76ec8810374ed1b65e291975717f</td>\n",
       "      <td>esporte_lazer</td>\n",
       "      <td>46.0</td>\n",
       "      <td>250.0</td>\n",
       "      <td>1.0</td>\n",
       "      <td>154.0</td>\n",
       "      <td>18.0</td>\n",
       "      <td>9.0</td>\n",
       "      <td>15.0</td>\n",
       "    </tr>\n",
       "    <tr>\n",
       "      <th>3</th>\n",
       "      <td>cef67bcfe19066a932b7673e239eb23d</td>\n",
       "      <td>bebes</td>\n",
       "      <td>27.0</td>\n",
       "      <td>261.0</td>\n",
       "      <td>1.0</td>\n",
       "      <td>371.0</td>\n",
       "      <td>26.0</td>\n",
       "      <td>4.0</td>\n",
       "      <td>26.0</td>\n",
       "    </tr>\n",
       "    <tr>\n",
       "      <th>4</th>\n",
       "      <td>9dc1a7de274444849c219cff195d0b71</td>\n",
       "      <td>utilidades_domesticas</td>\n",
       "      <td>37.0</td>\n",
       "      <td>402.0</td>\n",
       "      <td>4.0</td>\n",
       "      <td>625.0</td>\n",
       "      <td>20.0</td>\n",
       "      <td>17.0</td>\n",
       "      <td>13.0</td>\n",
       "    </tr>\n",
       "  </tbody>\n",
       "</table>\n",
       "</div>"
      ],
      "text/plain": [
       "                         product_id  product_category_name  \\\n",
       "0  1e9e8ef04dbcff4541ed26657ea517e5             perfumaria   \n",
       "1  3aa071139cb16b67ca9e5dea641aaa2f                  artes   \n",
       "2  96bd76ec8810374ed1b65e291975717f          esporte_lazer   \n",
       "3  cef67bcfe19066a932b7673e239eb23d                  bebes   \n",
       "4  9dc1a7de274444849c219cff195d0b71  utilidades_domesticas   \n",
       "\n",
       "   product_name_lenght  product_description_lenght  product_photos_qty  \\\n",
       "0                 40.0                       287.0                 1.0   \n",
       "1                 44.0                       276.0                 1.0   \n",
       "2                 46.0                       250.0                 1.0   \n",
       "3                 27.0                       261.0                 1.0   \n",
       "4                 37.0                       402.0                 4.0   \n",
       "\n",
       "   product_weight_g  product_length_cm  product_height_cm  product_width_cm  \n",
       "0             225.0               16.0               10.0              14.0  \n",
       "1            1000.0               30.0               18.0              20.0  \n",
       "2             154.0               18.0                9.0              15.0  \n",
       "3             371.0               26.0                4.0              26.0  \n",
       "4             625.0               20.0               17.0              13.0  "
      ]
     },
     "execution_count": 109,
     "metadata": {},
     "output_type": "execute_result"
    }
   ],
   "source": [
    "products_df = pd.read_csv('data/products_dataset.csv')\n",
    "products_df.head()"
   ]
  },
  {
   "cell_type": "markdown",
   "id": "08237418",
   "metadata": {},
   "source": [
    "#### 9. Memuat tabel sellers_dataset.csv"
   ]
  },
  {
   "cell_type": "code",
   "execution_count": 110,
   "id": "49151ce3",
   "metadata": {},
   "outputs": [
    {
     "data": {
      "text/html": [
       "<div>\n",
       "<style scoped>\n",
       "    .dataframe tbody tr th:only-of-type {\n",
       "        vertical-align: middle;\n",
       "    }\n",
       "\n",
       "    .dataframe tbody tr th {\n",
       "        vertical-align: top;\n",
       "    }\n",
       "\n",
       "    .dataframe thead th {\n",
       "        text-align: right;\n",
       "    }\n",
       "</style>\n",
       "<table border=\"1\" class=\"dataframe\">\n",
       "  <thead>\n",
       "    <tr style=\"text-align: right;\">\n",
       "      <th></th>\n",
       "      <th>seller_id</th>\n",
       "      <th>seller_zip_code_prefix</th>\n",
       "      <th>seller_city</th>\n",
       "      <th>seller_state</th>\n",
       "    </tr>\n",
       "  </thead>\n",
       "  <tbody>\n",
       "    <tr>\n",
       "      <th>0</th>\n",
       "      <td>3442f8959a84dea7ee197c632cb2df15</td>\n",
       "      <td>13023</td>\n",
       "      <td>campinas</td>\n",
       "      <td>SP</td>\n",
       "    </tr>\n",
       "    <tr>\n",
       "      <th>1</th>\n",
       "      <td>d1b65fc7debc3361ea86b5f14c68d2e2</td>\n",
       "      <td>13844</td>\n",
       "      <td>mogi guacu</td>\n",
       "      <td>SP</td>\n",
       "    </tr>\n",
       "    <tr>\n",
       "      <th>2</th>\n",
       "      <td>ce3ad9de960102d0677a81f5d0bb7b2d</td>\n",
       "      <td>20031</td>\n",
       "      <td>rio de janeiro</td>\n",
       "      <td>RJ</td>\n",
       "    </tr>\n",
       "    <tr>\n",
       "      <th>3</th>\n",
       "      <td>c0f3eea2e14555b6faeea3dd58c1b1c3</td>\n",
       "      <td>4195</td>\n",
       "      <td>sao paulo</td>\n",
       "      <td>SP</td>\n",
       "    </tr>\n",
       "    <tr>\n",
       "      <th>4</th>\n",
       "      <td>51a04a8a6bdcb23deccc82b0b80742cf</td>\n",
       "      <td>12914</td>\n",
       "      <td>braganca paulista</td>\n",
       "      <td>SP</td>\n",
       "    </tr>\n",
       "  </tbody>\n",
       "</table>\n",
       "</div>"
      ],
      "text/plain": [
       "                          seller_id  seller_zip_code_prefix  \\\n",
       "0  3442f8959a84dea7ee197c632cb2df15                   13023   \n",
       "1  d1b65fc7debc3361ea86b5f14c68d2e2                   13844   \n",
       "2  ce3ad9de960102d0677a81f5d0bb7b2d                   20031   \n",
       "3  c0f3eea2e14555b6faeea3dd58c1b1c3                    4195   \n",
       "4  51a04a8a6bdcb23deccc82b0b80742cf                   12914   \n",
       "\n",
       "         seller_city seller_state  \n",
       "0           campinas           SP  \n",
       "1         mogi guacu           SP  \n",
       "2     rio de janeiro           RJ  \n",
       "3          sao paulo           SP  \n",
       "4  braganca paulista           SP  "
      ]
     },
     "execution_count": 110,
     "metadata": {},
     "output_type": "execute_result"
    }
   ],
   "source": [
    "sellers_df = pd.read_csv('data/sellers_dataset.csv')\n",
    "sellers_df.head()"
   ]
  },
  {
   "cell_type": "markdown",
   "id": "eb0236e8",
   "metadata": {},
   "source": [
    "### Insight :"
   ]
  },
  {
   "cell_type": "markdown",
   "id": "2f0e2205",
   "metadata": {},
   "source": [
    "Berikut ini adalah insight dari gathering data:\n",
    "\n",
    "1. customers_dataset.csv:  \n",
    "   Data pelanggan sudah lengkap, mencakup ID unik, kode pos, kota, dan provinsi. Ini penting untuk analisis perilaku pelanggan berdasarkan lokasi.\n",
    "\n",
    "2. geolocation_dataset.csv:  \n",
    "   Tersedia data koordinat geografis berdasarkan kode pos, memungkinkan analisis distribusi pelanggan dan penjual secara spasial.\n",
    "\n",
    "3. order_items_dataset.csv:  \n",
    "   Data detail setiap item dalam pesanan, termasuk harga dan biaya pengiriman, sangat berguna untuk analisis profitabilitas dan logistik.\n",
    "\n",
    "4. order_payments_dataset.csv:  \n",
    "   Informasi metode pembayaran dan nilai pembayaran tersedia, mendukung analisis preferensi pembayaran dan segmentasi pelanggan.\n",
    "\n",
    "5. order_reviews_dataset.csv:  \n",
    "   Data review pelanggan lengkap dengan skor, komentar, dan tanggal, sangat penting untuk analisis kepuasan pelanggan dan korelasi dengan waktu pengiriman.\n",
    "\n",
    "6. orders_dataset.csv:  \n",
    "   Data pesanan memuat status, waktu pembelian, pengiriman, dan estimasi, memungkinkan analisis waktu pengiriman aktual vs estimasi.\n",
    "\n",
    "7. product_category_name_translation.csv:  \n",
    "   Tersedia terjemahan kategori produk, memudahkan analisis lintas kategori produk dalam bahasa Inggris.\n",
    "\n",
    "8. products_dataset.csv:  \n",
    "   Data produk lengkap dengan kategori, dimensi, dan berat, mendukung analisis logistik dan preferensi produk.\n",
    "\n",
    "9. sellers_dataset.csv:  \n",
    "   Data penjual memuat lokasi dan ID, penting untuk analisis performa penjual dan distribusi geografis.\n",
    "\n",
    "Kesimpulan insight Gathering Data:  \n",
    "Semua data utama yang dibutuhkan untuk menjawab pertanyaan bisnis sudah tersedia dan saling terhubung melalui ID kunci. Data ini siap untuk tahap pembersihan dan eksplorasi lebih lanjut, serta mendukung analisis mendalam terkait pengiriman, review, dan perilaku pembelian ulang pelanggan."
   ]
  },
  {
   "cell_type": "markdown",
   "id": "abcb199c",
   "metadata": {},
   "source": [
    "## Assessing Data"
   ]
  },
  {
   "cell_type": "markdown",
   "id": "1a68b7a2",
   "metadata": {},
   "source": [
    "Setelah mengumpulkan semua data, pada proses ini kita akan menilai kualitas dari seluruh data yang akan digunakan untuk menjawab pertanyaan bisnis. Penilaian ini bertujuan untuk melihat berbagai permasalahan yang ada dalam data tersebut. Data yang dinilai meliputi:\n",
    "- order_review_df\n",
    "- orders_df\n",
    "- customers_df\n",
    "- products_df"
   ]
  },
  {
   "cell_type": "markdown",
   "id": "9b4393d2",
   "metadata": {},
   "source": [
    "#### 1. Menilai order_reviews_df"
   ]
  },
  {
   "cell_type": "markdown",
   "id": "a4c66ccf",
   "metadata": {},
   "source": [
    "Memeriksa struktur data order_reviews_df"
   ]
  },
  {
   "cell_type": "code",
   "execution_count": 111,
   "id": "e8e8e0de",
   "metadata": {},
   "outputs": [
    {
     "name": "stdout",
     "output_type": "stream",
     "text": [
      "<class 'pandas.core.frame.DataFrame'>\n",
      "RangeIndex: 99224 entries, 0 to 99223\n",
      "Data columns (total 7 columns):\n",
      " #   Column                   Non-Null Count  Dtype \n",
      "---  ------                   --------------  ----- \n",
      " 0   review_id                99224 non-null  object\n",
      " 1   order_id                 99224 non-null  object\n",
      " 2   review_score             99224 non-null  int64 \n",
      " 3   review_comment_title     11568 non-null  object\n",
      " 4   review_comment_message   40977 non-null  object\n",
      " 5   review_creation_date     99224 non-null  object\n",
      " 6   review_answer_timestamp  99224 non-null  object\n",
      "dtypes: int64(1), object(6)\n",
      "memory usage: 5.3+ MB\n"
     ]
    }
   ],
   "source": [
    "order_reviews_df.info()"
   ]
  },
  {
   "cell_type": "markdown",
   "id": "27ace045",
   "metadata": {},
   "source": [
    " menampilkan informasi terkait jumlah missing values yang terdapat dalam setiap kolom pada data order_reviews_df"
   ]
  },
  {
   "cell_type": "code",
   "execution_count": 112,
   "id": "9f1d85cb",
   "metadata": {},
   "outputs": [
    {
     "data": {
      "text/plain": [
       "review_id                      0\n",
       "order_id                       0\n",
       "review_score                   0\n",
       "review_comment_title       87656\n",
       "review_comment_message     58247\n",
       "review_creation_date           0\n",
       "review_answer_timestamp        0\n",
       "dtype: int64"
      ]
     },
     "execution_count": 112,
     "metadata": {},
     "output_type": "execute_result"
    }
   ],
   "source": [
    "order_reviews_df.isnull().sum()"
   ]
  },
  {
   "cell_type": "markdown",
   "id": "c9a22ddc",
   "metadata": {},
   "source": [
    "Memeriksa distribusi rating "
   ]
  },
  {
   "cell_type": "code",
   "execution_count": 113,
   "id": "185eb0f8",
   "metadata": {},
   "outputs": [
    {
     "data": {
      "text/plain": [
       "review_score\n",
       "1    11424\n",
       "2     3151\n",
       "3     8179\n",
       "4    19142\n",
       "5    57328\n",
       "Name: count, dtype: int64"
      ]
     },
     "execution_count": 113,
     "metadata": {},
     "output_type": "execute_result"
    }
   ],
   "source": [
    "order_reviews_df['review_score'].value_counts().sort_index()"
   ]
  },
  {
   "cell_type": "markdown",
   "id": "6027996f",
   "metadata": {},
   "source": [
    "Memeriksa jumlah reviews"
   ]
  },
  {
   "cell_type": "code",
   "execution_count": 114,
   "id": "962a50f4",
   "metadata": {},
   "outputs": [
    {
     "name": "stdout",
     "output_type": "stream",
     "text": [
      "reviews: 99224\n",
      "Unique reviewed orders: 98673\n"
     ]
    }
   ],
   "source": [
    "print(\"reviews:\", order_reviews_df.shape[0])\n",
    "print(\"Unique reviewed orders:\", order_reviews_df['order_id'].nunique())"
   ]
  },
  {
   "cell_type": "markdown",
   "id": "6e6447d5",
   "metadata": {},
   "source": [
    "#### 2. Menilai orders_df"
   ]
  },
  {
   "cell_type": "markdown",
   "id": "52016526",
   "metadata": {},
   "source": [
    "Menampilkan struktur data orders_df"
   ]
  },
  {
   "cell_type": "code",
   "execution_count": 115,
   "id": "c8c1fe2a",
   "metadata": {},
   "outputs": [
    {
     "name": "stdout",
     "output_type": "stream",
     "text": [
      "<class 'pandas.core.frame.DataFrame'>\n",
      "RangeIndex: 99441 entries, 0 to 99440\n",
      "Data columns (total 8 columns):\n",
      " #   Column                         Non-Null Count  Dtype \n",
      "---  ------                         --------------  ----- \n",
      " 0   order_id                       99441 non-null  object\n",
      " 1   customer_id                    99441 non-null  object\n",
      " 2   order_status                   99441 non-null  object\n",
      " 3   order_purchase_timestamp       99441 non-null  object\n",
      " 4   order_approved_at              99281 non-null  object\n",
      " 5   order_delivered_carrier_date   97658 non-null  object\n",
      " 6   order_delivered_customer_date  96476 non-null  object\n",
      " 7   order_estimated_delivery_date  99441 non-null  object\n",
      "dtypes: object(8)\n",
      "memory usage: 6.1+ MB\n"
     ]
    }
   ],
   "source": [
    "orders_df.info()"
   ]
  },
  {
   "cell_type": "markdown",
   "id": "83c47c1b",
   "metadata": {},
   "source": [
    "menampilkan informasi terkait jumlah missing values yang terdapat dalam setiap kolom pada data orders_df"
   ]
  },
  {
   "cell_type": "code",
   "execution_count": 116,
   "id": "a6f7cddf",
   "metadata": {},
   "outputs": [
    {
     "data": {
      "text/plain": [
       "order_id                            0\n",
       "customer_id                         0\n",
       "order_status                        0\n",
       "order_purchase_timestamp            0\n",
       "order_approved_at                 160\n",
       "order_delivered_carrier_date     1783\n",
       "order_delivered_customer_date    2965\n",
       "order_estimated_delivery_date       0\n",
       "dtype: int64"
      ]
     },
     "execution_count": 116,
     "metadata": {},
     "output_type": "execute_result"
    }
   ],
   "source": [
    "orders_df.isnull().sum()"
   ]
  },
  {
   "cell_type": "markdown",
   "id": "fa955842",
   "metadata": {},
   "source": [
    "Memeriksa rentang tanggal untuk filter 6 bulan terakhir\n"
   ]
  },
  {
   "cell_type": "code",
   "execution_count": 117,
   "id": "a97563d1",
   "metadata": {},
   "outputs": [
    {
     "name": "stdout",
     "output_type": "stream",
     "text": [
      "date range:\n",
      "Min date: 2016-09-04 21:15:19\n",
      "Max date: 2018-10-17 17:30:18\n"
     ]
    }
   ],
   "source": [
    "print(\"date range:\")\n",
    "print(\"Min date:\", orders_df['order_purchase_timestamp'].min())\n",
    "print(\"Max date:\", orders_df['order_purchase_timestamp'].max())"
   ]
  },
  {
   "cell_type": "markdown",
   "id": "a8ede8ba",
   "metadata": {},
   "source": [
    "Memeriksa jumlah order unik"
   ]
  },
  {
   "cell_type": "code",
   "execution_count": 118,
   "id": "5150f593",
   "metadata": {},
   "outputs": [
    {
     "name": "stdout",
     "output_type": "stream",
     "text": [
      "orders: 99441\n"
     ]
    }
   ],
   "source": [
    "print(\"orders:\", orders_df['order_id'].nunique())"
   ]
  },
  {
   "cell_type": "markdown",
   "id": "e5b7249d",
   "metadata": {},
   "source": [
    "#### 3. Menilai customers_df"
   ]
  },
  {
   "cell_type": "markdown",
   "id": "61721c26",
   "metadata": {},
   "source": [
    "Memeriksa struktur data customers_df"
   ]
  },
  {
   "cell_type": "code",
   "execution_count": 119,
   "id": "5d460035",
   "metadata": {},
   "outputs": [
    {
     "name": "stdout",
     "output_type": "stream",
     "text": [
      "<class 'pandas.core.frame.DataFrame'>\n",
      "RangeIndex: 99441 entries, 0 to 99440\n",
      "Data columns (total 5 columns):\n",
      " #   Column                    Non-Null Count  Dtype \n",
      "---  ------                    --------------  ----- \n",
      " 0   customer_id               99441 non-null  object\n",
      " 1   customer_unique_id        99441 non-null  object\n",
      " 2   customer_zip_code_prefix  99441 non-null  int64 \n",
      " 3   customer_city             99441 non-null  object\n",
      " 4   customer_state            99441 non-null  object\n",
      "dtypes: int64(1), object(4)\n",
      "memory usage: 3.8+ MB\n"
     ]
    }
   ],
   "source": [
    "customers_df.info()"
   ]
  },
  {
   "cell_type": "markdown",
   "id": "f3aa5bfd",
   "metadata": {},
   "source": [
    "Memeriksa jumlah pelanggan unik"
   ]
  },
  {
   "cell_type": "code",
   "execution_count": 120,
   "id": "0706ac25",
   "metadata": {},
   "outputs": [
    {
     "name": "stdout",
     "output_type": "stream",
     "text": [
      "customers: 96096\n",
      "Unique customer IDs: 99441\n"
     ]
    }
   ],
   "source": [
    "print(\"customers:\", customers_df['customer_unique_id'].nunique())\n",
    "print(\"Unique customer IDs:\", customers_df['customer_id'].nunique())"
   ]
  },
  {
   "cell_type": "markdown",
   "id": "6edfef7e",
   "metadata": {},
   "source": [
    "#### 4. Menilai products_df"
   ]
  },
  {
   "cell_type": "markdown",
   "id": "bc4d064d",
   "metadata": {},
   "source": [
    "Memeriksa struktur data customers_df"
   ]
  },
  {
   "cell_type": "code",
   "execution_count": 121,
   "id": "0d31c323",
   "metadata": {},
   "outputs": [
    {
     "name": "stdout",
     "output_type": "stream",
     "text": [
      "<class 'pandas.core.frame.DataFrame'>\n",
      "RangeIndex: 32951 entries, 0 to 32950\n",
      "Data columns (total 9 columns):\n",
      " #   Column                      Non-Null Count  Dtype  \n",
      "---  ------                      --------------  -----  \n",
      " 0   product_id                  32951 non-null  object \n",
      " 1   product_category_name       32341 non-null  object \n",
      " 2   product_name_lenght         32341 non-null  float64\n",
      " 3   product_description_lenght  32341 non-null  float64\n",
      " 4   product_photos_qty          32341 non-null  float64\n",
      " 5   product_weight_g            32949 non-null  float64\n",
      " 6   product_length_cm           32949 non-null  float64\n",
      " 7   product_height_cm           32949 non-null  float64\n",
      " 8   product_width_cm            32949 non-null  float64\n",
      "dtypes: float64(7), object(2)\n",
      "memory usage: 2.3+ MB\n"
     ]
    }
   ],
   "source": [
    "products_df.info()"
   ]
  },
  {
   "cell_type": "code",
   "execution_count": 122,
   "id": "0b29edf3",
   "metadata": {},
   "outputs": [
    {
     "data": {
      "text/plain": [
       "order_id                            0\n",
       "customer_id                         0\n",
       "order_status                        0\n",
       "order_purchase_timestamp            0\n",
       "order_approved_at                 160\n",
       "order_delivered_carrier_date     1783\n",
       "order_delivered_customer_date    2965\n",
       "order_estimated_delivery_date       0\n",
       "dtype: int64"
      ]
     },
     "execution_count": 122,
     "metadata": {},
     "output_type": "execute_result"
    }
   ],
   "source": [
    "orders_df.isnull().sum()"
   ]
  },
  {
   "cell_type": "markdown",
   "id": "aa79fd7c",
   "metadata": {},
   "source": [
    "#### 5. Menilai sellers_df"
   ]
  },
  {
   "cell_type": "markdown",
   "id": "d33e640b",
   "metadata": {},
   "source": [
    "Memeriksa struktur data sellers_df"
   ]
  },
  {
   "cell_type": "code",
   "execution_count": 123,
   "id": "e9a699bc",
   "metadata": {},
   "outputs": [
    {
     "name": "stdout",
     "output_type": "stream",
     "text": [
      "<class 'pandas.core.frame.DataFrame'>\n",
      "RangeIndex: 3095 entries, 0 to 3094\n",
      "Data columns (total 4 columns):\n",
      " #   Column                  Non-Null Count  Dtype \n",
      "---  ------                  --------------  ----- \n",
      " 0   seller_id               3095 non-null   object\n",
      " 1   seller_zip_code_prefix  3095 non-null   int64 \n",
      " 2   seller_city             3095 non-null   object\n",
      " 3   seller_state            3095 non-null   object\n",
      "dtypes: int64(1), object(3)\n",
      "memory usage: 96.8+ KB\n"
     ]
    }
   ],
   "source": [
    "sellers_df.info()"
   ]
  },
  {
   "cell_type": "markdown",
   "id": "8911fa17",
   "metadata": {},
   "source": [
    "#### 6. Menilai geolocations_df"
   ]
  },
  {
   "cell_type": "markdown",
   "id": "805c6bd3",
   "metadata": {},
   "source": [
    "Memeriksa struktur data geolocations_df"
   ]
  },
  {
   "cell_type": "code",
   "execution_count": 124,
   "id": "2130b179",
   "metadata": {},
   "outputs": [
    {
     "name": "stdout",
     "output_type": "stream",
     "text": [
      "<class 'pandas.core.frame.DataFrame'>\n",
      "RangeIndex: 1000163 entries, 0 to 1000162\n",
      "Data columns (total 5 columns):\n",
      " #   Column                       Non-Null Count    Dtype  \n",
      "---  ------                       --------------    -----  \n",
      " 0   geolocation_zip_code_prefix  1000163 non-null  int64  \n",
      " 1   geolocation_lat              1000163 non-null  float64\n",
      " 2   geolocation_lng              1000163 non-null  float64\n",
      " 3   geolocation_city             1000163 non-null  object \n",
      " 4   geolocation_state            1000163 non-null  object \n",
      "dtypes: float64(2), int64(1), object(2)\n",
      "memory usage: 38.2+ MB\n"
     ]
    }
   ],
   "source": [
    "geolocation_df.info()"
   ]
  },
  {
   "cell_type": "markdown",
   "id": "a2c28da9",
   "metadata": {},
   "source": [
    "#### 7. Menilai order_payments_df"
   ]
  },
  {
   "cell_type": "markdown",
   "id": "6d22595c",
   "metadata": {},
   "source": [
    "Memeriksa struktur data order_payments_df"
   ]
  },
  {
   "cell_type": "code",
   "execution_count": 125,
   "id": "a372158d",
   "metadata": {},
   "outputs": [
    {
     "name": "stdout",
     "output_type": "stream",
     "text": [
      "<class 'pandas.core.frame.DataFrame'>\n",
      "RangeIndex: 103886 entries, 0 to 103885\n",
      "Data columns (total 5 columns):\n",
      " #   Column                Non-Null Count   Dtype  \n",
      "---  ------                --------------   -----  \n",
      " 0   order_id              103886 non-null  object \n",
      " 1   payment_sequential    103886 non-null  int64  \n",
      " 2   payment_type          103886 non-null  object \n",
      " 3   payment_installments  103886 non-null  int64  \n",
      " 4   payment_value         103886 non-null  float64\n",
      "dtypes: float64(1), int64(2), object(2)\n",
      "memory usage: 4.0+ MB\n"
     ]
    }
   ],
   "source": [
    "order_payments_df.info()"
   ]
  },
  {
   "cell_type": "markdown",
   "id": "4c873d48",
   "metadata": {},
   "source": [
    "#### 8. Menilai product_category_translation_df "
   ]
  },
  {
   "cell_type": "markdown",
   "id": "6be8dc71",
   "metadata": {},
   "source": [
    "Memeriksa struktur data product_category_translation_df"
   ]
  },
  {
   "cell_type": "code",
   "execution_count": 126,
   "id": "ca7c25e8",
   "metadata": {},
   "outputs": [
    {
     "name": "stdout",
     "output_type": "stream",
     "text": [
      "<class 'pandas.core.frame.DataFrame'>\n",
      "RangeIndex: 71 entries, 0 to 70\n",
      "Data columns (total 2 columns):\n",
      " #   Column                         Non-Null Count  Dtype \n",
      "---  ------                         --------------  ----- \n",
      " 0   product_category_name          71 non-null     object\n",
      " 1   product_category_name_english  71 non-null     object\n",
      "dtypes: object(2)\n",
      "memory usage: 1.2+ KB\n"
     ]
    }
   ],
   "source": [
    "product_category_translation_df.info()"
   ]
  },
  {
   "cell_type": "markdown",
   "id": "3f8c0584",
   "metadata": {},
   "source": [
    "#### 9. Menilai order_items_df"
   ]
  },
  {
   "cell_type": "markdown",
   "id": "24596fba",
   "metadata": {},
   "source": [
    "Memeriksa struktur data order_items_df"
   ]
  },
  {
   "cell_type": "code",
   "execution_count": 127,
   "id": "84c7d5e2",
   "metadata": {},
   "outputs": [
    {
     "name": "stdout",
     "output_type": "stream",
     "text": [
      "<class 'pandas.core.frame.DataFrame'>\n",
      "RangeIndex: 112650 entries, 0 to 112649\n",
      "Data columns (total 7 columns):\n",
      " #   Column               Non-Null Count   Dtype  \n",
      "---  ------               --------------   -----  \n",
      " 0   order_id             112650 non-null  object \n",
      " 1   order_item_id        112650 non-null  int64  \n",
      " 2   product_id           112650 non-null  object \n",
      " 3   seller_id            112650 non-null  object \n",
      " 4   shipping_limit_date  112650 non-null  object \n",
      " 5   price                112650 non-null  float64\n",
      " 6   freight_value        112650 non-null  float64\n",
      "dtypes: float64(2), int64(1), object(4)\n",
      "memory usage: 6.0+ MB\n"
     ]
    }
   ],
   "source": [
    "order_items_df.info()"
   ]
  },
  {
   "cell_type": "markdown",
   "id": "92b35080",
   "metadata": {},
   "source": [
    "### Insight :"
   ]
  },
  {
   "cell_type": "markdown",
   "id": "9cc82074",
   "metadata": {},
   "source": [
    "Berikut ini adalah insight dari assessing data:\n",
    "1. order_reviews_df:  \n",
    "   - Hampir semua review memiliki skor, namun sebagian besar tidak memiliki judul atau pesan komentar (hanya sekitar 12% yang ada komentarnya).  \n",
    "   - Distribusi rating cenderung sangat positif (rating 5 mendominasi), namun review negatif (1-2 bintang) tetap signifikan untuk analisis pengalaman buruk.  \n",
    "   - Ada sedikit perbedaan antara jumlah review dan jumlah order unik, menandakan beberapa order mendapat lebih dari satu review.\n",
    "\n"
   ]
  },
  {
   "cell_type": "markdown",
   "id": "fa811979",
   "metadata": {},
   "source": [
    "2. orders_df: \n",
    "   - Sebagian kecil data memiliki nilai kosong pada tanggal persetujuan, pengiriman ke kurir, dan pengiriman ke pelanggan.  \n",
    "   - Data tanggal pesanan mencakup periode yang luas, sehingga perlu filter untuk 6 bulan terakhir sesuai kebutuhan analisis.  \n",
    "   - Jumlah order unik konsisten dengan jumlah baris, menandakan tidak ada duplikasi order_id."
   ]
  },
  {
   "cell_type": "markdown",
   "id": "304805b7",
   "metadata": {},
   "source": [
    "3. customers_df:  \n",
    "   - Jumlah customer_id lebih banyak dari customer_unique_id, artinya ada pelanggan yang melakukan beberapa order (repeat customer).  \n",
    "   - Tidak ada missing value, sehingga data pelanggan siap digunakan."
   ]
  },
  {
   "cell_type": "markdown",
   "id": "b17c6c37",
   "metadata": {},
   "source": [
    "\n",
    "4. products_df:  \n",
    "   - Ada missing value pada kategori produk dan atribut deskripsi, foto, serta dimensi produk.  \n",
    "   - Perlu penanganan missing value sebelum analisis produk atau kategori.b"
   ]
  },
  {
   "cell_type": "markdown",
   "id": "e611eb2a",
   "metadata": {},
   "source": [
    "5. sellers_df dan geolocation_df:  \n",
    "   Tidak ada missing value, data lokasi penjual dan geolokasi siap digunakan untuk analisis spasial."
   ]
  },
  {
   "cell_type": "markdown",
   "id": "0b560de4",
   "metadata": {},
   "source": [
    "6. order_payments_df dan order_items_df:  \n",
    "   Tidak ditemukan missing value, data pembayaran dan item pesanan siap dianalisis."
   ]
  },
  {
   "cell_type": "markdown",
   "id": "ee8bca19",
   "metadata": {},
   "source": [
    "7. product_category_translation_df:  \n",
    "   Data lengkap, siap digunakan untuk menerjemahkan kategori produk.\n",
    "\n"
   ]
  },
  {
   "cell_type": "markdown",
   "id": "c05b61d7",
   "metadata": {},
   "source": [
    "Kesimpulan insight Assessing Data:  \n",
    "Sebagian besar data sudah lengkap dan siap digunakan, namun ada beberapa missing value pada kolom komentar review, atribut produk, dan tanggal pengiriman pada order. Hal ini perlu diperhatikan pada tahap pembersihan data agar hasil analisis, terutama terkait pengalaman pelanggan dan produk, tetap akurat. Data pelanggan dan transaksi sangat kaya, sehingga mendukung analisis perilaku pembelian ulang dan korelasi antara pengiriman dan review."
   ]
  },
  {
   "cell_type": "markdown",
   "id": "24854110",
   "metadata": {},
   "source": [
    "## Cleaning Data"
   ]
  },
  {
   "cell_type": "markdown",
   "id": "8be7e0e7",
   "metadata": {},
   "source": [
    "Pada tahap ini, kita akan membersihkan berbagai masalah yang telah teridentifikasi dalam proses assessing data. Berdasarkan hasil dari proses assesing data, akan dilakukan proses cleaning data sebagai berikut:\n",
    "- Menangani nilai yang hilang pada kolom tanggal penting\n",
    "- Menghapus baris dengan nilai yang hilang pada kolom-kolom \"order_purchase_timestamp\" dan \"order_delivered_customer_date\n",
    "\""
   ]
  },
  {
   "cell_type": "markdown",
   "id": "faf56cc9",
   "metadata": {},
   "source": [
    "#### 1. Konversi kolom tanggal ke format datetime"
   ]
  },
  {
   "cell_type": "code",
   "execution_count": 128,
   "id": "67f91c7c",
   "metadata": {},
   "outputs": [],
   "source": [
    "date_columns_orders = ['order_purchase_timestamp', 'order_approved_at', \n",
    "                       'order_delivered_carrier_date', 'order_delivered_customer_date', \n",
    "                       'order_estimated_delivery_date']\n",
    "\n",
    "for col in date_columns_orders:\n",
    "    orders_df[col] = pd.to_datetime(orders_df[col], errors='coerce')\n",
    "\n",
    "date_columns_reviews = ['review_creation_date', 'review_answer_timestamp']\n",
    "\n",
    "for col in date_columns_reviews:\n",
    "    order_reviews_df[col] = pd.to_datetime(order_reviews_df[col], errors='coerce')\n"
   ]
  },
  {
   "cell_type": "markdown",
   "id": "08913f52",
   "metadata": {},
   "source": [
    "#### 2. Membuat salinan dataframe untuk analisis"
   ]
  },
  {
   "cell_type": "code",
   "execution_count": 129,
   "id": "b85b8e10",
   "metadata": {},
   "outputs": [],
   "source": [
    "orders_clean = orders_df.copy()\n",
    "reviews_clean = order_reviews_df.copy()"
   ]
  },
  {
   "cell_type": "markdown",
   "id": "5da9fed3",
   "metadata": {},
   "source": [
    "#### 3. Menangani nilai yang hilang pada kolom tanggal penting"
   ]
  },
  {
   "cell_type": "code",
   "execution_count": 130,
   "id": "6c7fec2d",
   "metadata": {},
   "outputs": [
    {
     "name": "stdout",
     "output_type": "stream",
     "text": [
      "values in key date columns before cleaning:\n",
      "order_purchase_timestamp            0\n",
      "order_approved_at                 160\n",
      "order_delivered_carrier_date     1783\n",
      "order_delivered_customer_date    2965\n",
      "order_estimated_delivery_date       0\n",
      "dtype: int64\n"
     ]
    }
   ],
   "source": [
    "print(\"values in key date columns before cleaning:\")\n",
    "print(orders_clean[date_columns_orders].isnull().sum())"
   ]
  },
  {
   "cell_type": "markdown",
   "id": "dcd6ae15",
   "metadata": {},
   "source": [
    "#### 4. Untuk analisis waktu pengiriman kita perlu menghapus baris dengan nilai yang hilang pada kolom order_purchase_timestamp dan order_delivered_customer_date"
   ]
  },
  {
   "cell_type": "code",
   "execution_count": 131,
   "id": "801ddd97",
   "metadata": {},
   "outputs": [
    {
     "name": "stdout",
     "output_type": "stream",
     "text": [
      "with complete delivery data: 96476\n",
      "Percentage of orders with complete delivery data: 97.02%\n"
     ]
    }
   ],
   "source": [
    "delivery_analysis_df = orders_clean.dropna(subset=['order_purchase_timestamp', 'order_delivered_customer_date'])\n",
    "print(f\"with complete delivery data: {delivery_analysis_df.shape[0]}\")\n",
    "print(\"Percentage of orders with complete delivery data: {:.2f}%\".format(\n",
    "    delivery_analysis_df.shape[0] / orders_clean.shape[0] * 100))"
   ]
  },
  {
   "cell_type": "markdown",
   "id": "834bbd2f",
   "metadata": {},
   "source": [
    "### Insight :"
   ]
  },
  {
   "cell_type": "markdown",
   "id": "26c7e795",
   "metadata": {},
   "source": [
    "Berikut ini adalah insight dari tahapan cleaning data:\n",
    "1. Kolom tanggal penting sudah berhasil dikonversi ke format datetime, sehingga siap untuk analisis waktu secara akurat.\n",
    "2. Dataframe salinan sudah dibuat untuk menjaga data mentah tetap utuh.\n",
    "3. Nilai hilang pada kolom tanggal penting telah diidentifikasi, terutama pada order_approved_at, order_delivered_carrier_date, dan order_delivered_customer_date.\n",
    "4. Untuk analisis waktu pengiriman, baris dengan nilai hilang pada order_purchase_timestamp dan order_delivered_customer_date telah dihapus, sehingga hanya data dengan informasi pengiriman lengkap yang digunakan.\n",
    "5. Setelah pembersihan, 97,02% data pesanan memiliki data pengiriman yang lengkap, sehingga analisis korelasi waktu pengiriman dan rating review dapat dilakukan dengan data yang sangat representatif.\n",
    "\n",
    "Kesimpulan:  \n",
    "Data sudah bersih dan siap digunakan untuk analisis lanjutan terkait waktu pengiriman, rating review, dan perilaku pembelian ulang pelanggan."
   ]
  },
  {
   "cell_type": "markdown",
   "id": "8d8c0de2",
   "metadata": {},
   "source": [
    "# Exploratory Data Analysis (EDA)"
   ]
  },
  {
   "cell_type": "markdown",
   "id": "852b5f17",
   "metadata": {},
   "source": [
    "Eksplorasi analisis data berikut untuk menjawab pertanyaan bisnis :\n",
    "- Bagaimana korelasi antara waktu pengiriman dengan rating review dalam 6 bulan terakhir, dan apa strategi untuk meningkatkan rating rata-rata sebesar 0.5 poin dalam 90 hari ke depan?\n",
    "- Berapa persentase pelanggan yang memberikan review negatif (1-2 bintang) namun melakukan pembelian kembali dalam 30 hari, dan bagaimana meningkatkan tingkat pembelian ulang dari pelanggan dengan pengalaman negatif sebesar 25% dalam kuartal berikutnya?"
   ]
  },
  {
   "cell_type": "markdown",
   "id": "d4d8a524",
   "metadata": {},
   "source": [
    "## Explore"
   ]
  },
  {
   "cell_type": "markdown",
   "id": "897c4fce",
   "metadata": {},
   "source": [
    "#### 1. Analisis Korelasi Waktu Pengiriman dengan Rating Review"
   ]
  },
  {
   "cell_type": "markdown",
   "id": "48b9b9c4",
   "metadata": {},
   "source": [
    "Filter data untuk 6 bulan terakhir"
   ]
  },
  {
   "cell_type": "code",
   "execution_count": 132,
   "id": "cc72c2e9",
   "metadata": {},
   "outputs": [
    {
     "name": "stdout",
     "output_type": "stream",
     "text": [
      "Jumlah pesanan dalam 6 bulan terakhir: 28184\n"
     ]
    }
   ],
   "source": [
    "max_date = orders_clean['order_purchase_timestamp'].max()\n",
    "six_months_ago = max_date - pd.Timedelta(days=180)\n",
    "recent_orders = orders_clean[orders_clean['order_purchase_timestamp'] >= six_months_ago].copy()\n",
    "\n",
    "print(\"Jumlah pesanan dalam 6 bulan terakhir:\", recent_orders.shape[0])"
   ]
  },
  {
   "cell_type": "markdown",
   "id": "0c338f99",
   "metadata": {},
   "source": [
    "Menghitung waktu pengiriman (dalam hari)"
   ]
  },
  {
   "cell_type": "code",
   "execution_count": 133,
   "id": "fa9f083c",
   "metadata": {},
   "outputs": [],
   "source": [
    "recent_orders['delivery_time_days'] = (recent_orders['order_delivered_customer_date'] - \n",
    "                                      recent_orders['order_purchase_timestamp']).dt.total_seconds() / (24*60*60)"
   ]
  },
  {
   "cell_type": "markdown",
   "id": "610053f1",
   "metadata": {},
   "source": [
    "Menangani nilai yang hilang atau negatif pada waktu pengiriman"
   ]
  },
  {
   "cell_type": "code",
   "execution_count": 134,
   "id": "c106325b",
   "metadata": {},
   "outputs": [
    {
     "name": "stdout",
     "output_type": "stream",
     "text": [
      "Jumlah pesanan dengan waktu pengiriman valid: 27635\n"
     ]
    }
   ],
   "source": [
    "delivery_time_df = recent_orders.dropna(subset=['delivery_time_days'])\n",
    "delivery_time_df = delivery_time_df[delivery_time_df['delivery_time_days'] >= 0]\n",
    "print(\"Jumlah pesanan dengan waktu pengiriman valid:\", delivery_time_df.shape[0])"
   ]
  },
  {
   "cell_type": "markdown",
   "id": "f86ff3c9",
   "metadata": {},
   "source": [
    "Menggabungkan data pesanan dengan review"
   ]
  },
  {
   "cell_type": "code",
   "execution_count": 135,
   "id": "2f3e7a2e",
   "metadata": {
    "scrolled": true
   },
   "outputs": [
    {
     "name": "stdout",
     "output_type": "stream",
     "text": [
      "Jumlah pesanan dengan waktu pengiriman dan review: 27549\n"
     ]
    }
   ],
   "source": [
    "delivery_review_df = pd.merge(delivery_time_df, reviews_clean, on='order_id', how='inner')\n",
    "\n",
    "print(\"Jumlah pesanan dengan waktu pengiriman dan review:\", delivery_review_df.shape[0])"
   ]
  },
  {
   "cell_type": "markdown",
   "id": "3d6f7e10",
   "metadata": {},
   "source": [
    "Statistik deskriptif waktu pengiriman"
   ]
  },
  {
   "cell_type": "code",
   "execution_count": 136,
   "id": "eee8af57",
   "metadata": {},
   "outputs": [
    {
     "name": "stdout",
     "output_type": "stream",
     "text": [
      "waktu pengiriman (hari):\n",
      "count    27549.000000\n",
      "mean         9.492631\n",
      "std          6.669148\n",
      "min          0.863426\n",
      "25%          5.255475\n",
      "50%          7.930729\n",
      "75%         11.894595\n",
      "max        143.411435\n",
      "Name: delivery_time_days, dtype: float64\n"
     ]
    }
   ],
   "source": [
    "print(\"waktu pengiriman (hari):\")\n",
    "print(delivery_review_df['delivery_time_days'].describe())"
   ]
  },
  {
   "cell_type": "markdown",
   "id": "597b8f43",
   "metadata": {},
   "source": [
    "Statistik deskriptif rating"
   ]
  },
  {
   "cell_type": "code",
   "execution_count": 137,
   "id": "eb9643a8",
   "metadata": {},
   "outputs": [
    {
     "name": "stdout",
     "output_type": "stream",
     "text": [
      "rating:\n",
      "review_score\n",
      "1     2073\n",
      "2      707\n",
      "3     1979\n",
      "4     5273\n",
      "5    17517\n",
      "Name: count, dtype: int64\n",
      "distribusi rating:\n",
      "review_score\n",
      "1     7.524774\n",
      "2     2.566336\n",
      "3     7.183564\n",
      "4    19.140441\n",
      "5    63.584885\n",
      "Name: proportion, dtype: float64\n"
     ]
    }
   ],
   "source": [
    "print(\"rating:\")\n",
    "print(delivery_review_df['review_score'].value_counts().sort_index())\n",
    "print(\"distribusi rating:\")\n",
    "print(delivery_review_df['review_score'].value_counts(normalize=True).sort_index() * 100)"
   ]
  },
  {
   "cell_type": "markdown",
   "id": "1985495c",
   "metadata": {},
   "source": [
    "Analisis korelasi antara waktu pengiriman dan rating"
   ]
  },
  {
   "cell_type": "code",
   "execution_count": 138,
   "id": "261e520d",
   "metadata": {},
   "outputs": [
    {
     "name": "stdout",
     "output_type": "stream",
     "text": [
      "antara waktu pengiriman dan rating: correlation:.4f\n"
     ]
    }
   ],
   "source": [
    "correlation = delivery_review_df['delivery_time_days'].corr(delivery_review_df['review_score'])\n",
    "print(f\"antara waktu pengiriman dan rating: correlation:.4f\")"
   ]
  },
  {
   "cell_type": "markdown",
   "id": "6caf5dc9",
   "metadata": {},
   "source": [
    "Analisis rata-rata waktu pengiriman per rating"
   ]
  },
  {
   "cell_type": "code",
   "execution_count": 139,
   "id": "32756931",
   "metadata": {},
   "outputs": [
    {
     "name": "stdout",
     "output_type": "stream",
     "text": [
      "waktu pengiriman per rating:\n"
     ]
    },
    {
     "data": {
      "text/html": [
       "<div>\n",
       "<style scoped>\n",
       "    .dataframe tbody tr th:only-of-type {\n",
       "        vertical-align: middle;\n",
       "    }\n",
       "\n",
       "    .dataframe tbody tr th {\n",
       "        vertical-align: top;\n",
       "    }\n",
       "\n",
       "    .dataframe thead th {\n",
       "        text-align: right;\n",
       "    }\n",
       "</style>\n",
       "<table border=\"1\" class=\"dataframe\">\n",
       "  <thead>\n",
       "    <tr style=\"text-align: right;\">\n",
       "      <th></th>\n",
       "      <th>review_score</th>\n",
       "      <th>mean</th>\n",
       "      <th>median</th>\n",
       "      <th>count</th>\n",
       "    </tr>\n",
       "  </thead>\n",
       "  <tbody>\n",
       "    <tr>\n",
       "      <th>0</th>\n",
       "      <td>1</td>\n",
       "      <td>13.780216</td>\n",
       "      <td>10.123449</td>\n",
       "      <td>2073</td>\n",
       "    </tr>\n",
       "    <tr>\n",
       "      <th>1</th>\n",
       "      <td>2</td>\n",
       "      <td>11.806780</td>\n",
       "      <td>8.983900</td>\n",
       "      <td>707</td>\n",
       "    </tr>\n",
       "    <tr>\n",
       "      <th>2</th>\n",
       "      <td>3</td>\n",
       "      <td>11.079079</td>\n",
       "      <td>8.869109</td>\n",
       "      <td>1979</td>\n",
       "    </tr>\n",
       "    <tr>\n",
       "      <th>3</th>\n",
       "      <td>4</td>\n",
       "      <td>9.779982</td>\n",
       "      <td>8.185394</td>\n",
       "      <td>5273</td>\n",
       "    </tr>\n",
       "    <tr>\n",
       "      <th>4</th>\n",
       "      <td>5</td>\n",
       "      <td>8.626099</td>\n",
       "      <td>7.375475</td>\n",
       "      <td>17517</td>\n",
       "    </tr>\n",
       "  </tbody>\n",
       "</table>\n",
       "</div>"
      ],
      "text/plain": [
       "   review_score       mean     median  count\n",
       "0             1  13.780216  10.123449   2073\n",
       "1             2  11.806780   8.983900    707\n",
       "2             3  11.079079   8.869109   1979\n",
       "3             4   9.779982   8.185394   5273\n",
       "4             5   8.626099   7.375475  17517"
      ]
     },
     "execution_count": 139,
     "metadata": {},
     "output_type": "execute_result"
    }
   ],
   "source": [
    "delivery_by_rating = delivery_review_df.groupby('review_score')['delivery_time_days'].agg(['mean', 'median', 'count']).reset_index()\n",
    "print(\"waktu pengiriman per rating:\")\n",
    "delivery_by_rating"
   ]
  },
  {
   "cell_type": "markdown",
   "id": "b6f601e9",
   "metadata": {},
   "source": [
    "#### 2. Analisis Ketepatan Waktu Pengiriman"
   ]
  },
  {
   "cell_type": "markdown",
   "id": "26cbf517",
   "metadata": {},
   "source": [
    "Menghitung ketepatan waktu pengiriman (selisih antara estimasi dan aktual)"
   ]
  },
  {
   "cell_type": "code",
   "execution_count": 140,
   "id": "f246b4e8",
   "metadata": {},
   "outputs": [],
   "source": [
    "delivery_review_df['delivery_accuracy_days'] = (delivery_review_df['order_delivered_customer_date'] - \n",
    "                                      delivery_review_df['order_estimated_delivery_date']).dt.total_seconds() / (24*60*60)"
   ]
  },
  {
   "cell_type": "markdown",
   "id": "43de01a9",
   "metadata": {},
   "source": [
    "Kategorisasi ketepatan pengiriman"
   ]
  },
  {
   "cell_type": "code",
   "execution_count": 141,
   "id": "218c8b52",
   "metadata": {},
   "outputs": [],
   "source": [
    "delivery_review_df['delivery_status'] = pd.cut(\n",
    "    delivery_review_df['delivery_accuracy_days'],\n",
    "    bins=[-float('inf'), -3, -1, 1, 3, float('inf')],\n",
    "    labels=['Very Early (>3 days)', 'Early (1-3 days)', 'On Time (±1 day)', 'Late (1-3 days)', 'Very Late (>3 days)']\n",
    ")"
   ]
  },
  {
   "cell_type": "markdown",
   "id": "65df8e78",
   "metadata": {},
   "source": [
    "Analisis rating berdasarkan status ketepatan pengiriman"
   ]
  },
  {
   "cell_type": "code",
   "execution_count": 142,
   "id": "d4d97826",
   "metadata": {},
   "outputs": [
    {
     "name": "stdout",
     "output_type": "stream",
     "text": [
      "rating berdasarkan status ketepatan pengiriman:\n"
     ]
    },
    {
     "data": {
      "text/html": [
       "<div>\n",
       "<style scoped>\n",
       "    .dataframe tbody tr th:only-of-type {\n",
       "        vertical-align: middle;\n",
       "    }\n",
       "\n",
       "    .dataframe tbody tr th {\n",
       "        vertical-align: top;\n",
       "    }\n",
       "\n",
       "    .dataframe thead th {\n",
       "        text-align: right;\n",
       "    }\n",
       "</style>\n",
       "<table border=\"1\" class=\"dataframe\">\n",
       "  <thead>\n",
       "    <tr style=\"text-align: right;\">\n",
       "      <th></th>\n",
       "      <th>delivery_status</th>\n",
       "      <th>mean</th>\n",
       "      <th>median</th>\n",
       "      <th>count</th>\n",
       "    </tr>\n",
       "  </thead>\n",
       "  <tbody>\n",
       "    <tr>\n",
       "      <th>0</th>\n",
       "      <td>Very Early (&gt;3 days)</td>\n",
       "      <td>4.353983</td>\n",
       "      <td>5.0</td>\n",
       "      <td>23987</td>\n",
       "    </tr>\n",
       "    <tr>\n",
       "      <th>1</th>\n",
       "      <td>Early (1-3 days)</td>\n",
       "      <td>4.347727</td>\n",
       "      <td>5.0</td>\n",
       "      <td>1320</td>\n",
       "    </tr>\n",
       "    <tr>\n",
       "      <th>2</th>\n",
       "      <td>On Time (±1 day)</td>\n",
       "      <td>4.377218</td>\n",
       "      <td>5.0</td>\n",
       "      <td>1071</td>\n",
       "    </tr>\n",
       "    <tr>\n",
       "      <th>3</th>\n",
       "      <td>Late (1-3 days)</td>\n",
       "      <td>3.805882</td>\n",
       "      <td>4.0</td>\n",
       "      <td>340</td>\n",
       "    </tr>\n",
       "    <tr>\n",
       "      <th>4</th>\n",
       "      <td>Very Late (&gt;3 days)</td>\n",
       "      <td>2.335740</td>\n",
       "      <td>1.0</td>\n",
       "      <td>831</td>\n",
       "    </tr>\n",
       "  </tbody>\n",
       "</table>\n",
       "</div>"
      ],
      "text/plain": [
       "        delivery_status      mean  median  count\n",
       "0  Very Early (>3 days)  4.353983     5.0  23987\n",
       "1      Early (1-3 days)  4.347727     5.0   1320\n",
       "2      On Time (±1 day)  4.377218     5.0   1071\n",
       "3       Late (1-3 days)  3.805882     4.0    340\n",
       "4   Very Late (>3 days)  2.335740     1.0    831"
      ]
     },
     "execution_count": 142,
     "metadata": {},
     "output_type": "execute_result"
    }
   ],
   "source": [
    "delivery_status_rating = delivery_review_df.groupby('delivery_status')['review_score'].agg(['mean', 'median', 'count']).reset_index()\n",
    "print(\"rating berdasarkan status ketepatan pengiriman:\")\n",
    "delivery_status_rating"
   ]
  },
  {
   "cell_type": "markdown",
   "id": "e278456b",
   "metadata": {},
   "source": [
    "Distribusi status ketepatan pengiriman"
   ]
  },
  {
   "cell_type": "code",
   "execution_count": 143,
   "id": "59e74b20",
   "metadata": {},
   "outputs": [
    {
     "name": "stdout",
     "output_type": "stream",
     "text": [
      "status ketepatan pengiriman:\n",
      "delivery_status\n",
      "Very Early (>3 days)    23987\n",
      "Early (1-3 days)         1320\n",
      "On Time (±1 day)         1071\n",
      "Very Late (>3 days)       831\n",
      "Late (1-3 days)           340\n",
      "Name: count, dtype: int64\n",
      "\n",
      "\n",
      "distribusi status ketepatan pengiriman:\n",
      "delivery_status\n",
      "Very Early (>3 days)    87.070311\n",
      "Early (1-3 days)         4.791462\n",
      "On Time (±1 day)         3.887618\n",
      "Very Late (>3 days)      3.016443\n",
      "Late (1-3 days)          1.234165\n",
      "Name: count, dtype: float64\n"
     ]
    }
   ],
   "source": [
    "delivery_status_counts = delivery_review_df['delivery_status'].value_counts()\n",
    "print(\"status ketepatan pengiriman:\")\n",
    "print(delivery_status_counts)\n",
    "print(\"\\n\")\n",
    "print(\"distribusi status ketepatan pengiriman:\")\n",
    "print(delivery_status_counts / delivery_status_counts.sum() * 100)"
   ]
  },
  {
   "cell_type": "markdown",
   "id": "7fa54818",
   "metadata": {},
   "source": [
    "#### 3. Analisis Kategori Produk dan Waktu Pengiriman"
   ]
  },
  {
   "cell_type": "markdown",
   "id": "e49672d6",
   "metadata": {},
   "source": [
    "Menggabungkan data dengan kategori produk"
   ]
  },
  {
   "cell_type": "code",
   "execution_count": 144,
   "id": "82e92a66",
   "metadata": {},
   "outputs": [],
   "source": [
    "product_delivery_df = pd.merge(delivery_review_df, order_items_df, on='order_id', how='inner')\n",
    "product_delivery_df = pd.merge(product_delivery_df, products_df, on='product_id', how='inner')\n",
    "product_delivery_df = pd.merge(\n",
    "    product_delivery_df,\n",
    "    product_category_translation_df,\n",
    "    left_on='product_category_name',\n",
    "    right_on='product_category_name',\n",
    "    how='left'\n",
    ")"
   ]
  },
  {
   "cell_type": "markdown",
   "id": "6dff99e3",
   "metadata": {},
   "source": [
    "Analisis kategori produk berdasarkan waktu pengiriman dan rating"
   ]
  },
  {
   "cell_type": "code",
   "execution_count": 145,
   "id": "86cd1b63",
   "metadata": {},
   "outputs": [],
   "source": [
    "category_analysis = product_delivery_df.groupby('product_category_name_english').agg({\n",
    "    'review_score': ['mean', 'count'],\n",
    "    'delivery_time_days': ['mean', 'median']\n",
    "})"
   ]
  },
  {
   "cell_type": "markdown",
   "id": "56a77f75",
   "metadata": {},
   "source": [
    "Flatten multi-level columns"
   ]
  },
  {
   "cell_type": "code",
   "execution_count": 146,
   "id": "516c6087",
   "metadata": {},
   "outputs": [],
   "source": [
    "category_analysis.columns = [\n",
    "    col if isinstance(col, str) else '_'.join(col).strip()\n",
    "    for col in category_analysis.columns.values\n",
    "]"
   ]
  },
  {
   "cell_type": "markdown",
   "id": "5f208b9d",
   "metadata": {},
   "source": [
    "Filter kategori dengan minimal 30 pesanan"
   ]
  },
  {
   "cell_type": "code",
   "execution_count": 147,
   "id": "c22a84c5",
   "metadata": {},
   "outputs": [],
   "source": [
    "category_analysis_filtered = category_analysis[category_analysis['review_score_count'] >= 30].copy()"
   ]
  },
  {
   "cell_type": "markdown",
   "id": "497b296b",
   "metadata": {},
   "source": [
    "Urutkan berdasarkan rating terendah"
   ]
  },
  {
   "cell_type": "code",
   "execution_count": 148,
   "id": "87a4fab1",
   "metadata": {},
   "outputs": [
    {
     "name": "stdout",
     "output_type": "stream",
     "text": [
      "produk dengan rating terendah (min 30 pesanan):\n"
     ]
    },
    {
     "data": {
      "text/html": [
       "<div>\n",
       "<style scoped>\n",
       "    .dataframe tbody tr th:only-of-type {\n",
       "        vertical-align: middle;\n",
       "    }\n",
       "\n",
       "    .dataframe tbody tr th {\n",
       "        vertical-align: top;\n",
       "    }\n",
       "\n",
       "    .dataframe thead th {\n",
       "        text-align: right;\n",
       "    }\n",
       "</style>\n",
       "<table border=\"1\" class=\"dataframe\">\n",
       "  <thead>\n",
       "    <tr style=\"text-align: right;\">\n",
       "      <th></th>\n",
       "      <th>product_category_name_english</th>\n",
       "      <th>review_score_mean</th>\n",
       "      <th>delivery_time_days_mean</th>\n",
       "      <th>review_score_count</th>\n",
       "    </tr>\n",
       "  </thead>\n",
       "  <tbody>\n",
       "    <tr>\n",
       "      <th>0</th>\n",
       "      <td>fixed_telephony</td>\n",
       "      <td>3.745455</td>\n",
       "      <td>9.290887</td>\n",
       "      <td>55</td>\n",
       "    </tr>\n",
       "    <tr>\n",
       "      <th>1</th>\n",
       "      <td>office_furniture</td>\n",
       "      <td>3.767584</td>\n",
       "      <td>18.808679</td>\n",
       "      <td>327</td>\n",
       "    </tr>\n",
       "    <tr>\n",
       "      <th>2</th>\n",
       "      <td>air_conditioning</td>\n",
       "      <td>3.842105</td>\n",
       "      <td>8.734527</td>\n",
       "      <td>76</td>\n",
       "    </tr>\n",
       "    <tr>\n",
       "      <th>3</th>\n",
       "      <td>furniture_bedroom</td>\n",
       "      <td>3.948718</td>\n",
       "      <td>12.064252</td>\n",
       "      <td>39</td>\n",
       "    </tr>\n",
       "    <tr>\n",
       "      <th>4</th>\n",
       "      <td>home_confort</td>\n",
       "      <td>3.951807</td>\n",
       "      <td>9.519399</td>\n",
       "      <td>83</td>\n",
       "    </tr>\n",
       "    <tr>\n",
       "      <th>5</th>\n",
       "      <td>kitchen_dining_laundry_garden_furniture</td>\n",
       "      <td>3.956989</td>\n",
       "      <td>7.957184</td>\n",
       "      <td>93</td>\n",
       "    </tr>\n",
       "    <tr>\n",
       "      <th>6</th>\n",
       "      <td>furniture_living_room</td>\n",
       "      <td>3.967105</td>\n",
       "      <td>9.707542</td>\n",
       "      <td>152</td>\n",
       "    </tr>\n",
       "    <tr>\n",
       "      <th>7</th>\n",
       "      <td>market_place</td>\n",
       "      <td>3.975610</td>\n",
       "      <td>10.472354</td>\n",
       "      <td>41</td>\n",
       "    </tr>\n",
       "    <tr>\n",
       "      <th>8</th>\n",
       "      <td>construction_tools_safety</td>\n",
       "      <td>3.977011</td>\n",
       "      <td>10.238912</td>\n",
       "      <td>87</td>\n",
       "    </tr>\n",
       "    <tr>\n",
       "      <th>9</th>\n",
       "      <td>costruction_tools_garden</td>\n",
       "      <td>4.037975</td>\n",
       "      <td>8.872184</td>\n",
       "      <td>79</td>\n",
       "    </tr>\n",
       "  </tbody>\n",
       "</table>\n",
       "</div>"
      ],
      "text/plain": [
       "             product_category_name_english  review_score_mean  \\\n",
       "0                          fixed_telephony           3.745455   \n",
       "1                         office_furniture           3.767584   \n",
       "2                         air_conditioning           3.842105   \n",
       "3                        furniture_bedroom           3.948718   \n",
       "4                             home_confort           3.951807   \n",
       "5  kitchen_dining_laundry_garden_furniture           3.956989   \n",
       "6                    furniture_living_room           3.967105   \n",
       "7                             market_place           3.975610   \n",
       "8                construction_tools_safety           3.977011   \n",
       "9                 costruction_tools_garden           4.037975   \n",
       "\n",
       "   delivery_time_days_mean  review_score_count  \n",
       "0                 9.290887                  55  \n",
       "1                18.808679                 327  \n",
       "2                 8.734527                  76  \n",
       "3                12.064252                  39  \n",
       "4                 9.519399                  83  \n",
       "5                 7.957184                  93  \n",
       "6                 9.707542                 152  \n",
       "7                10.472354                  41  \n",
       "8                10.238912                  87  \n",
       "9                 8.872184                  79  "
      ]
     },
     "execution_count": 148,
     "metadata": {},
     "output_type": "execute_result"
    }
   ],
   "source": [
    "category_analysis_filtered_sorted = category_analysis_filtered.sort_values('review_score_mean')\n",
    "category_analysis_filtered_sorted = category_analysis_filtered_sorted.reset_index()\n",
    "\n",
    "print(\"produk dengan rating terendah (min 30 pesanan):\")\n",
    "category_analysis_filtered_sorted[['product_category_name_english', 'review_score_mean', \n",
    "                                        'delivery_time_days_mean', 'review_score_count']].head(10)"
   ]
  },
  {
   "cell_type": "markdown",
   "id": "ebe4c04d",
   "metadata": {},
   "source": [
    "#### 4. Analisis Pembelian Ulang Setelah Review Negatif"
   ]
  },
  {
   "cell_type": "markdown",
   "id": "8a393ddb",
   "metadata": {},
   "source": [
    "Menggabungkan data customer untuk analisis pembelian ulang"
   ]
  },
  {
   "cell_type": "code",
   "execution_count": 149,
   "id": "f4c9f696",
   "metadata": {},
   "outputs": [],
   "source": [
    "customer_orders_df = pd.merge(orders_clean, customers_df, on='customer_id', how='inner')\n",
    "customer_orders_df['order_purchase_timestamp'] = pd.to_datetime(customer_orders_df['order_purchase_timestamp'])"
   ]
  },
  {
   "cell_type": "markdown",
   "id": "51bad4b4",
   "metadata": {},
   "source": [
    "Menambahkan data review"
   ]
  },
  {
   "cell_type": "code",
   "execution_count": 150,
   "id": "78456d4c",
   "metadata": {},
   "outputs": [],
   "source": [
    "customer_orders_reviews_df = pd.merge(customer_orders_df, reviews_clean, on='order_id', how='inner')"
   ]
  },
  {
   "cell_type": "markdown",
   "id": "044ab69b",
   "metadata": {},
   "source": [
    "Identifikasi pelanggan dengan review negatif (1-2 bintang)"
   ]
  },
  {
   "cell_type": "code",
   "execution_count": 151,
   "id": "9ede3ea0",
   "metadata": {},
   "outputs": [],
   "source": [
    "negative_reviews_df = customer_orders_reviews_df[customer_orders_reviews_df['review_score'].isin([1, 2])].copy()\n",
    "negative_reviews_df['review_creation_date'] = pd.to_datetime(negative_reviews_df['review_creation_date'])"
   ]
  },
  {
   "cell_type": "markdown",
   "id": "2ad975da",
   "metadata": {},
   "source": [
    "Cari pembelian ulang setelah review negatif"
   ]
  },
  {
   "cell_type": "code",
   "execution_count": 152,
   "id": "fb09134d",
   "metadata": {},
   "outputs": [],
   "source": [
    "merged = customer_orders_df.merge(\n",
    "    negative_reviews_df[['customer_unique_id', 'order_id', 'review_creation_date', 'review_score']],\n",
    "    on='customer_unique_id',\n",
    "    suffixes=('', '_review')\n",
    ")\n",
    "filtered = merged[\n",
    "    (merged['order_purchase_timestamp'] > merged['review_creation_date']) &\n",
    "    (merged['order_id'] != merged['order_id_review'])\n",
    "].copy()\n",
    "filtered['days_to_repurchase'] = (filtered['order_purchase_timestamp'] - filtered['review_creation_date']).dt.days\n"
   ]
  },
  {
   "cell_type": "markdown",
   "id": "30e825c1",
   "metadata": {},
   "source": [
    "Ambil pembelian ulang terdekat"
   ]
  },
  {
   "cell_type": "code",
   "execution_count": 153,
   "id": "ae923d9f",
   "metadata": {},
   "outputs": [],
   "source": [
    "nearest = filtered.sort_values(['customer_unique_id', 'order_id_review', 'days_to_repurchase'])\n",
    "nearest = nearest.groupby(['customer_unique_id', 'order_id_review'], as_index=False).first()\n",
    "nearest['repurchased_30days'] = nearest['days_to_repurchase'] <= 30"
   ]
  },
  {
   "cell_type": "markdown",
   "id": "54edc9e4",
   "metadata": {},
   "source": [
    "Gabungkan hasil ke negative_reviews_df"
   ]
  },
  {
   "cell_type": "code",
   "execution_count": 154,
   "id": "684b58dd",
   "metadata": {},
   "outputs": [],
   "source": [
    "repurchase_df = negative_reviews_df.merge(\n",
    "    nearest[['customer_unique_id', 'order_id_review', 'repurchased_30days', 'days_to_repurchase']],\n",
    "    left_on=['customer_unique_id', 'order_id'],\n",
    "    right_on=['customer_unique_id', 'order_id_review'],\n",
    "    how='left'\n",
    ")\n",
    "repurchase_df['days_to_repurchase'] = repurchase_df['days_to_repurchase'].astype(object).where(\n",
    "    pd.notnull(repurchase_df['days_to_repurchase']), None\n",
    ")"
   ]
  },
  {
   "cell_type": "markdown",
   "id": "26f72dbe",
   "metadata": {},
   "source": [
    "Analisis pembelian ulang setelah review negatif"
   ]
  },
  {
   "cell_type": "code",
   "execution_count": 155,
   "id": "d370abd9",
   "metadata": {},
   "outputs": [
    {
     "name": "stdout",
     "output_type": "stream",
     "text": [
      "Total review negatif: 14575\n",
      "Total pembelian ulang dalam 30 hari: 93\n",
      "Persentase pembelian ulang setelah review negatif: 0.64%\n"
     ]
    }
   ],
   "source": [
    "total_negative_reviews = repurchase_df.shape[0]\n",
    "total_repurchase = repurchase_df['repurchased_30days'].sum()\n",
    "repurchase_rate = (total_repurchase / total_negative_reviews) * 100\n",
    "\n",
    "print(f\"Total review negatif: {total_negative_reviews}\")\n",
    "print(f\"Total pembelian ulang dalam 30 hari: {int(total_repurchase)}\")\n",
    "print(f\"Persentase pembelian ulang setelah review negatif: {repurchase_rate:.2f}%\")"
   ]
  },
  {
   "cell_type": "markdown",
   "id": "cac87e57",
   "metadata": {},
   "source": [
    "Distribusi hari hingga pembelian ulang"
   ]
  },
  {
   "cell_type": "code",
   "execution_count": 156,
   "id": "6839bdeb",
   "metadata": {},
   "outputs": [
    {
     "name": "stdout",
     "output_type": "stream",
     "text": [
      "Distribusi hari hingga pembelian ulang (hanya yang repurchase):\n",
      "count     93.0\n",
      "unique    28.0\n",
      "top        0.0\n",
      "freq       7.0\n",
      "Name: days_to_repurchase, dtype: float64\n"
     ]
    }
   ],
   "source": [
    "print(\"Distribusi hari hingga pembelian ulang (hanya yang repurchase):\")\n",
    "print(repurchase_df[repurchase_df['repurchased_30days'] == True]['days_to_repurchase'].describe())"
   ]
  },
  {
   "cell_type": "markdown",
   "id": "4143fdba",
   "metadata": {},
   "source": [
    "Hitung persentase pembelian ulang per rating"
   ]
  },
  {
   "cell_type": "code",
   "execution_count": 157,
   "id": "ef80109e",
   "metadata": {},
   "outputs": [],
   "source": [
    "repurchase_by_rating = (\n",
    "    repurchase_df.groupby('review_score')['repurchased_30days']\n",
    "    .agg(['sum', 'count'])\n",
    "    .reset_index()\n",
    ")\n",
    "repurchase_by_rating['repurchase_pct'] = (repurchase_by_rating['sum'] / repurchase_by_rating['count']) * 100"
   ]
  },
  {
   "cell_type": "markdown",
   "id": "68e2e69a",
   "metadata": {},
   "source": [
    "Menampilkan hasil"
   ]
  },
  {
   "cell_type": "code",
   "execution_count": 158,
   "id": "4d0a1ef4",
   "metadata": {},
   "outputs": [
    {
     "name": "stdout",
     "output_type": "stream",
     "text": [
      "Total review negatif: total_negative_reviews\n",
      "Total pembelian ulang dalam 30 hari: 93\n",
      "Persentase pembelian ulang setelah review negatif: 0.64%\n",
      "Distribusi hari hingga pembelian ulang (hanya yang repurchase):\n",
      "count     93.0\n",
      "unique    28.0\n",
      "top        0.0\n",
      "freq       7.0\n",
      "Name: days_to_repurchase, dtype: float64\n",
      "pembelian ulang dalam 30 hari berdasarkan rating:\n",
      "  - Rating 1 bintang: 37.06\n",
      "  - Rating 2 bintang: 31.25\n"
     ]
    }
   ],
   "source": [
    "print(f\"Total review negatif: total_negative_reviews\")\n",
    "print(f\"Total pembelian ulang dalam 30 hari: {int(total_repurchase)}\")\n",
    "print(f\"Persentase pembelian ulang setelah review negatif: {repurchase_rate:.2f}%\")\n",
    "print(\"Distribusi hari hingga pembelian ulang (hanya yang repurchase):\")\n",
    "print(repurchase_df[repurchase_df['repurchased_30days'] == True]['days_to_repurchase'].describe())\n",
    "\n",
    "print(\"pembelian ulang dalam 30 hari berdasarkan rating:\")\n",
    "for rating in [1, 2]:\n",
    "    row = repurchase_by_rating[repurchase_by_rating['review_score'] == rating]\n",
    "    if not row.empty:\n",
    "        pct = row['repurchase_pct'].values[0]\n",
    "        print(f\"  - Rating {rating} bintang: {pct:.2f}\")\n",
    "    else:\n",
    "        print(f\"  - Rating {rating} bintang: Data tidak tersedia\")"
   ]
  },
  {
   "cell_type": "markdown",
   "id": "cc35b1ab",
   "metadata": {},
   "source": [
    "#### 5. Analisis kategori produk dengan review negatif"
   ]
  },
  {
   "cell_type": "markdown",
   "id": "6a0d660e",
   "metadata": {},
   "source": [
    "Analisis kategori produk yang mendapatkan review negatif"
   ]
  },
  {
   "cell_type": "code",
   "execution_count": 159,
   "id": "68fcde8a",
   "metadata": {},
   "outputs": [],
   "source": [
    "negative_product_df = (\n",
    "    negative_reviews_df\n",
    "    .merge(order_items_df, on='order_id', how='inner')\n",
    "    .merge(products_df, on='product_id', how='inner')\n",
    "    .merge(product_category_translation_df, on='product_category_name', how='left')\n",
    ")"
   ]
  },
  {
   "cell_type": "markdown",
   "id": "5754829c",
   "metadata": {},
   "source": [
    "Analisis kategori dengan review negatif"
   ]
  },
  {
   "cell_type": "code",
   "execution_count": 160,
   "id": "f7a06573",
   "metadata": {},
   "outputs": [],
   "source": [
    "negative_category_counts = (\n",
    "    negative_product_df['product_category_name_english']\n",
    "    .value_counts()\n",
    "    .reset_index()\n",
    "    .rename(columns={'index': 'product_category_name_english', 'count': 'negative_review_count'})\n",
    ")"
   ]
  },
  {
   "cell_type": "markdown",
   "id": "db1d070d",
   "metadata": {},
   "source": [
    "Menghitung total review per kategori untuk persentase"
   ]
  },
  {
   "cell_type": "code",
   "execution_count": 161,
   "id": "a2b76bd1",
   "metadata": {},
   "outputs": [],
   "source": [
    "total_reviews_by_category = (\n",
    "    product_delivery_df\n",
    "    .groupby('product_category_name_english')['review_score']\n",
    "    .count()\n",
    "    .reset_index()\n",
    "    .rename(columns={'review_score': 'total_review_count'})\n",
    ")"
   ]
  },
  {
   "cell_type": "markdown",
   "id": "d402a6cb",
   "metadata": {},
   "source": [
    "Menggabungkan data"
   ]
  },
  {
   "cell_type": "code",
   "execution_count": 162,
   "id": "8a7daa35",
   "metadata": {},
   "outputs": [],
   "source": [
    "category_negative_analysis = negative_category_counts.merge(\n",
    "    total_reviews_by_category, on='product_category_name_english', how='left'\n",
    ")"
   ]
  },
  {
   "cell_type": "markdown",
   "id": "4d192827",
   "metadata": {},
   "source": [
    "Menghitung persentase review negatif"
   ]
  },
  {
   "cell_type": "code",
   "execution_count": 163,
   "id": "e68b6ed1",
   "metadata": {},
   "outputs": [],
   "source": [
    "category_negative_analysis['negative_review_pct'] = (\n",
    "    category_negative_analysis['negative_review_count'] / category_negative_analysis['total_review_count'] * 100\n",
    ")"
   ]
  },
  {
   "cell_type": "markdown",
   "id": "56a275f1",
   "metadata": {},
   "source": [
    "Filter kategori dengan minimal 20 review"
   ]
  },
  {
   "cell_type": "code",
   "execution_count": 164,
   "id": "b4d5e179",
   "metadata": {},
   "outputs": [
    {
     "name": "stdout",
     "output_type": "stream",
     "text": [
      "produk dengan persentase review negatif tertinggi (min 20 review):\n"
     ]
    },
    {
     "data": {
      "text/html": [
       "<div>\n",
       "<style scoped>\n",
       "    .dataframe tbody tr th:only-of-type {\n",
       "        vertical-align: middle;\n",
       "    }\n",
       "\n",
       "    .dataframe tbody tr th {\n",
       "        vertical-align: top;\n",
       "    }\n",
       "\n",
       "    .dataframe thead th {\n",
       "        text-align: right;\n",
       "    }\n",
       "</style>\n",
       "<table border=\"1\" class=\"dataframe\">\n",
       "  <thead>\n",
       "    <tr style=\"text-align: right;\">\n",
       "      <th></th>\n",
       "      <th>product_category_name_english</th>\n",
       "      <th>negative_review_count</th>\n",
       "      <th>total_review_count</th>\n",
       "      <th>negative_review_pct</th>\n",
       "    </tr>\n",
       "  </thead>\n",
       "  <tbody>\n",
       "    <tr>\n",
       "      <th>14</th>\n",
       "      <td>office_furniture</td>\n",
       "      <td>440</td>\n",
       "      <td>327.0</td>\n",
       "      <td>134.556575</td>\n",
       "    </tr>\n",
       "    <tr>\n",
       "      <th>29</th>\n",
       "      <td>fixed_telephony</td>\n",
       "      <td>67</td>\n",
       "      <td>55.0</td>\n",
       "      <td>121.818182</td>\n",
       "    </tr>\n",
       "    <tr>\n",
       "      <th>34</th>\n",
       "      <td>market_place</td>\n",
       "      <td>44</td>\n",
       "      <td>41.0</td>\n",
       "      <td>107.317073</td>\n",
       "    </tr>\n",
       "    <tr>\n",
       "      <th>27</th>\n",
       "      <td>home_confort</td>\n",
       "      <td>88</td>\n",
       "      <td>83.0</td>\n",
       "      <td>106.024096</td>\n",
       "    </tr>\n",
       "    <tr>\n",
       "      <th>43</th>\n",
       "      <td>fashion_shoes</td>\n",
       "      <td>32</td>\n",
       "      <td>33.0</td>\n",
       "      <td>96.969697</td>\n",
       "    </tr>\n",
       "    <tr>\n",
       "      <th>13</th>\n",
       "      <td>cool_stuff</td>\n",
       "      <td>495</td>\n",
       "      <td>579.0</td>\n",
       "      <td>85.492228</td>\n",
       "    </tr>\n",
       "    <tr>\n",
       "      <th>19</th>\n",
       "      <td>consoles_games</td>\n",
       "      <td>173</td>\n",
       "      <td>211.0</td>\n",
       "      <td>81.990521</td>\n",
       "    </tr>\n",
       "    <tr>\n",
       "      <th>28</th>\n",
       "      <td>audio</td>\n",
       "      <td>79</td>\n",
       "      <td>98.0</td>\n",
       "      <td>80.612245</td>\n",
       "    </tr>\n",
       "    <tr>\n",
       "      <th>2</th>\n",
       "      <td>computers_accessories</td>\n",
       "      <td>1461</td>\n",
       "      <td>1815.0</td>\n",
       "      <td>80.495868</td>\n",
       "    </tr>\n",
       "    <tr>\n",
       "      <th>1</th>\n",
       "      <td>furniture_decor</td>\n",
       "      <td>1621</td>\n",
       "      <td>2046.0</td>\n",
       "      <td>79.227761</td>\n",
       "    </tr>\n",
       "  </tbody>\n",
       "</table>\n",
       "</div>"
      ],
      "text/plain": [
       "   product_category_name_english  negative_review_count  total_review_count  \\\n",
       "14              office_furniture                    440               327.0   \n",
       "29               fixed_telephony                     67                55.0   \n",
       "34                  market_place                     44                41.0   \n",
       "27                  home_confort                     88                83.0   \n",
       "43                 fashion_shoes                     32                33.0   \n",
       "13                    cool_stuff                    495               579.0   \n",
       "19                consoles_games                    173               211.0   \n",
       "28                         audio                     79                98.0   \n",
       "2          computers_accessories                   1461              1815.0   \n",
       "1                furniture_decor                   1621              2046.0   \n",
       "\n",
       "    negative_review_pct  \n",
       "14           134.556575  \n",
       "29           121.818182  \n",
       "34           107.317073  \n",
       "27           106.024096  \n",
       "43            96.969697  \n",
       "13            85.492228  \n",
       "19            81.990521  \n",
       "28            80.612245  \n",
       "2             80.495868  \n",
       "1             79.227761  "
      ]
     },
     "execution_count": 164,
     "metadata": {},
     "output_type": "execute_result"
    }
   ],
   "source": [
    "category_negative_analysis_filtered = category_negative_analysis[category_negative_analysis['total_review_count'] >= 20]\n",
    "category_negative_analysis_filtered_sorted = category_negative_analysis_filtered.sort_values('negative_review_pct', ascending=False)\n",
    "\n",
    "print(\"produk dengan persentase review negatif tertinggi (min 20 review):\")\n",
    "category_negative_analysis_filtered_sorted.head(10)"
   ]
  },
  {
   "cell_type": "markdown",
   "id": "4e54593d",
   "metadata": {},
   "source": [
    "#### 7. Analisis Pembelian Ulang berdasarkan Kategori Produk"
   ]
  },
  {
   "cell_type": "markdown",
   "id": "b7e0ce50",
   "metadata": {},
   "source": [
    "Menggabungkan data repurchase dengan kategori produk"
   ]
  },
  {
   "cell_type": "code",
   "execution_count": 165,
   "id": "6cd9a5dc",
   "metadata": {},
   "outputs": [],
   "source": [
    "repurchase_product_df = (\n",
    "    repurchase_df\n",
    "    .merge(negative_product_df[['order_id', 'product_category_name_english']], on='order_id', how='inner')\n",
    "    .drop_duplicates(subset=['order_id', 'product_category_name_english'])\n",
    ")"
   ]
  },
  {
   "cell_type": "markdown",
   "id": "27b4a41b",
   "metadata": {},
   "source": [
    "Analisis pembelian ulang berdasarkan kategori produk"
   ]
  },
  {
   "cell_type": "code",
   "execution_count": 166,
   "id": "4af24ded",
   "metadata": {},
   "outputs": [],
   "source": [
    "repurchase_by_category = (\n",
    "    repurchase_product_df\n",
    "    .groupby('product_category_name_english')['repurchased_30days']\n",
    "    .agg(['mean', 'count'])\n",
    ".reset_index()\n",
    ")\n",
    "repurchase_by_category['repurchase_pct'] = repurchase_by_category['mean'] * 100"
   ]
  },
  {
   "cell_type": "markdown",
   "id": "c19e040c",
   "metadata": {},
   "source": [
    "Filter kategori dengan minimal 10 review negatif"
   ]
  },
  {
   "cell_type": "code",
   "execution_count": 167,
   "id": "70dded1d",
   "metadata": {},
   "outputs": [
    {
     "name": "stdout",
     "output_type": "stream",
     "text": [
      "produk dengan tingkat pembelian ulang tertinggi setelah review negatif (min 10 review):\n"
     ]
    },
    {
     "data": {
      "text/html": [
       "<div>\n",
       "<style scoped>\n",
       "    .dataframe tbody tr th:only-of-type {\n",
       "        vertical-align: middle;\n",
       "    }\n",
       "\n",
       "    .dataframe tbody tr th {\n",
       "        vertical-align: top;\n",
       "    }\n",
       "\n",
       "    .dataframe thead th {\n",
       "        text-align: right;\n",
       "    }\n",
       "</style>\n",
       "<table border=\"1\" class=\"dataframe\">\n",
       "  <thead>\n",
       "    <tr style=\"text-align: right;\">\n",
       "      <th></th>\n",
       "      <th>product_category_name_english</th>\n",
       "      <th>repurchase_pct</th>\n",
       "      <th>count</th>\n",
       "    </tr>\n",
       "  </thead>\n",
       "  <tbody>\n",
       "    <tr>\n",
       "      <th>64</th>\n",
       "      <td>sports_leisure</td>\n",
       "      <td>42.857143</td>\n",
       "      <td>21</td>\n",
       "    </tr>\n",
       "    <tr>\n",
       "      <th>48</th>\n",
       "      <td>housewares</td>\n",
       "      <td>42.105263</td>\n",
       "      <td>19</td>\n",
       "    </tr>\n",
       "    <tr>\n",
       "      <th>42</th>\n",
       "      <td>health_beauty</td>\n",
       "      <td>34.782609</td>\n",
       "      <td>23</td>\n",
       "    </tr>\n",
       "    <tr>\n",
       "      <th>14</th>\n",
       "      <td>computers_accessories</td>\n",
       "      <td>31.25</td>\n",
       "      <td>16</td>\n",
       "    </tr>\n",
       "    <tr>\n",
       "      <th>38</th>\n",
       "      <td>furniture_decor</td>\n",
       "      <td>30.0</td>\n",
       "      <td>20</td>\n",
       "    </tr>\n",
       "    <tr>\n",
       "      <th>7</th>\n",
       "      <td>bed_bath_table</td>\n",
       "      <td>28.571429</td>\n",
       "      <td>28</td>\n",
       "    </tr>\n",
       "    <tr>\n",
       "      <th>69</th>\n",
       "      <td>watches_gifts</td>\n",
       "      <td>21.428571</td>\n",
       "      <td>14</td>\n",
       "    </tr>\n",
       "  </tbody>\n",
       "</table>\n",
       "</div>"
      ],
      "text/plain": [
       "   product_category_name_english repurchase_pct  count\n",
       "64                sports_leisure      42.857143     21\n",
       "48                    housewares      42.105263     19\n",
       "42                 health_beauty      34.782609     23\n",
       "14         computers_accessories          31.25     16\n",
       "38               furniture_decor           30.0     20\n",
       "7                 bed_bath_table      28.571429     28\n",
       "69                 watches_gifts      21.428571     14"
      ]
     },
     "execution_count": 167,
     "metadata": {},
     "output_type": "execute_result"
    }
   ],
   "source": [
    "repurchase_by_category_filtered = repurchase_by_category[repurchase_by_category['count'] >= 10]\n",
    "repurchase_by_category_sorted = repurchase_by_category_filtered.sort_values('repurchase_pct', ascending=False)\n",
    "\n",
    "print(\"produk dengan tingkat pembelian ulang tertinggi setelah review negatif (min 10 review):\")\n",
    "repurchase_by_category_sorted[['product_category_name_english', 'repurchase_pct', 'count']].head(10)"
   ]
  },
  {
   "cell_type": "markdown",
   "id": "d3c721dc",
   "metadata": {},
   "source": [
    "#### 8. Analisis Waktu Pembelian Ulang"
   ]
  },
  {
   "cell_type": "markdown",
   "id": "656b0bc4",
   "metadata": {},
   "source": [
    "Analisis waktu pembelian ulang untuk pelanggan yang melakukan pembelian kembali"
   ]
  },
  {
   "cell_type": "code",
   "execution_count": 168,
   "id": "c7523991",
   "metadata": {},
   "outputs": [
    {
     "name": "stdout",
     "output_type": "stream",
     "text": [
      "waktu pembelian ulang (hari):\n",
      "count     93.0\n",
      "unique    28.0\n",
      "top        0.0\n",
      "freq       7.0\n",
      "Name: days_to_repurchase, dtype: float64\n",
      "waktu pembelian ulang:\n",
      "days_to_repurchase\n",
      "(-0.001, 5.0]    28\n",
      "(5.0, 10.0]      14\n",
      "(10.0, 15.0]     14\n",
      "(15.0, 20.0]     22\n",
      "(20.0, 25.0]      9\n",
      "(25.0, 30.0]      6\n",
      "Name: count, dtype: int64\n",
      "distribusi waktu pembelian ulang:\n",
      "days_to_repurchase\n",
      "(-0.001, 5.0]    30.107527\n",
      "(5.0, 10.0]      15.053763\n",
      "(10.0, 15.0]     15.053763\n",
      "(15.0, 20.0]     23.655914\n",
      "(20.0, 25.0]      9.677419\n",
      "(25.0, 30.0]      6.451613\n",
      "Name: count, dtype: float64\n"
     ]
    }
   ],
   "source": [
    "repurchasers = repurchase_df[repurchase_df['repurchased_30days'] == True].copy()\n",
    "if not repurchasers.empty:\n",
    "    # Distribusi waktu pembelian ulang\n",
    "    print(\"waktu pembelian ulang (hari):\")\n",
    "    print(repurchasers['days_to_repurchase'].describe())\n",
    "    \n",
    "    # Distribusi frekuensi waktu pembelian ulang\n",
    "    days_to_repurchase_bins = pd.cut(repurchasers['days_to_repurchase'], \n",
    "                                     bins=[0, 5, 10, 15, 20, 25, 30], \n",
    "                                     include_lowest=True)\n",
    "    days_to_repurchase_counts = days_to_repurchase_bins.value_counts().sort_index()\n",
    "    print(\"waktu pembelian ulang:\")\n",
    "    print(days_to_repurchase_counts)\n",
    "    print(\"distribusi waktu pembelian ulang:\")\n",
    "    print(days_to_repurchase_counts / days_to_repurchase_counts.sum() * 100)"
   ]
  },
  {
   "cell_type": "markdown",
   "id": "5c188383",
   "metadata": {},
   "source": [
    "#### 9. Analisis Korelasi Tambahan"
   ]
  },
  {
   "cell_type": "markdown",
   "id": "4c18dbce",
   "metadata": {},
   "source": [
    "Membuat dataframe untuk analisis korelasi"
   ]
  },
  {
   "cell_type": "code",
   "execution_count": 169,
   "id": "773d6965",
   "metadata": {},
   "outputs": [],
   "source": [
    "correlation_df = delivery_review_df[['delivery_time_days', 'delivery_accuracy_days', 'review_score']].copy()"
   ]
  },
  {
   "cell_type": "markdown",
   "id": "dfdab0b1",
   "metadata": {},
   "source": [
    "Menghitung matriks korelasi"
   ]
  },
  {
   "cell_type": "code",
   "execution_count": 170,
   "id": "40030169",
   "metadata": {},
   "outputs": [
    {
     "name": "stdout",
     "output_type": "stream",
     "text": [
      "Korelasi:\n"
     ]
    },
    {
     "data": {
      "text/html": [
       "<div>\n",
       "<style scoped>\n",
       "    .dataframe tbody tr th:only-of-type {\n",
       "        vertical-align: middle;\n",
       "    }\n",
       "\n",
       "    .dataframe tbody tr th {\n",
       "        vertical-align: top;\n",
       "    }\n",
       "\n",
       "    .dataframe thead th {\n",
       "        text-align: right;\n",
       "    }\n",
       "</style>\n",
       "<table border=\"1\" class=\"dataframe\">\n",
       "  <thead>\n",
       "    <tr style=\"text-align: right;\">\n",
       "      <th></th>\n",
       "      <th>delivery_time_days</th>\n",
       "      <th>delivery_accuracy_days</th>\n",
       "      <th>review_score</th>\n",
       "    </tr>\n",
       "  </thead>\n",
       "  <tbody>\n",
       "    <tr>\n",
       "      <th>delivery_time_days</th>\n",
       "      <td>1.000000</td>\n",
       "      <td>0.250009</td>\n",
       "      <td>-0.221566</td>\n",
       "    </tr>\n",
       "    <tr>\n",
       "      <th>delivery_accuracy_days</th>\n",
       "      <td>0.250009</td>\n",
       "      <td>1.000000</td>\n",
       "      <td>-0.119369</td>\n",
       "    </tr>\n",
       "    <tr>\n",
       "      <th>review_score</th>\n",
       "      <td>-0.221566</td>\n",
       "      <td>-0.119369</td>\n",
       "      <td>1.000000</td>\n",
       "    </tr>\n",
       "  </tbody>\n",
       "</table>\n",
       "</div>"
      ],
      "text/plain": [
       "                        delivery_time_days  delivery_accuracy_days  \\\n",
       "delivery_time_days                1.000000                0.250009   \n",
       "delivery_accuracy_days            0.250009                1.000000   \n",
       "review_score                     -0.221566               -0.119369   \n",
       "\n",
       "                        review_score  \n",
       "delivery_time_days         -0.221566  \n",
       "delivery_accuracy_days     -0.119369  \n",
       "review_score                1.000000  "
      ]
     },
     "execution_count": 170,
     "metadata": {},
     "output_type": "execute_result"
    }
   ],
   "source": [
    "correlation_matrix = correlation_df.corr()\n",
    "print(\"Korelasi:\")\n",
    "correlation_matrix"
   ]
  },
  {
   "cell_type": "markdown",
   "id": "29d8a8ac",
   "metadata": {},
   "source": [
    "#### 10. Analisis Tren Rating Bulanan"
   ]
  },
  {
   "cell_type": "markdown",
   "id": "c401de76",
   "metadata": {},
   "source": [
    "Menambahkan kolom bulan untuk analisis tren"
   ]
  },
  {
   "cell_type": "code",
   "execution_count": 171,
   "id": "9b96871e",
   "metadata": {},
   "outputs": [],
   "source": [
    "delivery_review_df['order_month'] = delivery_review_df['order_purchase_timestamp'].dt.to_period('M')"
   ]
  },
  {
   "cell_type": "markdown",
   "id": "caf53979",
   "metadata": {},
   "source": [
    "Analisis rating rata-rata per bulan"
   ]
  },
  {
   "cell_type": "code",
   "execution_count": 172,
   "id": "131eb4b0",
   "metadata": {},
   "outputs": [
    {
     "name": "stdout",
     "output_type": "stream",
     "text": [
      "rating rata-rata bulanan:\n"
     ]
    },
    {
     "data": {
      "text/html": [
       "<div>\n",
       "<style scoped>\n",
       "    .dataframe tbody tr th:only-of-type {\n",
       "        vertical-align: middle;\n",
       "    }\n",
       "\n",
       "    .dataframe tbody tr th {\n",
       "        vertical-align: top;\n",
       "    }\n",
       "\n",
       "    .dataframe thead th {\n",
       "        text-align: right;\n",
       "    }\n",
       "</style>\n",
       "<table border=\"1\" class=\"dataframe\">\n",
       "  <thead>\n",
       "    <tr style=\"text-align: right;\">\n",
       "      <th></th>\n",
       "      <th>order_month</th>\n",
       "      <th>mean</th>\n",
       "      <th>count</th>\n",
       "    </tr>\n",
       "  </thead>\n",
       "  <tbody>\n",
       "    <tr>\n",
       "      <th>4</th>\n",
       "      <td>2018-08</td>\n",
       "      <td>4.310486</td>\n",
       "      <td>6332</td>\n",
       "    </tr>\n",
       "    <tr>\n",
       "      <th>3</th>\n",
       "      <td>2018-07</td>\n",
       "      <td>4.318782</td>\n",
       "      <td>6139</td>\n",
       "    </tr>\n",
       "    <tr>\n",
       "      <th>2</th>\n",
       "      <td>2018-06</td>\n",
       "      <td>4.307832</td>\n",
       "      <td>6078</td>\n",
       "    </tr>\n",
       "    <tr>\n",
       "      <th>1</th>\n",
       "      <td>2018-05</td>\n",
       "      <td>4.235810</td>\n",
       "      <td>6730</td>\n",
       "    </tr>\n",
       "    <tr>\n",
       "      <th>0</th>\n",
       "      <td>2018-04</td>\n",
       "      <td>4.230837</td>\n",
       "      <td>2270</td>\n",
       "    </tr>\n",
       "  </tbody>\n",
       "</table>\n",
       "</div>"
      ],
      "text/plain": [
       "  order_month      mean  count\n",
       "4     2018-08  4.310486   6332\n",
       "3     2018-07  4.318782   6139\n",
       "2     2018-06  4.307832   6078\n",
       "1     2018-05  4.235810   6730\n",
       "0     2018-04  4.230837   2270"
      ]
     },
     "execution_count": 172,
     "metadata": {},
     "output_type": "execute_result"
    }
   ],
   "source": [
    "monthly_ratings = delivery_review_df.groupby('order_month')['review_score'].agg(['mean', 'count']).reset_index()\n",
    "monthly_ratings['order_month'] = monthly_ratings['order_month'].astype(str)\n",
    "\n",
    "print(\"rating rata-rata bulanan:\")\n",
    "monthly_ratings.sort_values('order_month', ascending=False)"
   ]
  },
  {
   "cell_type": "markdown",
   "id": "3aee9e32",
   "metadata": {},
   "source": [
    "#### 11. Analisis Perbedaan Rating berdasarkan Metode Pembayaran"
   ]
  },
  {
   "cell_type": "markdown",
   "id": "0b06e26b",
   "metadata": {},
   "source": [
    "Menggabungkan dengan data pembayaran"
   ]
  },
  {
   "cell_type": "code",
   "execution_count": 173,
   "id": "cfe12745",
   "metadata": {},
   "outputs": [],
   "source": [
    "payment_review_df = pd.merge(delivery_review_df, order_payments_df, on='order_id', how='inner')"
   ]
  },
  {
   "cell_type": "markdown",
   "id": "1f7ea02c",
   "metadata": {},
   "source": [
    "Analisis rating berdasarkan metode pembayaran"
   ]
  },
  {
   "cell_type": "code",
   "execution_count": 174,
   "id": "9e09744e",
   "metadata": {},
   "outputs": [
    {
     "name": "stdout",
     "output_type": "stream",
     "text": [
      "berdasarkan metode pembayaran:\n"
     ]
    },
    {
     "data": {
      "text/html": [
       "<div>\n",
       "<style scoped>\n",
       "    .dataframe tbody tr th:only-of-type {\n",
       "        vertical-align: middle;\n",
       "    }\n",
       "\n",
       "    .dataframe tbody tr th {\n",
       "        vertical-align: top;\n",
       "    }\n",
       "\n",
       "    .dataframe thead th {\n",
       "        text-align: right;\n",
       "    }\n",
       "</style>\n",
       "<table border=\"1\" class=\"dataframe\">\n",
       "  <thead>\n",
       "    <tr style=\"text-align: right;\">\n",
       "      <th></th>\n",
       "      <th>payment_type</th>\n",
       "      <th>mean</th>\n",
       "      <th>median</th>\n",
       "      <th>count</th>\n",
       "    </tr>\n",
       "  </thead>\n",
       "  <tbody>\n",
       "    <tr>\n",
       "      <th>2</th>\n",
       "      <td>debit_card</td>\n",
       "      <td>4.315789</td>\n",
       "      <td>5.0</td>\n",
       "      <td>760</td>\n",
       "    </tr>\n",
       "    <tr>\n",
       "      <th>0</th>\n",
       "      <td>boleto</td>\n",
       "      <td>4.313172</td>\n",
       "      <td>5.0</td>\n",
       "      <td>5026</td>\n",
       "    </tr>\n",
       "    <tr>\n",
       "      <th>1</th>\n",
       "      <td>credit_card</td>\n",
       "      <td>4.282875</td>\n",
       "      <td>5.0</td>\n",
       "      <td>21483</td>\n",
       "    </tr>\n",
       "    <tr>\n",
       "      <th>3</th>\n",
       "      <td>voucher</td>\n",
       "      <td>4.208399</td>\n",
       "      <td>5.0</td>\n",
       "      <td>1262</td>\n",
       "    </tr>\n",
       "  </tbody>\n",
       "</table>\n",
       "</div>"
      ],
      "text/plain": [
       "  payment_type      mean  median  count\n",
       "2   debit_card  4.315789     5.0    760\n",
       "0       boleto  4.313172     5.0   5026\n",
       "1  credit_card  4.282875     5.0  21483\n",
       "3      voucher  4.208399     5.0   1262"
      ]
     },
     "execution_count": 174,
     "metadata": {},
     "output_type": "execute_result"
    }
   ],
   "source": [
    "payment_rating = payment_review_df.groupby('payment_type')['review_score'].agg(['mean', 'median', 'count']).reset_index()\n",
    "payment_rating = payment_rating.sort_values('mean', ascending=False)\n",
    "\n",
    "print(\"berdasarkan metode pembayaran:\")\n",
    "payment_rating"
   ]
  },
  {
   "cell_type": "markdown",
   "id": "eee73ff8",
   "metadata": {},
   "source": [
    "#### 12. Analisis Perbedaan Rating berdasarkan Lokasi Pelanggan"
   ]
  },
  {
   "cell_type": "markdown",
   "id": "e1f45692",
   "metadata": {},
   "source": [
    "Analisis rating berdasarkan lokasi pelanggan (state)"
   ]
  },
  {
   "cell_type": "code",
   "execution_count": 175,
   "id": "bd183741",
   "metadata": {},
   "outputs": [],
   "source": [
    "delivery_review_with_state = delivery_review_df.merge(customers_df[['customer_id', 'customer_state']], on='customer_id', how='left')"
   ]
  },
  {
   "cell_type": "code",
   "execution_count": 176,
   "id": "453f8571",
   "metadata": {},
   "outputs": [
    {
     "name": "stdout",
     "output_type": "stream",
     "text": [
      "berdasarkan lokasi pelanggan (state):\n"
     ]
    },
    {
     "data": {
      "text/html": [
       "<div>\n",
       "<style scoped>\n",
       "    .dataframe tbody tr th:only-of-type {\n",
       "        vertical-align: middle;\n",
       "    }\n",
       "\n",
       "    .dataframe tbody tr th {\n",
       "        vertical-align: top;\n",
       "    }\n",
       "\n",
       "    .dataframe thead th {\n",
       "        text-align: right;\n",
       "    }\n",
       "</style>\n",
       "<table border=\"1\" class=\"dataframe\">\n",
       "  <thead>\n",
       "    <tr style=\"text-align: right;\">\n",
       "      <th></th>\n",
       "      <th>customer_state</th>\n",
       "      <th>mean</th>\n",
       "      <th>count</th>\n",
       "    </tr>\n",
       "  </thead>\n",
       "  <tbody>\n",
       "    <tr>\n",
       "      <th>16</th>\n",
       "      <td>PI</td>\n",
       "      <td>3.975410</td>\n",
       "      <td>122</td>\n",
       "    </tr>\n",
       "    <tr>\n",
       "      <th>9</th>\n",
       "      <td>MA</td>\n",
       "      <td>4.030675</td>\n",
       "      <td>163</td>\n",
       "    </tr>\n",
       "    <tr>\n",
       "      <th>4</th>\n",
       "      <td>BA</td>\n",
       "      <td>4.073546</td>\n",
       "      <td>911</td>\n",
       "    </tr>\n",
       "    <tr>\n",
       "      <th>24</th>\n",
       "      <td>SE</td>\n",
       "      <td>4.101124</td>\n",
       "      <td>89</td>\n",
       "    </tr>\n",
       "    <tr>\n",
       "      <th>14</th>\n",
       "      <td>PB</td>\n",
       "      <td>4.167832</td>\n",
       "      <td>143</td>\n",
       "    </tr>\n",
       "    <tr>\n",
       "      <th>8</th>\n",
       "      <td>GO</td>\n",
       "      <td>4.175337</td>\n",
       "      <td>519</td>\n",
       "    </tr>\n",
       "    <tr>\n",
       "      <th>7</th>\n",
       "      <td>ES</td>\n",
       "      <td>4.184906</td>\n",
       "      <td>530</td>\n",
       "    </tr>\n",
       "    <tr>\n",
       "      <th>18</th>\n",
       "      <td>RJ</td>\n",
       "      <td>4.222396</td>\n",
       "      <td>3197</td>\n",
       "    </tr>\n",
       "    <tr>\n",
       "      <th>26</th>\n",
       "      <td>TO</td>\n",
       "      <td>4.229730</td>\n",
       "      <td>74</td>\n",
       "    </tr>\n",
       "    <tr>\n",
       "      <th>15</th>\n",
       "      <td>PE</td>\n",
       "      <td>4.255079</td>\n",
       "      <td>443</td>\n",
       "    </tr>\n",
       "    <tr>\n",
       "      <th>13</th>\n",
       "      <td>PA</td>\n",
       "      <td>4.260664</td>\n",
       "      <td>211</td>\n",
       "    </tr>\n",
       "    <tr>\n",
       "      <th>20</th>\n",
       "      <td>RO</td>\n",
       "      <td>4.285714</td>\n",
       "      <td>56</td>\n",
       "    </tr>\n",
       "    <tr>\n",
       "      <th>1</th>\n",
       "      <td>AL</td>\n",
       "      <td>4.288889</td>\n",
       "      <td>90</td>\n",
       "    </tr>\n",
       "    <tr>\n",
       "      <th>6</th>\n",
       "      <td>DF</td>\n",
       "      <td>4.300156</td>\n",
       "      <td>643</td>\n",
       "    </tr>\n",
       "    <tr>\n",
       "      <th>5</th>\n",
       "      <td>CE</td>\n",
       "      <td>4.301282</td>\n",
       "      <td>312</td>\n",
       "    </tr>\n",
       "    <tr>\n",
       "      <th>11</th>\n",
       "      <td>MS</td>\n",
       "      <td>4.301587</td>\n",
       "      <td>189</td>\n",
       "    </tr>\n",
       "    <tr>\n",
       "      <th>10</th>\n",
       "      <td>MG</td>\n",
       "      <td>4.306863</td>\n",
       "      <td>3060</td>\n",
       "    </tr>\n",
       "    <tr>\n",
       "      <th>25</th>\n",
       "      <td>SP</td>\n",
       "      <td>4.314014</td>\n",
       "      <td>12716</td>\n",
       "    </tr>\n",
       "    <tr>\n",
       "      <th>17</th>\n",
       "      <td>PR</td>\n",
       "      <td>4.327076</td>\n",
       "      <td>1385</td>\n",
       "    </tr>\n",
       "    <tr>\n",
       "      <th>22</th>\n",
       "      <td>RS</td>\n",
       "      <td>4.346834</td>\n",
       "      <td>1358</td>\n",
       "    </tr>\n",
       "    <tr>\n",
       "      <th>23</th>\n",
       "      <td>SC</td>\n",
       "      <td>4.352360</td>\n",
       "      <td>911</td>\n",
       "    </tr>\n",
       "    <tr>\n",
       "      <th>19</th>\n",
       "      <td>RN</td>\n",
       "      <td>4.353982</td>\n",
       "      <td>113</td>\n",
       "    </tr>\n",
       "    <tr>\n",
       "      <th>12</th>\n",
       "      <td>MT</td>\n",
       "      <td>4.371795</td>\n",
       "      <td>234</td>\n",
       "    </tr>\n",
       "  </tbody>\n",
       "</table>\n",
       "</div>"
      ],
      "text/plain": [
       "   customer_state      mean  count\n",
       "16             PI  3.975410    122\n",
       "9              MA  4.030675    163\n",
       "4              BA  4.073546    911\n",
       "24             SE  4.101124     89\n",
       "14             PB  4.167832    143\n",
       "8              GO  4.175337    519\n",
       "7              ES  4.184906    530\n",
       "18             RJ  4.222396   3197\n",
       "26             TO  4.229730     74\n",
       "15             PE  4.255079    443\n",
       "13             PA  4.260664    211\n",
       "20             RO  4.285714     56\n",
       "1              AL  4.288889     90\n",
       "6              DF  4.300156    643\n",
       "5              CE  4.301282    312\n",
       "11             MS  4.301587    189\n",
       "10             MG  4.306863   3060\n",
       "25             SP  4.314014  12716\n",
       "17             PR  4.327076   1385\n",
       "22             RS  4.346834   1358\n",
       "23             SC  4.352360    911\n",
       "19             RN  4.353982    113\n",
       "12             MT  4.371795    234"
      ]
     },
     "execution_count": 176,
     "metadata": {},
     "output_type": "execute_result"
    }
   ],
   "source": [
    "# Analisis rating berdasarkan lokasi pelanggan (state)\n",
    "state_rating = delivery_review_with_state.groupby('customer_state')['review_score'].agg(['mean', 'count']).reset_index()\n",
    "state_rating = state_rating[state_rating['count'] >= 50].sort_values('mean')\n",
    "\n",
    "print(\"berdasarkan lokasi pelanggan (state):\")\n",
    "state_rating"
   ]
  },
  {
   "cell_type": "markdown",
   "id": "8c9125ac",
   "metadata": {},
   "source": [
    "#### 13. Analisis Perbedaan Rating berdasarkan Harga Produk"
   ]
  },
  {
   "cell_type": "markdown",
   "id": "07e6685c",
   "metadata": {},
   "source": [
    "Menggabungkan dengan data harga produk"
   ]
  },
  {
   "cell_type": "code",
   "execution_count": 177,
   "id": "c9ead02d",
   "metadata": {},
   "outputs": [],
   "source": [
    "price_review_df = pd.merge(delivery_review_df, order_items_df, on='order_id', how='inner')"
   ]
  },
  {
   "cell_type": "markdown",
   "id": "70d40fe7",
   "metadata": {},
   "source": [
    "Kategorisasi harga produk"
   ]
  },
  {
   "cell_type": "code",
   "execution_count": 178,
   "id": "dd6f12f8",
   "metadata": {},
   "outputs": [],
   "source": [
    "price_review_df['price_category'] = pd.qcut(price_review_df['price'], \n",
    "                                          q=5, \n",
    "                                          labels=['Very Low', 'Low', 'Medium', 'High', 'Very High'])"
   ]
  },
  {
   "cell_type": "markdown",
   "id": "a2d7687e",
   "metadata": {},
   "source": [
    "Analisis rating berdasarkan kategori harga"
   ]
  },
  {
   "cell_type": "code",
   "execution_count": 179,
   "id": "5b7a9f1e",
   "metadata": {},
   "outputs": [
    {
     "name": "stdout",
     "output_type": "stream",
     "text": [
      "berdasarkan kategori harga produk:\n"
     ]
    },
    {
     "data": {
      "text/html": [
       "<div>\n",
       "<style scoped>\n",
       "    .dataframe tbody tr th:only-of-type {\n",
       "        vertical-align: middle;\n",
       "    }\n",
       "\n",
       "    .dataframe tbody tr th {\n",
       "        vertical-align: top;\n",
       "    }\n",
       "\n",
       "    .dataframe thead th {\n",
       "        text-align: right;\n",
       "    }\n",
       "</style>\n",
       "<table border=\"1\" class=\"dataframe\">\n",
       "  <thead>\n",
       "    <tr style=\"text-align: right;\">\n",
       "      <th></th>\n",
       "      <th>price_category</th>\n",
       "      <th>mean</th>\n",
       "      <th>count</th>\n",
       "    </tr>\n",
       "  </thead>\n",
       "  <tbody>\n",
       "    <tr>\n",
       "      <th>0</th>\n",
       "      <td>Very Low</td>\n",
       "      <td>4.222257</td>\n",
       "      <td>6335</td>\n",
       "    </tr>\n",
       "    <tr>\n",
       "      <th>1</th>\n",
       "      <td>Low</td>\n",
       "      <td>4.215075</td>\n",
       "      <td>6514</td>\n",
       "    </tr>\n",
       "    <tr>\n",
       "      <th>2</th>\n",
       "      <td>Medium</td>\n",
       "      <td>4.176087</td>\n",
       "      <td>6139</td>\n",
       "    </tr>\n",
       "    <tr>\n",
       "      <th>3</th>\n",
       "      <td>High</td>\n",
       "      <td>4.240917</td>\n",
       "      <td>6193</td>\n",
       "    </tr>\n",
       "    <tr>\n",
       "      <th>4</th>\n",
       "      <td>Very High</td>\n",
       "      <td>4.236483</td>\n",
       "      <td>6233</td>\n",
       "    </tr>\n",
       "  </tbody>\n",
       "</table>\n",
       "</div>"
      ],
      "text/plain": [
       "  price_category      mean  count\n",
       "0       Very Low  4.222257   6335\n",
       "1            Low  4.215075   6514\n",
       "2         Medium  4.176087   6139\n",
       "3           High  4.240917   6193\n",
       "4      Very High  4.236483   6233"
      ]
     },
     "execution_count": 179,
     "metadata": {},
     "output_type": "execute_result"
    }
   ],
   "source": [
    "price_rating = price_review_df.groupby('price_category')['review_score'].agg(['mean', 'count']).reset_index()\n",
    "\n",
    "print(\"berdasarkan kategori harga produk:\")\n",
    "price_rating"
   ]
  },
  {
   "cell_type": "markdown",
   "id": "87d5d8d7",
   "metadata": {},
   "source": [
    "#### 14. Ringkasan Temuan dan Rekomendasi"
   ]
  },
  {
   "cell_type": "markdown",
   "id": "e2ece55a",
   "metadata": {},
   "source": [
    "Menampilkan ringkasan temuan utama"
   ]
  },
  {
   "cell_type": "code",
   "execution_count": 180,
   "id": "9234092a",
   "metadata": {},
   "outputs": [
    {
     "name": "stdout",
     "output_type": "stream",
     "text": [
      "=== RINGKASAN TEMUAN UTAMA ===\n"
     ]
    }
   ],
   "source": [
    "print(\"=== RINGKASAN TEMUAN UTAMA ===\")"
   ]
  },
  {
   "cell_type": "markdown",
   "id": "2ef8bcd1",
   "metadata": {},
   "source": [
    "Korelasi waktu pengiriman dengan rating"
   ]
  },
  {
   "cell_type": "code",
   "execution_count": 181,
   "id": "d83d8e93",
   "metadata": {},
   "outputs": [
    {
     "name": "stdout",
     "output_type": "stream",
     "text": [
      "1. Korelasi antara waktu pengiriman dan rating: -0.2216\n",
      "   - Rata-rata waktu pengiriman untuk rating 5: 8.63 hari\n",
      "   - Rata-rata waktu pengiriman untuk rating 1: 13.78 hari\n"
     ]
    }
   ],
   "source": [
    "print(f\"1. Korelasi antara waktu pengiriman dan rating: {correlation:.4f}\")\n",
    "print(f\"   - Rata-rata waktu pengiriman untuk rating 5: {delivery_by_rating[delivery_by_rating['review_score']==5]['mean'].values[0]:.2f} hari\")\n",
    "print(f\"   - Rata-rata waktu pengiriman untuk rating 1: {delivery_by_rating[delivery_by_rating['review_score']==1]['mean'].values[0]:.2f} hari\")"
   ]
  },
  {
   "cell_type": "markdown",
   "id": "820d41ac",
   "metadata": {},
   "source": [
    "Ketepatan pengiriman"
   ]
  },
  {
   "cell_type": "code",
   "execution_count": 182,
   "id": "c2a35eba",
   "metadata": {},
   "outputs": [
    {
     "name": "stdout",
     "output_type": "stream",
     "text": [
      "2. Pengaruh ketepatan pengiriman:\n",
      "   - Rating rata-rata untuk pengiriman tepat waktu: 4.38\n",
      "   - Rating rata-rata untuk pengiriman sangat terlambat: 2.34\n",
      "   - Selisih: on_time_rating - 2.34 poin\n"
     ]
    }
   ],
   "source": [
    "on_time_rating = delivery_status_rating[delivery_status_rating['delivery_status']=='On Time (±1 day)']['mean'].values[0]\n",
    "very_late_rating = delivery_status_rating[delivery_status_rating['delivery_status']=='Very Late (>3 days)']['mean'].values[0]\n",
    "print(f\"2. Pengaruh ketepatan pengiriman:\")\n",
    "print(f\"   - Rating rata-rata untuk pengiriman tepat waktu: {on_time_rating:.2f}\")\n",
    "print(f\"   - Rating rata-rata untuk pengiriman sangat terlambat: {very_late_rating:.2f}\")\n",
    "print(f\"   - Selisih: on_time_rating - {very_late_rating:.2f} poin\")"
   ]
  },
  {
   "cell_type": "markdown",
   "id": "45dca594",
   "metadata": {},
   "source": [
    "Kategori produk bermasalah"
   ]
  },
  {
   "cell_type": "code",
   "execution_count": 183,
   "id": "c24b3640",
   "metadata": {},
   "outputs": [
    {
     "name": "stdout",
     "output_type": "stream",
     "text": [
      "3.Kategori produk dengan rating terendah:\n",
      "   - 0: Rating 3.75, Waktu pengiriman 9.29 hari\n",
      "   - 1: Rating 3.77, Waktu pengiriman 18.81 hari\n",
      "   - 2: Rating 3.84, Waktu pengiriman 8.73 hari\n"
     ]
    }
   ],
   "source": [
    "print(\"3.Kategori produk dengan rating terendah:\")\n",
    "for i, row in category_analysis_filtered_sorted.head(3).iterrows():\n",
    "    print(f\"   - {row.name}: Rating {row['review_score_mean']:.2f}, Waktu pengiriman {row['delivery_time_days_mean']:.2f} hari\")"
   ]
  },
  {
   "cell_type": "markdown",
   "id": "e82738d9",
   "metadata": {},
   "source": [
    "Pembelian ulang setelah review negatif"
   ]
  },
  {
   "cell_type": "code",
   "execution_count": 184,
   "id": "2163d975",
   "metadata": {},
   "outputs": [
    {
     "name": "stdout",
     "output_type": "stream",
     "text": [
      "\n",
      "4. Pembelian ulang setelah review negatif:\n",
      "   - 0.64% pelanggan melakukan pembelian ulang dalam 30 hari setelah review negatif\n",
      "   - Rating 1 bintang: 37.06%\n",
      "   - Rating 2 bintang: 31.25%\n",
      "   - Median waktu pembelian ulang: 12.0 hari\n"
     ]
    }
   ],
   "source": [
    "print(f\"\\n4. Pembelian ulang setelah review negatif:\")\n",
    "print(f\"   - {repurchase_rate:.2f}% pelanggan melakukan pembelian ulang dalam 30 hari setelah review negatif\")\n",
    "for rating in [1, 2]:\n",
    "    row = repurchase_by_rating[repurchase_by_rating['review_score'] == rating]\n",
    "    if not row.empty:\n",
    "        pct = row['repurchase_pct'].values[0]\n",
    "        print(f\"   - Rating {rating} bintang: {pct:.2f}%\")\n",
    "    else:\n",
    "        print(f\"   - Rating {rating} bintang: Data tidak tersedia\")\n",
    "if not repurchasers.empty:\n",
    "    print(f\"   - Median waktu pembelian ulang: {repurchasers['days_to_repurchase'].median():.1f} hari\")"
   ]
  },
  {
   "cell_type": "markdown",
   "id": "7f027ffc",
   "metadata": {},
   "source": [
    "Kategori dengan tingkat pembelian ulang tertinggi setelah review negatif"
   ]
  },
  {
   "cell_type": "code",
   "execution_count": 185,
   "id": "c222bea4",
   "metadata": {},
   "outputs": [
    {
     "name": "stdout",
     "output_type": "stream",
     "text": [
      "\n",
      "5. Kategori dengan tingkat pembelian ulang tertinggi setelah review negatif:\n",
      "   - sports_leisure: 42.86% (dari 21 review negatif)\n",
      "   - housewares: 42.11% (dari 19 review negatif)\n",
      "   - health_beauty: 34.78% (dari 23 review negatif)\n"
     ]
    }
   ],
   "source": [
    "print(\"\\n5. Kategori dengan tingkat pembelian ulang tertinggi setelah review negatif:\")\n",
    "for i, row in repurchase_by_category_sorted.head(3).iterrows():\n",
    "    print(f\"   - {row['product_category_name_english']}: {row['repurchase_pct']:.2f}% (dari {row['count']} review negatif)\")"
   ]
  },
  {
   "cell_type": "markdown",
   "id": "cf66314c",
   "metadata": {},
   "source": [
    "### Insight :"
   ]
  },
  {
   "cell_type": "markdown",
   "id": "58683200",
   "metadata": {},
   "source": [
    "Berikut insight utama dari hasil exploratory data analysis:\n",
    "\n",
    "1. Korelasi waktu pengiriman dengan rating review dalam 6 bulan terakhir  \n",
    "   - Terdapat korelasi negatif antara waktu pengiriman dan rating review (korelasi: -0.22), artinya semakin lama pengiriman, rating cenderung menurun.\n",
    "   - Rata-rata waktu pengiriman untuk rating 5 adalah 8.63 hari, sedangkan untuk rating 1 adalah 13.78 hari.\n",
    "   - Pengiriman tepat waktu (±1 hari) mendapat rating rata-rata 4.38, sedangkan pengiriman sangat terlambat (>3 hari) hanya 2.34.\n",
    "   - Strategi meningkatkan rating 0.5 poin: Fokus pada percepatan pengiriman, monitoring kategori produk dengan rating rendah, edukasi seller, dan proaktif memberi kompensasi pada kasus keterlambatan."
   ]
  },
  {
   "cell_type": "markdown",
   "id": "39accb99",
   "metadata": {},
   "source": [
    "2. Persentase pelanggan review negatif (1-2 bintang) yang repurchase dalam 30 hari & strategi peningkatan  \n",
    "   - Hanya 0.64% pelanggan yang memberi review negatif melakukan pembelian ulang dalam 30 hari.\n",
    "   - Namun, jika dilihat per rating, 37.06% (rating 1) dan 31.25% (rating 2) yang repurchase, meski jumlahnya kecil.\n",
    "   - Strategi meningkatkan repurchase pelanggan negatif:  \n",
    "     - Tindak lanjut proaktif ke pelanggan dengan review buruk (misal, voucher atau diskon personal).\n",
    "     - Perbaiki pengalaman pada kategori produk bermasalah.\n",
    "     - Implementasi program loyalitas khusus untuk pelanggan yang pernah kecewa.\n",
    "     - Pantau dan evaluasi hasil secara bulanan untuk mencapai target kenaikan 25% repurchase pada kuartal berikutnya.\n",
    "\n",
    "Kesimpulan:  \n",
    "Perbaikan kecepatan dan ketepatan pengiriman sangat berpengaruh pada rating. Untuk meningkatkan repurchase pelanggan negatif, perlu pendekatan personal, perbaikan layanan, dan insentif khusus."
   ]
  },
  {
   "cell_type": "markdown",
   "id": "a602ff7a",
   "metadata": {},
   "source": [
    "# Visualization & Explanatory Analysis"
   ]
  },
  {
   "cell_type": "markdown",
   "id": "66ee20ce",
   "metadata": {},
   "source": [
    "Tujuan dari visualisasi data dan explanatory analysis pada data berikut ini adalah:\n",
    "- menjawab seluruh pertanyaan analisis atau bisnis yang sebelumnya telah dibuat\n",
    "- membuat visualisasi data untuk mempermudah penyampaian hasil analisis data."
   ]
  },
  {
   "cell_type": "markdown",
   "id": "bc092382",
   "metadata": {},
   "source": [
    "### Pertanyaan 1 : Bagaimana korelasi antara waktu pengiriman dengan rating review dalam 6 bulan terakhir, dan apa strategi untuk meningkatkan rating rata-rata sebesar 0.5 poin dalam 90 hari ke depan?"
   ]
  },
  {
   "cell_type": "markdown",
   "id": "194661b1",
   "metadata": {},
   "source": [
    "jawab :"
   ]
  },
  {
   "cell_type": "markdown",
   "id": "8d0af904",
   "metadata": {},
   "source": [
    "- Korelasi Waktu Pengiriman dengan Rating Review (6 Bulan Terakhir)"
   ]
  },
  {
   "cell_type": "code",
   "execution_count": 186,
   "id": "f6a3fee7",
   "metadata": {},
   "outputs": [
    {
     "data": {
      "image/png": "[encoded data removed]",
      "text/plain": [
       "<Figure size 800x500 with 1 Axes>"
      ]
     },
     "metadata": {},
     "output_type": "display_data"
    }
   ],
   "source": [
    "plt.figure(figsize=(8,5))\n",
    "sns.boxplot(x='review_score', y='delivery_time_days', data=delivery_review_df, order=[1,2,3,4,5])\n",
    "plt.title('Distribusi Waktu Pengiriman per Rating Review (6 Bulan Terakhir)')\n",
    "plt.xlabel('Review Score')\n",
    "plt.ylabel('Delivery Time (days)')\n",
    "plt.tight_layout()\n",
    "plt.show()"
   ]
  },
  {
   "cell_type": "markdown",
   "id": "62993032",
   "metadata": {},
   "source": [
    "Penjelasan: Boxplot ini memperlihatkan bahwa semakin rendah rating, waktu pengiriman cenderung lebih lama. Label dan satuan jelas."
   ]
  },
  {
   "cell_type": "markdown",
   "id": "ce3a1bdb",
   "metadata": {},
   "source": [
    "- Rata-rata Waktu Pengiriman per Rating"
   ]
  },
  {
   "cell_type": "code",
   "execution_count": 187,
   "id": "751d6926",
   "metadata": {},
   "outputs": [
    {
     "data": {
      "image/png": "[encoded data removed]",
      "text/plain": [
       "<Figure size 600x400 with 1 Axes>"
      ]
     },
     "metadata": {},
     "output_type": "display_data"
    }
   ],
   "source": [
    "mean_delivery = delivery_review_df.groupby('review_score')['delivery_time_days'].mean().reset_index()\n",
    "plt.figure(figsize=(6,4))\n",
    "sns.barplot(x='review_score', y='delivery_time_days', data=mean_delivery, palette='Blues_d')\n",
    "plt.title('Rata-rata Waktu Pengiriman per Rating')\n",
    "plt.xlabel('Review Score')\n",
    "plt.ylabel('Rata-rata Waktu Pengiriman (hari)')\n",
    "plt.tight_layout()\n",
    "plt.show()"
   ]
  },
  {
   "cell_type": "markdown",
   "id": "725d4a7f",
   "metadata": {},
   "source": [
    "Penjelasan: Barplot ini menegaskan bahwa rating 1 dan 2 memiliki waktu pengiriman rata-rata lebih lama."
   ]
  },
  {
   "cell_type": "markdown",
   "id": "bea0924e",
   "metadata": {},
   "source": [
    "- Rating Berdasarkan Status Ketepatan Pengiriman"
   ]
  },
  {
   "cell_type": "code",
   "execution_count": 188,
   "id": "7ab35b91",
   "metadata": {},
   "outputs": [
    {
     "data": {
      "image/png": "[encoded data removed]",
      "text/plain": [
       "<Figure size 700x400 with 1 Axes>"
      ]
     },
     "metadata": {},
     "output_type": "display_data"
    }
   ],
   "source": [
    "plt.figure(figsize=(7,4))\n",
    "sns.barplot(x='delivery_status', y='mean', data=delivery_status_rating, palette='coolwarm')\n",
    "plt.title('Rata-rata Rating Berdasarkan Status Ketepatan Pengiriman')\n",
    "plt.xlabel('Status Ketepatan Pengiriman')\n",
    "plt.ylabel('Rata-rata Rating')\n",
    "plt.tight_layout()\n",
    "plt.show()"
   ]
  },
  {
   "cell_type": "markdown",
   "id": "403f4642",
   "metadata": {},
   "source": [
    "Penjelasan: Rating tertinggi didapat pada pengiriman tepat waktu, terendah pada pengiriman sangat terlambat."
   ]
  },
  {
   "cell_type": "markdown",
   "id": "6620c910",
   "metadata": {},
   "source": [
    "- Tren Rating Bulanan (untuk monitoring strategi 90 hari ke depan)"
   ]
  },
  {
   "cell_type": "code",
   "execution_count": 189,
   "id": "4069cd2f",
   "metadata": {},
   "outputs": [
    {
     "data": {
      "image/png": "[encoded data removed]",
      "text/plain": [
       "<Figure size 800x400 with 1 Axes>"
      ]
     },
     "metadata": {},
     "output_type": "display_data"
    }
   ],
   "source": [
    "plt.figure(figsize=(8,4))\n",
    "sns.lineplot(x='order_month', y='mean', data=monthly_ratings, marker='o')\n",
    "plt.title('Tren Rata-rata Rating Review per Bulan')\n",
    "plt.xlabel('Bulan')\n",
    "plt.ylabel('Rata-rata Rating')\n",
    "plt.xticks(rotation=45)\n",
    "plt.tight_layout()\n",
    "plt.show()"
   ]
  },
  {
   "cell_type": "markdown",
   "id": "02ae52ad",
   "metadata": {},
   "source": [
    "Penjelasan: Grafik ini membantu memantau efektivitas strategi peningkatan rating."
   ]
  },
  {
   "cell_type": "markdown",
   "id": "0ee10ffe",
   "metadata": {},
   "source": [
    "### Pertanyaan 2 : Berapa persentase pelanggan yang memberikan review negatif (1-2 bintang) namun melakukan pembelian kembali dalam 30 hari, dan bagaimana meningkatkan tingkat pembelian ulang dari pelanggan dengan pengalaman negatif sebesar 25% dalam kuartal berikutnya?"
   ]
  },
  {
   "cell_type": "markdown",
   "id": "ba89e26f",
   "metadata": {},
   "source": [
    "jawab :"
   ]
  },
  {
   "cell_type": "markdown",
   "id": "8dfdc274",
   "metadata": {},
   "source": [
    "- Persentase Pembelian Ulang Setelah Review Negatif"
   ]
  },
  {
   "cell_type": "code",
   "execution_count": 190,
   "id": "870c152b",
   "metadata": {},
   "outputs": [
    {
     "data": {
      "image/png": "[encoded data removed]",
      "text/plain": [
       "<Figure size 500x500 with 1 Axes>"
      ]
     },
     "metadata": {},
     "output_type": "display_data"
    }
   ],
   "source": [
    "labels = ['Tidak Repurchase', 'Repurchase ≤30 hari']\n",
    "sizes = [100-repurchase_rate, repurchase_rate]\n",
    "plt.figure(figsize=(5,5))\n",
    "plt.pie(sizes, labels=labels, autopct='%1.2f%%', startangle=90, colors=['#ff9999','#66b3ff'])\n",
    "plt.title('Persentase Pembelian Ulang ≤30 Hari Setelah Review Negatif')\n",
    "plt.tight_layout()\n",
    "plt.show()"
   ]
  },
  {
   "cell_type": "markdown",
   "id": "aa56ebe6",
   "metadata": {},
   "source": [
    "Penjelasan: Pie chart ini proporsional, label jelas, dan hanya menampilkan data relevan"
   ]
  },
  {
   "cell_type": "markdown",
   "id": "dec87629",
   "metadata": {},
   "source": [
    "-  Pembelian Ulang dalam 30 Hari Berdasarkan Rating Negatif"
   ]
  },
  {
   "cell_type": "code",
   "execution_count": 191,
   "id": "b10fcb89",
   "metadata": {},
   "outputs": [
    {
     "data": {
      "image/png": "[encoded data removed]",
      "text/plain": [
       "<Figure size 600x400 with 1 Axes>"
      ]
     },
     "metadata": {},
     "output_type": "display_data"
    }
   ],
   "source": [
    "plt.figure(figsize=(6,4))\n",
    "sns.barplot(x='review_score', y='repurchase_pct', data=repurchase_by_rating, palette='Reds')\n",
    "plt.title('Persentase Repurchase ≤30 Hari per Rating Negatif')\n",
    "plt.xlabel('Review Score')\n",
    "plt.ylabel('Persentase Repurchase (%)')\n",
    "plt.tight_layout()\n",
    "plt.show()"
   ]
  },
  {
   "cell_type": "markdown",
   "id": "fd98314d",
   "metadata": {},
   "source": [
    "Penjelasan: Barplot ini memperlihatkan peluang repurchase pada pelanggan dengan rating 1 dan 2."
   ]
  },
  {
   "cell_type": "markdown",
   "id": "4e05ad48",
   "metadata": {},
   "source": [
    "- Kategori Produk dengan Repurchase Tertinggi Setelah Review Negatif"
   ]
  },
  {
   "cell_type": "code",
   "execution_count": 192,
   "id": "65233411",
   "metadata": {},
   "outputs": [
    {
     "data": {
      "image/png": "[encoded data removed]",
      "text/plain": [
       "<Figure size 800x400 with 1 Axes>"
      ]
     },
     "metadata": {},
     "output_type": "display_data"
    }
   ],
   "source": [
    "plt.figure(figsize=(8,4))\n",
    "sns.barplot(\n",
    "    x='repurchase_pct',\n",
    "    y='product_category_name_english',\n",
    "    data=repurchase_by_category_sorted.head(5),\n",
    "    palette='Greens_r'\n",
    ")\n",
    "plt.title('5 Kategori Produk dengan Repurchase Tertinggi Setelah Review Negatif')\n",
    "plt.xlabel('Persentase Repurchase (%)')\n",
    "plt.ylabel('Kategori Produk')\n",
    "plt.tight_layout()\n",
    "plt.show()"
   ]
  },
  {
   "cell_type": "markdown",
   "id": "a0a45b32",
   "metadata": {},
   "source": [
    "Penjelasan: Barplot horizontal ini menampilkan kategori produk yang paling responsif terhadap upaya retensi."
   ]
  },
  {
   "cell_type": "markdown",
   "id": "f598b407",
   "metadata": {},
   "source": [
    "### Insight :"
   ]
  },
  {
   "cell_type": "markdown",
   "id": "ca9cd3e6",
   "metadata": {},
   "source": [
    "Berikut insight dari hasil Visualization & Explanatory Analysis yang menjawab kedua pertanyaan di atas:\n",
    "\n",
    "1. Korelasi waktu pengiriman dengan rating review (6 bulan terakhir):  \n",
    "- Terdapat korelasi negatif antara waktu pengiriman dan rating review (korelasi: -0.22). Semakin lama pengiriman, rating cenderung menurun.\n",
    "- Rata-rata waktu pengiriman untuk rating 5 adalah 8.63 hari, sedangkan untuk rating 1 adalah 13.78 hari.\n",
    "- Pengiriman tepat waktu (±1 hari) mendapat rating rata-rata 4.38, sedangkan pengiriman sangat terlambat (>3 hari) hanya 2.34.\n",
    "- Grafik boxplot dan barplot memperjelas bahwa percepatan pengiriman sangat berpengaruh pada kenaikan rating.\n",
    "- Strategi meningkatkan rating 0.5 poin dalam 90 hari:  \n",
    "  - Fokus pada percepatan dan ketepatan pengiriman, terutama pada kategori produk dengan rating rendah.\n",
    "  - Edukasi seller dan monitoring performa pengiriman.\n",
    "  - Proaktif memberi kompensasi atau solusi pada kasus keterlambatan."
   ]
  },
  {
   "cell_type": "markdown",
   "id": "281a1f99",
   "metadata": {},
   "source": [
    "2. Persentase pelanggan review negatif (1-2 bintang) yang repurchase dalam 30 hari & strategi peningkatan:  \n",
    "- Hanya 0.64% pelanggan yang memberi review negatif melakukan pembelian ulang dalam 30 hari.\n",
    "- Namun, dari pelanggan yang repurchase, 37.06% (rating 1) dan 31.25% (rating 2) melakukan pembelian ulang dalam 30 hari.\n",
    "- Kategori produk tertentu seperti sports_leisure dan housewares memiliki tingkat repurchase tertinggi setelah review negatif.\n",
    "- Strategi meningkatkan repurchase pelanggan negatif sebesar 25%:  \n",
    "  - Lakukan follow-up personal (misal, voucher atau diskon) ke pelanggan dengan review buruk.\n",
    "  - Perbaiki pengalaman pada kategori produk bermasalah.\n",
    "  - Implementasi program loyalitas khusus untuk pelanggan yang pernah kecewa.\n",
    "  - Pantau dan evaluasi hasil secara bulanan untuk memastikan target tercapai."
   ]
  },
  {
   "cell_type": "markdown",
   "id": "1d02afd0",
   "metadata": {},
   "source": [
    "Kesimpulan:  \n",
    "Perbaikan kecepatan dan ketepatan pengiriman adalah kunci utama untuk menaikkan rating. Untuk meningkatkan repurchase pelanggan negatif, perlu pendekatan personal, perbaikan layanan, dan insentif khusus. Visualisasi mendukung bahwa kedua aspek ini sangat berpengaruh pada kepuasan dan loyalitas pelanggan."
   ]
  },
  {
   "cell_type": "markdown",
   "id": "e028bb3d",
   "metadata": {},
   "source": [
    "# Analisis Lanjutan (Geospatial Analysis)"
   ]
  },
  {
   "cell_type": "markdown",
   "id": "1355eb97",
   "metadata": {},
   "source": [
    "Tujuan dari analisis ini adalah Mengidentifikasi pola distribusi pelanggan dan penjual secara geografis, Mengetahui wilayah dengan performa pengiriman buruk atau rating rendah, dan Mendukung pengambilan keputusan berbasis lokasi untuk perbaikan layanan dan logistik."
   ]
  },
  {
   "cell_type": "markdown",
   "id": "5ea17886",
   "metadata": {},
   "source": [
    "#### 1. import library geopandas dan shapely dan mapping kode dua huruf ke nama lengkap state pada peta Brazil"
   ]
  },
  {
   "cell_type": "code",
   "execution_count": 193,
   "id": "cae7549a",
   "metadata": {},
   "outputs": [],
   "source": [
    "import geopandas as gpd\n",
    "from shapely.geometry import Point\n",
    "\n",
    "uf_mapping = {\n",
    "    'AC': 'Acre', 'AL': 'Alagoas', 'AP': 'Amapá', 'AM': 'Amazonas', 'BA': 'Bahia',\n",
    "    'CE': 'Ceará', 'DF': 'Distrito Federal', 'ES': 'Espírito Santo', 'GO': 'Goiás',\n",
    "    'MA': 'Maranhão', 'MT': 'Mato Grosso', 'MS': 'Mato Grosso do Sul', 'MG': 'Minas Gerais',\n",
    "    'PA': 'Pará', 'PB': 'Paraíba', 'PR': 'Paraná', 'PE': 'Pernambuco', 'PI': 'Piauí',\n",
    "    'RJ': 'Rio de Janeiro', 'RN': 'Rio Grande do Norte', 'RS': 'Rio Grande do Sul',\n",
    "    'RO': 'Rondônia', 'RR': 'Roraima', 'SC': 'Santa Catarina', 'SP': 'São Paulo',\n",
    "    'SE': 'Sergipe', 'TO': 'Tocantins'\n",
    "}"
   ]
  },
  {
   "cell_type": "markdown",
   "id": "dd064ee8",
   "metadata": {},
   "source": [
    "#### 2. Membuat GeoDataFrame untuk pelanggan dengan cara menggabungkan customers_df dan geolocation_df berdasarkan zip_code_prefix"
   ]
  },
  {
   "cell_type": "code",
   "execution_count": 194,
   "id": "045ceb4c",
   "metadata": {},
   "outputs": [],
   "source": [
    "customer_geo = customers_df.merge(\n",
    "    geolocation_df.groupby('geolocation_zip_code_prefix').first().reset_index(),\n",
    "    left_on='customer_zip_code_prefix',\n",
    "    right_on='geolocation_zip_code_prefix',\n",
    "    how='left'\n",
    ")\n",
    "customer_geo = customer_geo.dropna(subset=['geolocation_lat', 'geolocation_lng'])\n",
    "customer_geo['geometry'] = customer_geo.apply(\n",
    "    lambda row: Point(row['geolocation_lng'], row['geolocation_lat']), axis=1\n",
    ")\n",
    "gdf_customers = gpd.GeoDataFrame(customer_geo, geometry='geometry', crs='EPSG:4326')"
   ]
  },
  {
   "cell_type": "markdown",
   "id": "85fc4dc5",
   "metadata": {},
   "source": [
    "#### 3. Membuat GeoDataFrame untuk pelanggan dengan cara menggabungkan customers_df dan geolocation_df berdasarkan zip_code_prefix"
   ]
  },
  {
   "cell_type": "code",
   "execution_count": 195,
   "id": "94f1c449",
   "metadata": {},
   "outputs": [],
   "source": [
    "seller_geo = sellers_df.merge(\n",
    "    geolocation_df.groupby('geolocation_zip_code_prefix').first().reset_index(),\n",
    "    left_on='seller_zip_code_prefix',\n",
    "    right_on='geolocation_zip_code_prefix',\n",
    "    how='left'\n",
    ")\n",
    "seller_geo = seller_geo.dropna(subset=['geolocation_lat', 'geolocation_lng'])\n",
    "seller_geo['geometry'] = seller_geo.apply(\n",
    "    lambda row: Point(row['geolocation_lng'], row['geolocation_lat']), axis=1\n",
    ")\n",
    "gdf_sellers = gpd.GeoDataFrame(seller_geo, geometry='geometry', crs='EPSG:4326')"
   ]
  },
  {
   "cell_type": "markdown",
   "id": "8d74592d",
   "metadata": {},
   "source": [
    "#### 4. Visualisasi sebaran pelanggan dan penjual"
   ]
  },
  {
   "cell_type": "code",
   "execution_count": 196,
   "id": "71ad8207",
   "metadata": {},
   "outputs": [
    {
     "data": {
      "image/png": "[encoded data removed]",
      "text/plain": [
       "<Figure size 1200x1200 with 1 Axes>"
      ]
     },
     "metadata": {},
     "output_type": "display_data"
    }
   ],
   "source": [
    "brazil_states = gpd.read_file('data/brazil_states_shapefile/brazil_states_shapefile.shp')\n",
    "fig, ax = plt.subplots(figsize=(12, 12))\n",
    "brazil_states.plot(ax=ax, color='whitesmoke', edgecolor='gray')\n",
    "gdf_customers.sample(2000).plot(ax=ax, markersize=2, color='blue', alpha=0.3, label='Customers')\n",
    "gdf_sellers.plot(ax=ax, markersize=10, color='red', alpha=0.5, label='Sellers')\n",
    "plt.title('Sebaran Geospasial Pelanggan dan Penjual di Brazil')\n",
    "plt.xlabel('Longitude')\n",
    "plt.ylabel('Latitude')\n",
    "plt.legend()\n",
    "plt.show()"
   ]
  },
  {
   "cell_type": "markdown",
   "id": "b643d5a2",
   "metadata": {},
   "source": [
    "#### 5. Analisis geospasial performa pengiriman (rata-rata waktu pengiriman per state)"
   ]
  },
  {
   "cell_type": "code",
   "execution_count": 197,
   "id": "abbb9761",
   "metadata": {},
   "outputs": [
    {
     "data": {
      "image/png": "[encoded data removed]",
      "text/plain": [
       "<Figure size 1200x800 with 2 Axes>"
      ]
     },
     "metadata": {},
     "output_type": "display_data"
    }
   ],
   "source": [
    "delivery_geo = delivery_review_df.merge(customers_df[['customer_id', 'customer_state']], on='customer_id', how='left')\n",
    "state_delivery = delivery_geo.groupby('customer_state')['delivery_time_days'].mean().reset_index()\n",
    "state_delivery['NM_UF'] = state_delivery['customer_state'].map(uf_mapping)\n",
    "\n",
    "brazil_states = gpd.read_file('data/brazil_states_shapefile/brazil_states_shapefile.shp')\n",
    "state_delivery_map = brazil_states.merge(state_delivery, left_on='NM_UF', right_on='NM_UF', how='left')\n",
    "state_delivery_map.plot(column='delivery_time_days', cmap='OrRd', legend=True, figsize=(12,8))\n",
    "plt.title('Rata-rata Waktu Pengiriman per State dalam satuan hari')\n",
    "plt.show()"
   ]
  },
  {
   "cell_type": "markdown",
   "id": "5935abad",
   "metadata": {},
   "source": [
    "#### 5. Analisis geospasial rating review per state"
   ]
  },
  {
   "cell_type": "code",
   "execution_count": 198,
   "id": "93504816",
   "metadata": {},
   "outputs": [
    {
     "data": {
      "image/png": "[encoded data removed]",
      "text/plain": [
       "<Figure size 1200x800 with 2 Axes>"
      ]
     },
     "metadata": {},
     "output_type": "display_data"
    }
   ],
   "source": [
    "state_rating = delivery_geo.groupby('customer_state')['review_score'].mean().reset_index()\n",
    "state_rating['NM_UF'] = state_rating['customer_state'].map(uf_mapping)\n",
    "\n",
    "brazil_states = gpd.read_file('data/brazil_states_shapefile/brazil_states_shapefile.shp')\n",
    "state_rating_map = brazil_states.merge(state_rating, left_on='NM_UF', right_on='NM_UF', how='left')\n",
    "\n",
    "fig, ax = plt.subplots(figsize=(12,8))\n",
    "brazil_states.plot(ax=ax, color='whitesmoke', edgecolor='gray')  # Basemap Brazil\n",
    "state_rating_map.plot(column='review_score', cmap='YlGnBu', legend=True, ax=ax)\n",
    "plt.title('Rata-rata Rating Review per State')\n",
    "plt.xlabel('Longitude')\n",
    "plt.ylabel('Latitude')\n",
    "plt.show()"
   ]
  },
  {
   "cell_type": "markdown",
   "id": "a41589bc",
   "metadata": {},
   "source": [
    "### Insight :"
   ]
  },
  {
   "cell_type": "markdown",
   "id": "74c65028",
   "metadata": {},
   "source": [
    "- Sebaran pelanggan dan penjual tidak merata, area dengan konsentrasi tinggi bisa menjadi fokus optimasi logistik.\n",
    "- Rata-rata waktu pengiriman dan rating review per state dapat mengidentifikasi wilayah dengan performa rendah untuk prioritas perbaikan.\n",
    "- Analisis ini membantu pengambilan keputusan berbasis lokasi untuk meningkatkan kepuasan pelanggan dan efisiensi operasional.\n",
    "\n"
   ]
  },
  {
   "cell_type": "markdown",
   "id": "f87ef4cd",
   "metadata": {},
   "source": [
    "# Conclusion"
   ]
  },
  {
   "cell_type": "markdown",
   "id": "36aef3f0",
   "metadata": {},
   "source": [
    "#### 1. Conclusion pertanyaan 1"
   ]
  },
  {
   "cell_type": "markdown",
   "id": "de422ea2",
   "metadata": {},
   "source": [
    "- Terdapat korelasi negatif antara waktu pengiriman dan rating review (korelasi: -0.22). Semakin lama pengiriman, semakin rendah rating yang diberikan pelanggan.\n",
    "- Rata-rata waktu pengiriman untuk rating 5 adalah 8.63 hari, sedangkan untuk rating 1 adalah 13.78 hari.\n",
    "- Pengiriman tepat waktu (±1 hari dari estimasi) mendapat rating rata-rata 4.38, sedangkan pengiriman sangat terlambat (>3 hari) hanya 2.34.\n",
    "- Strategi untuk meningkatkan rating rata-rata sebesar 0.5 poin dalam 90 hari ke depan:\n",
    "  - Percepat dan pastikan ketepatan pengiriman, terutama di wilayah dan kategori produk dengan performa rendah.\n",
    "  - Edukasi dan monitoring seller terkait standar pengiriman.\n",
    "  - Proaktif memberi kompensasi atau solusi pada kasus keterlambatan.\n",
    "  - Pantau tren rating bulanan untuk evaluasi efektivitas strategi."
   ]
  },
  {
   "cell_type": "markdown",
   "id": "6a206093",
   "metadata": {},
   "source": [
    "#### 2. Conclusion pertanyaan 2"
   ]
  },
  {
   "cell_type": "markdown",
   "id": "e876fc08",
   "metadata": {},
   "source": [
    "- Hanya 0.64% pelanggan yang memberi review negatif (1-2 bintang) melakukan pembelian ulang dalam 30 hari.\n",
    "- Namun, dari pelanggan yang repurchase, 37.06% (rating 1) dan 31.25% (rating 2) melakukan pembelian ulang dalam 30 hari.\n",
    "- Strategi untuk meningkatkan tingkat pembelian ulang pelanggan negatif:\n",
    "  - Lakukan follow-up personal (misal, voucher atau diskon) ke pelanggan dengan review buruk.\n",
    "  - Perbaiki pengalaman pada kategori produk dan wilayah dengan review negatif tinggi.\n",
    "  - Implementasi program loyalitas khusus untuk pelanggan yang pernah kecewa.\n",
    "  - Evaluasi dan pantau hasil secara bulanan untuk memastikan target kenaikan repurchase tercapai."
   ]
  },
  {
   "cell_type": "markdown",
   "id": "d7fb8197",
   "metadata": {},
   "source": [
    "Kesimpulan utama:  \n",
    "Perbaikan kecepatan dan ketepatan pengiriman adalah kunci utama untuk menaikkan rating. Untuk meningkatkan repurchase pelanggan negatif, dibutuhkan pendekatan personal, perbaikan layanan, dan insentif khusus. Analisis geospasial dapat membantu memfokuskan upaya pada wilayah dan kategori produk yang paling membutuhkan perbaikan."
   ]
  }
 ],
 "metadata": {
  "kernelspec": {
   "display_name": "Python 3 (ipykernel)",
   "language": "python",
   "name": "python3"
  },
  "language_info": {
   "codemirror_mode": {
    "name": "ipython",
    "version": 3
   },
   "file_extension": ".py",
   "mimetype": "text/x-python",
   "name": "python",
   "nbconvert_exporter": "python",
   "pygments_lexer": "ipython3",
   "version": "3.12.8"
  }
 },
 "nbformat": 4,
 "nbformat_minor": 5
}
